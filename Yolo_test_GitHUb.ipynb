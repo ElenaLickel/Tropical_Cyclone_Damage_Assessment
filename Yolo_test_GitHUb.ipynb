{
 "cells": [
  {
   "cell_type": "markdown",
   "metadata": {},
   "source": []
  },
  {
   "cell_type": "markdown",
   "metadata": {},
   "source": [
    "# YOLO Label Conversion and Visualization\n",
    "\n",
    "This script demonstrates how to convert label files from LabelMe to YOLO format, and then visualize the results using matplotlib. The following libraries are used:\n",
    "\n",
    "- `labelme2yolo`: A module to convert LabelMe annotations to YOLO format.\n",
    "- `json` and `os`: Built-in Python libraries for handling JSON data and operating system functionalities, respectively.\n",
    "- `ultralytics.YOLO`: A library to work with YOLO (You Only Look Once) models.\n",
    "- `matplotlib.pyplot`: A plotting library used for visualization.\n",
    "- `PIL.Image`: A library for image processing."
   ]
  },
  {
   "cell_type": "code",
   "execution_count": 1,
   "metadata": {},
   "outputs": [
    {
     "name": "stdout",
     "output_type": "stream",
     "text": [
      "/Users/elenalickel/Desktop/EY_Challenge/EY_Challengev2\n"
     ]
    }
   ],
   "source": [
    "import labelme2yolo\n",
    "import json\n",
    "import os\n",
    "from ultralytics import YOLO\n",
    "from matplotlib import pyplot as plt\n",
    "import matplotlib.image as img\n",
    "from matplotlib.pyplot import figure\n",
    "from PIL import Image\n",
    "\n",
    "print(os.getcwd())"
   ]
  },
  {
   "cell_type": "markdown",
   "metadata": {},
   "source": [
    "# JSON File Processing and Image Path Modification\n",
    "\n",
    "This script processes JSON files in a specified folder to modify the `imagePath` attribute. The following steps are performed:\n",
    "\n",
    "1. Iterate over all JSON files in the specified folder.\n",
    "2. Open and read each JSON file.\n",
    "3. Check if the `imagePath` attribute exists.\n",
    "4. Modify the `imagePath` attribute to only include the filename, removing any preceding path.\n",
    "5. Save the modified data back to the JSON file.\n",
    "6. Print the contents of a specific JSON file to verify the changes."
   ]
  },
  {
   "cell_type": "code",
   "execution_count": 2,
   "metadata": {},
   "outputs": [
    {
     "name": "stdout",
     "output_type": "stream",
     "text": [
      "Processing complete. Image paths have been updated.\n"
     ]
    },
    {
     "data": {
      "text/plain": [
       "'tile_0_30.tif'"
      ]
     },
     "execution_count": 2,
     "metadata": {},
     "output_type": "execute_result"
    }
   ],
   "source": [
    "folder_path = 'Intersecting_Batches-4'\n",
    "\n",
    "# Iterate over all files in the folder\n",
    "for filename in os.listdir(folder_path):\n",
    "    if filename.endswith('.json'):  # Check if the file is a JSON file\n",
    "        file_path = os.path.join(folder_path, filename)\n",
    "\n",
    "        # Open and read the JSON file\n",
    "        with open(file_path, 'r') as file:\n",
    "            data = json.load(file)\n",
    "\n",
    "        # Check if 'ImagePath' exists in the dictionary and modify it\n",
    "        if 'imagePath' in data:\n",
    "            data['imagePath'] = data['imagePath'].split('/')[-1]\n",
    "\n",
    "        # Save the modified data back to the JSON file\n",
    "        with open(file_path, 'w') as file:\n",
    "            json.dump(data, file, indent=4)\n",
    "\n",
    "print(\"Processing complete. Image paths have been updated.\")\n",
    "\n",
    "file_path = 'Intersecting_Batches-4/tile_0_30.json'\n",
    "\n",
    "# Open and read the JSON file\n",
    "with open(file_path, 'r') as file:\n",
    "    data = json.load(file)\n",
    "\n",
    "# Print the contents of the JSON file\n",
    "data['imagePath']\n"
   ]
  },
  {
   "cell_type": "code",
   "execution_count": 3,
   "metadata": {},
   "outputs": [
    {
     "data": {
      "text/plain": [
       "{'version': '5.4.1',\n",
       " 'flags': {},\n",
       " 'shapes': [{'label': '2',\n",
       "   'points': [[230.203821656051, 14.280254777070073],\n",
       "    [302.81528662420385, 90.07643312101912]],\n",
       "   'group_id': None,\n",
       "   'description': '',\n",
       "   'shape_type': 'rectangle',\n",
       "   'flags': {},\n",
       "   'mask': None},\n",
       "  {'label': '2',\n",
       "   'points': [[303.45222929936307, 16.19108280254778],\n",
       "    [367.14649681528664, 81.79617834394905]],\n",
       "   'group_id': None,\n",
       "   'description': '',\n",
       "   'shape_type': 'rectangle',\n",
       "   'flags': {},\n",
       "   'mask': None},\n",
       "  {'label': '2',\n",
       "   'points': [[366.5095541401274, 18.73885350318472],\n",
       "    [455.04458598726114, 79.88535031847135]],\n",
       "   'group_id': None,\n",
       "   'description': '',\n",
       "   'shape_type': 'rectangle',\n",
       "   'flags': {},\n",
       "   'mask': None},\n",
       "  {'label': '2',\n",
       "   'points': [[346.12738853503186, 90.07643312101912],\n",
       "    [407.27388535031844, 120.64968152866243]],\n",
       "   'group_id': None,\n",
       "   'description': '',\n",
       "   'shape_type': 'rectangle',\n",
       "   'flags': {},\n",
       "   'mask': None},\n",
       "  {'label': '2',\n",
       "   'points': [[281.79617834394907, 118.73885350318473],\n",
       "    [327.0191082802548, 197.0828025477707]],\n",
       "   'group_id': None,\n",
       "   'description': '',\n",
       "   'shape_type': 'rectangle',\n",
       "   'flags': {},\n",
       "   'mask': None},\n",
       "  {'label': '0',\n",
       "   'points': [[444.21656050955414, 233.38853503184714],\n",
       "    [477.3375796178344, 288.1656050955414]],\n",
       "   'group_id': None,\n",
       "   'description': '',\n",
       "   'shape_type': 'rectangle',\n",
       "   'flags': {},\n",
       "   'mask': None},\n",
       "  {'label': '1',\n",
       "   'points': [[357.5923566878981, 228.29299363057325],\n",
       "    [397.0828025477707, 287.52866242038215]],\n",
       "   'group_id': None,\n",
       "   'description': '',\n",
       "   'shape_type': 'rectangle',\n",
       "   'flags': {},\n",
       "   'mask': None},\n",
       "  {'label': '1',\n",
       "   'points': [[306.0, 224.47133757961785],\n",
       "    [350.5859872611465, 282.4331210191083]],\n",
       "   'group_id': None,\n",
       "   'description': '',\n",
       "   'shape_type': 'rectangle',\n",
       "   'flags': {},\n",
       "   'mask': None},\n",
       "  {'label': '0',\n",
       "   'points': [[406.0, 342.30573248407643],\n",
       "    [441.66878980891715, 400.26751592356686]],\n",
       "   'group_id': None,\n",
       "   'description': '',\n",
       "   'shape_type': 'rectangle',\n",
       "   'flags': {},\n",
       "   'mask': None},\n",
       "  {'label': '1',\n",
       "   'points': [[447.4012738853503, 344.21656050955414],\n",
       "    [486.2547770700637, 407.2738853503185]],\n",
       "   'group_id': None,\n",
       "   'description': '',\n",
       "   'shape_type': 'rectangle',\n",
       "   'flags': {},\n",
       "   'mask': None},\n",
       "  {'label': '1',\n",
       "   'points': [[360.7770700636943, 343.5796178343949],\n",
       "    [399.6305732484077, 398.35668789808915]],\n",
       "   'group_id': None,\n",
       "   'description': '',\n",
       "   'shape_type': 'rectangle',\n",
       "   'flags': {},\n",
       "   'mask': None},\n",
       "  {'label': '1',\n",
       "   'points': [[453.13375796178343, 409.8216560509554],\n",
       "    [500.90445859872614, 487.52866242038215]],\n",
       "   'group_id': None,\n",
       "   'description': '',\n",
       "   'shape_type': 'rectangle',\n",
       "   'flags': {},\n",
       "   'mask': None},\n",
       "  {'label': '1',\n",
       "   'points': [[404.72611464968156, 408.54777070063693],\n",
       "    [451.2229299363057, 480.5222929936306]],\n",
       "   'group_id': None,\n",
       "   'description': '',\n",
       "   'shape_type': 'rectangle',\n",
       "   'flags': {},\n",
       "   'mask': None},\n",
       "  {'label': '0',\n",
       "   'points': [[377.97452229299364, 420.6496815286624],\n",
       "    [404.72611464968156, 470.968152866242]],\n",
       "   'group_id': None,\n",
       "   'description': '',\n",
       "   'shape_type': 'rectangle',\n",
       "   'flags': {},\n",
       "   'mask': None}],\n",
       " 'imagePath': 'tile_0_30.tif',\n",
       " 'imageData': None,\n",
       " 'imageHeight': 512,\n",
       " 'imageWidth': 512}"
      ]
     },
     "execution_count": 3,
     "metadata": {},
     "output_type": "execute_result"
    }
   ],
   "source": [
    "# Open and read the JSON file\n",
    "with open(file_path, 'r') as file:\n",
    "    data = json.load(file)\n",
    "# Print the contents of the JSON file\n",
    "data"
   ]
  },
  {
   "cell_type": "markdown",
   "metadata": {},
   "source": [
    "# TIFF to JPEG Conversion Script\n",
    "\n",
    "This script converts all TIFF files in a specified input directory to JPEG format and saves them to an output directory. The following steps are performed:\n",
    "\n",
    "1. Check if the output directory exists, and create it if it doesn't.\n",
    "2. Iterate through all files in the input directory.\n",
    "3. For each TIFF file, open and convert it to JPEG format.\n",
    "4. Save the converted JPEG file to the output directory."
   ]
  },
  {
   "cell_type": "code",
   "execution_count": 56,
   "metadata": {},
   "outputs": [
    {
     "name": "stdout",
     "output_type": "stream",
     "text": [
      "Converted tile_67_57.tif to JPEG and saved to Intersecting_Batches-4/jpeg/tile_67_57.jpg\n",
      "Converted tile_28_32.tif to JPEG and saved to Intersecting_Batches-4/jpeg/tile_28_32.jpg\n",
      "Converted tile_5_37.tif to JPEG and saved to Intersecting_Batches-4/jpeg/tile_5_37.jpg\n",
      "Converted tile_60_89.tif to JPEG and saved to Intersecting_Batches-4/jpeg/tile_60_89.jpg\n",
      "Converted tile_2_16.tif to JPEG and saved to Intersecting_Batches-4/jpeg/tile_2_16.jpg\n",
      "Converted tile_46_72.tif to JPEG and saved to Intersecting_Batches-4/jpeg/tile_46_72.jpg\n",
      "Converted tile_6_99.tif to JPEG and saved to Intersecting_Batches-4/jpeg/tile_6_99.jpg\n",
      "Converted tile_25_66.tif to JPEG and saved to Intersecting_Batches-4/jpeg/tile_25_66.jpg\n",
      "Converted tile_70_114.tif to JPEG and saved to Intersecting_Batches-4/jpeg/tile_70_114.jpg\n",
      "Converted tile_38_23.tif to JPEG and saved to Intersecting_Batches-4/jpeg/tile_38_23.jpg\n",
      "Converted tile_56_102.tif to JPEG and saved to Intersecting_Batches-4/jpeg/tile_56_102.jpg\n",
      "Converted tile_46_102.tif to JPEG and saved to Intersecting_Batches-4/jpeg/tile_46_102.jpg\n",
      "Converted tile_64_12.tif to JPEG and saved to Intersecting_Batches-4/jpeg/tile_64_12.jpg\n",
      "Converted tile_70_67.tif to JPEG and saved to Intersecting_Batches-4/jpeg/tile_70_67.jpg\n",
      "Converted tile_8_77.tif to JPEG and saved to Intersecting_Batches-4/jpeg/tile_8_77.jpg\n",
      "Converted tile_4_88.tif to JPEG and saved to Intersecting_Batches-4/jpeg/tile_4_88.jpg\n",
      "Converted tile_34_37.tif to JPEG and saved to Intersecting_Batches-4/jpeg/tile_34_37.jpg\n",
      "Converted tile_12_128.tif to JPEG and saved to Intersecting_Batches-4/jpeg/tile_12_128.jpg\n",
      "Converted tile_53_53.tif to JPEG and saved to Intersecting_Batches-4/jpeg/tile_53_53.jpg\n",
      "Converted tile_49_37.tif to JPEG and saved to Intersecting_Batches-4/jpeg/tile_49_37.jpg\n",
      "Converted tile_37_72.tif to JPEG and saved to Intersecting_Batches-4/jpeg/tile_37_72.jpg\n",
      "Converted tile_62_98.tif to JPEG and saved to Intersecting_Batches-4/jpeg/tile_62_98.jpg\n",
      "Converted tile_18_46.tif to JPEG and saved to Intersecting_Batches-4/jpeg/tile_18_46.jpg\n",
      "Converted tile_28_124.tif to JPEG and saved to Intersecting_Batches-4/jpeg/tile_28_124.jpg\n",
      "Converted tile_13_111.tif to JPEG and saved to Intersecting_Batches-4/jpeg/tile_13_111.jpg\n",
      "Converted tile_16_56.tif to JPEG and saved to Intersecting_Batches-4/jpeg/tile_16_56.jpg\n",
      "Converted tile_13_110.tif to JPEG and saved to Intersecting_Batches-4/jpeg/tile_13_110.jpg\n",
      "Converted tile_35_106.tif to JPEG and saved to Intersecting_Batches-4/jpeg/tile_35_106.jpg\n",
      "Converted tile_65_84.tif to JPEG and saved to Intersecting_Batches-4/jpeg/tile_65_84.jpg\n",
      "Converted tile_18_47.tif to JPEG and saved to Intersecting_Batches-4/jpeg/tile_18_47.jpg\n",
      "Converted tile_38_125.tif to JPEG and saved to Intersecting_Batches-4/jpeg/tile_38_125.jpg\n",
      "Converted tile_39_76.tif to JPEG and saved to Intersecting_Batches-4/jpeg/tile_39_76.jpg\n",
      "Converted tile_30_46.tif to JPEG and saved to Intersecting_Batches-4/jpeg/tile_30_46.jpg\n",
      "Converted tile_2_122.tif to JPEG and saved to Intersecting_Batches-4/jpeg/tile_2_122.jpg\n",
      "Converted tile_15_141.tif to JPEG and saved to Intersecting_Batches-4/jpeg/tile_15_141.jpg\n",
      "Converted tile_64_135.tif to JPEG and saved to Intersecting_Batches-4/jpeg/tile_64_135.jpg\n",
      "Converted tile_20_80.tif to JPEG and saved to Intersecting_Batches-4/jpeg/tile_20_80.jpg\n",
      "Converted tile_49_36.tif to JPEG and saved to Intersecting_Batches-4/jpeg/tile_49_36.jpg\n",
      "Converted tile_39_108.tif to JPEG and saved to Intersecting_Batches-4/jpeg/tile_39_108.jpg\n",
      "Converted tile_47_27.tif to JPEG and saved to Intersecting_Batches-4/jpeg/tile_47_27.jpg\n",
      "Converted tile_51_8.tif to JPEG and saved to Intersecting_Batches-4/jpeg/tile_51_8.jpg\n",
      "Converted tile_72_88.tif to JPEG and saved to Intersecting_Batches-4/jpeg/tile_72_88.jpg\n",
      "Converted tile_72_77.tif to JPEG and saved to Intersecting_Batches-4/jpeg/tile_72_77.jpg\n",
      "Converted tile_61_37.tif to JPEG and saved to Intersecting_Batches-4/jpeg/tile_61_37.jpg\n",
      "Converted tile_68_13.tif to JPEG and saved to Intersecting_Batches-4/jpeg/tile_68_13.jpg\n",
      "Converted tile_22_85.tif to JPEG and saved to Intersecting_Batches-4/jpeg/tile_22_85.jpg\n",
      "Converted tile_6_73.tif to JPEG and saved to Intersecting_Batches-4/jpeg/tile_6_73.jpg\n",
      "Converted tile_46_117.tif to JPEG and saved to Intersecting_Batches-4/jpeg/tile_46_117.jpg\n",
      "Converted tile_69_84.tif to JPEG and saved to Intersecting_Batches-4/jpeg/tile_69_84.jpg\n",
      "Converted tile_60_88.tif to JPEG and saved to Intersecting_Batches-4/jpeg/tile_60_88.jpg\n",
      "Converted tile_13_99.tif to JPEG and saved to Intersecting_Batches-4/jpeg/tile_13_99.jpg\n",
      "Converted tile_71_138.tif to JPEG and saved to Intersecting_Batches-4/jpeg/tile_71_138.jpg\n",
      "Converted tile_47_112.tif to JPEG and saved to Intersecting_Batches-4/jpeg/tile_47_112.jpg\n",
      "Converted tile_14_84.tif to JPEG and saved to Intersecting_Batches-4/jpeg/tile_14_84.jpg\n",
      "Converted tile_28_33.tif to JPEG and saved to Intersecting_Batches-4/jpeg/tile_28_33.jpg\n",
      "Converted tile_35_62.tif to JPEG and saved to Intersecting_Batches-4/jpeg/tile_35_62.jpg\n",
      "Converted tile_46_98.tif to JPEG and saved to Intersecting_Batches-4/jpeg/tile_46_98.jpg\n",
      "Converted tile_32_69.tif to JPEG and saved to Intersecting_Batches-4/jpeg/tile_32_69.jpg\n",
      "Converted tile_28_31.tif to JPEG and saved to Intersecting_Batches-4/jpeg/tile_28_31.jpg\n",
      "Converted tile_7_139.tif to JPEG and saved to Intersecting_Batches-4/jpeg/tile_7_139.jpg\n",
      "Converted tile_7_111.tif to JPEG and saved to Intersecting_Batches-4/jpeg/tile_7_111.jpg\n",
      "Converted tile_26_20.tif to JPEG and saved to Intersecting_Batches-4/jpeg/tile_26_20.jpg\n",
      "Converted tile_57_110.tif to JPEG and saved to Intersecting_Batches-4/jpeg/tile_57_110.jpg\n",
      "Converted tile_67_83.tif to JPEG and saved to Intersecting_Batches-4/jpeg/tile_67_83.jpg\n",
      "Converted tile_20_121.tif to JPEG and saved to Intersecting_Batches-4/jpeg/tile_20_121.jpg\n",
      "Converted tile_46_71.tif to JPEG and saved to Intersecting_Batches-4/jpeg/tile_46_71.jpg\n",
      "Converted tile_32_82.tif to JPEG and saved to Intersecting_Batches-4/jpeg/tile_32_82.jpg\n",
      "Converted tile_70_117.tif to JPEG and saved to Intersecting_Batches-4/jpeg/tile_70_117.jpg\n",
      "Converted tile_51_82.tif to JPEG and saved to Intersecting_Batches-4/jpeg/tile_51_82.jpg\n",
      "Converted tile_63_18.tif to JPEG and saved to Intersecting_Batches-4/jpeg/tile_63_18.jpg\n",
      "Converted tile_6_114.tif to JPEG and saved to Intersecting_Batches-4/jpeg/tile_6_114.jpg\n",
      "Converted tile_42_15.tif to JPEG and saved to Intersecting_Batches-4/jpeg/tile_42_15.jpg\n",
      "Converted tile_10_35.tif to JPEG and saved to Intersecting_Batches-4/jpeg/tile_10_35.jpg\n",
      "Converted tile_56_60.tif to JPEG and saved to Intersecting_Batches-4/jpeg/tile_56_60.jpg\n",
      "Converted tile_1_78.tif to JPEG and saved to Intersecting_Batches-4/jpeg/tile_1_78.jpg\n",
      "Converted tile_10_21.tif to JPEG and saved to Intersecting_Batches-4/jpeg/tile_10_21.jpg\n",
      "Converted tile_29_59.tif to JPEG and saved to Intersecting_Batches-4/jpeg/tile_29_59.jpg\n",
      "Converted tile_65_132.tif to JPEG and saved to Intersecting_Batches-4/jpeg/tile_65_132.jpg\n",
      "Converted tile_53_124.tif to JPEG and saved to Intersecting_Batches-4/jpeg/tile_53_124.jpg\n",
      "Converted tile_29_71.tif to JPEG and saved to Intersecting_Batches-4/jpeg/tile_29_71.jpg\n",
      "Converted tile_3_131.tif to JPEG and saved to Intersecting_Batches-4/jpeg/tile_3_131.jpg\n",
      "Converted tile_43_130.tif to JPEG and saved to Intersecting_Batches-4/jpeg/tile_43_130.jpg\n",
      "Converted tile_3_41.tif to JPEG and saved to Intersecting_Batches-4/jpeg/tile_3_41.jpg\n",
      "Converted tile_54_65.tif to JPEG and saved to Intersecting_Batches-4/jpeg/tile_54_65.jpg\n",
      "Converted tile_12_30.tif to JPEG and saved to Intersecting_Batches-4/jpeg/tile_12_30.jpg\n",
      "Converted tile_15_39.tif to JPEG and saved to Intersecting_Batches-4/jpeg/tile_15_39.jpg\n",
      "Converted tile_20_82.tif to JPEG and saved to Intersecting_Batches-4/jpeg/tile_20_82.jpg\n",
      "Converted tile_39_48.tif to JPEG and saved to Intersecting_Batches-4/jpeg/tile_39_48.jpg\n",
      "Converted tile_13_106.tif to JPEG and saved to Intersecting_Batches-4/jpeg/tile_13_106.jpg\n",
      "Converted tile_44_60.tif to JPEG and saved to Intersecting_Batches-4/jpeg/tile_44_60.jpg\n",
      "Converted tile_7_24.tif to JPEG and saved to Intersecting_Batches-4/jpeg/tile_7_24.jpg\n",
      "Converted tile_69_129.tif to JPEG and saved to Intersecting_Batches-4/jpeg/tile_69_129.jpg\n",
      "Converted tile_30_45.tif to JPEG and saved to Intersecting_Batches-4/jpeg/tile_30_45.jpg\n",
      "Converted tile_65_50.tif to JPEG and saved to Intersecting_Batches-4/jpeg/tile_65_50.jpg\n",
      "Converted tile_33_140.tif to JPEG and saved to Intersecting_Batches-4/jpeg/tile_33_140.jpg\n",
      "Converted tile_2_109.tif to JPEG and saved to Intersecting_Batches-4/jpeg/tile_2_109.jpg\n",
      "Converted tile_69_101.tif to JPEG and saved to Intersecting_Batches-4/jpeg/tile_69_101.jpg\n",
      "Converted tile_18_87.tif to JPEG and saved to Intersecting_Batches-4/jpeg/tile_18_87.jpg\n",
      "Converted tile_12_102.tif to JPEG and saved to Intersecting_Batches-4/jpeg/tile_12_102.jpg\n",
      "Converted tile_3_68.tif to JPEG and saved to Intersecting_Batches-4/jpeg/tile_3_68.jpg\n",
      "Converted tile_53_51.tif to JPEG and saved to Intersecting_Batches-4/jpeg/tile_53_51.jpg\n",
      "Converted tile_34_21.tif to JPEG and saved to Intersecting_Batches-4/jpeg/tile_34_21.jpg\n",
      "Converted tile_43_125.tif to JPEG and saved to Intersecting_Batches-4/jpeg/tile_43_125.jpg\n",
      "Converted tile_31_119.tif to JPEG and saved to Intersecting_Batches-4/jpeg/tile_31_119.jpg\n",
      "Converted tile_58_58.tif to JPEG and saved to Intersecting_Batches-4/jpeg/tile_58_58.jpg\n",
      "Converted tile_22_86.tif to JPEG and saved to Intersecting_Batches-4/jpeg/tile_22_86.jpg\n",
      "Converted tile_10_34.tif to JPEG and saved to Intersecting_Batches-4/jpeg/tile_10_34.jpg\n",
      "Converted tile_58_64.tif to JPEG and saved to Intersecting_Batches-4/jpeg/tile_58_64.jpg\n",
      "Converted tile_51_54.tif to JPEG and saved to Intersecting_Batches-4/jpeg/tile_51_54.jpg\n",
      "Converted tile_8_61.tif to JPEG and saved to Intersecting_Batches-4/jpeg/tile_8_61.jpg\n",
      "Converted tile_42_28.tif to JPEG and saved to Intersecting_Batches-4/jpeg/tile_42_28.jpg\n",
      "Converted tile_58_70.tif to JPEG and saved to Intersecting_Batches-4/jpeg/tile_58_70.jpg\n",
      "Converted tile_51_83.tif to JPEG and saved to Intersecting_Batches-4/jpeg/tile_51_83.jpg\n",
      "Converted tile_32_83.tif to JPEG and saved to Intersecting_Batches-4/jpeg/tile_32_83.jpg\n",
      "Converted tile_69_87.tif to JPEG and saved to Intersecting_Batches-4/jpeg/tile_69_87.jpg\n",
      "Converted tile_69_93.tif to JPEG and saved to Intersecting_Batches-4/jpeg/tile_69_93.jpg\n",
      "Converted tile_1_141.tif to JPEG and saved to Intersecting_Batches-4/jpeg/tile_1_141.jpg\n",
      "Converted tile_20_120.tif to JPEG and saved to Intersecting_Batches-4/jpeg/tile_20_120.jpg\n",
      "Converted tile_30_134.tif to JPEG and saved to Intersecting_Batches-4/jpeg/tile_30_134.jpg\n",
      "Converted tile_35_49.tif to JPEG and saved to Intersecting_Batches-4/jpeg/tile_35_49.jpg\n",
      "Converted tile_14_93.tif to JPEG and saved to Intersecting_Batches-4/jpeg/tile_14_93.jpg\n",
      "Converted tile_73_20.tif to JPEG and saved to Intersecting_Batches-4/jpeg/tile_73_20.jpg\n",
      "Converted tile_32_68.tif to JPEG and saved to Intersecting_Batches-4/jpeg/tile_32_68.jpg\n",
      "Converted tile_32_44.tif to JPEG and saved to Intersecting_Batches-4/jpeg/tile_32_44.jpg\n",
      "Converted tile_48_59.tif to JPEG and saved to Intersecting_Batches-4/jpeg/tile_48_59.jpg\n",
      "Converted tile_67_86.tif to JPEG and saved to Intersecting_Batches-4/jpeg/tile_67_86.jpg\n",
      "Converted tile_25_48.tif to JPEG and saved to Intersecting_Batches-4/jpeg/tile_25_48.jpg\n",
      "Converted tile_56_110.tif to JPEG and saved to Intersecting_Batches-4/jpeg/tile_56_110.jpg\n",
      "Converted tile_70_61.tif to JPEG and saved to Intersecting_Batches-4/jpeg/tile_70_61.jpg\n",
      "Converted tile_31_15.tif to JPEG and saved to Intersecting_Batches-4/jpeg/tile_31_15.jpg\n",
      "Converted tile_70_106.tif to JPEG and saved to Intersecting_Batches-4/jpeg/tile_70_106.jpg\n",
      "Converted tile_21_135.tif to JPEG and saved to Intersecting_Batches-4/jpeg/tile_21_135.jpg\n",
      "Converted tile_72_58.tif to JPEG and saved to Intersecting_Batches-4/jpeg/tile_72_58.jpg\n",
      "Converted tile_3_108.tif to JPEG and saved to Intersecting_Batches-4/jpeg/tile_3_108.jpg\n",
      "Converted tile_4_71.tif to JPEG and saved to Intersecting_Batches-4/jpeg/tile_4_71.jpg\n",
      "Converted tile_20_87.tif to JPEG and saved to Intersecting_Batches-4/jpeg/tile_20_87.jpg\n",
      "Converted tile_54_60.tif to JPEG and saved to Intersecting_Batches-4/jpeg/tile_54_60.jpg\n",
      "Converted tile_4_65.tif to JPEG and saved to Intersecting_Batches-4/jpeg/tile_4_65.jpg\n",
      "Converted tile_24_104.tif to JPEG and saved to Intersecting_Batches-4/jpeg/tile_24_104.jpg\n",
      "Converted tile_54_48.tif to JPEG and saved to Intersecting_Batches-4/jpeg/tile_54_48.jpg\n",
      "Converted tile_2_131.tif to JPEG and saved to Intersecting_Batches-4/jpeg/tile_2_131.jpg\n",
      "Converted tile_24_34.tif to JPEG and saved to Intersecting_Batches-4/jpeg/tile_24_34.jpg\n",
      "Converted tile_37_60.tif to JPEG and saved to Intersecting_Batches-4/jpeg/tile_37_60.jpg\n",
      "Converted tile_43_93.tif to JPEG and saved to Intersecting_Batches-4/jpeg/tile_43_93.jpg\n",
      "Converted tile_18_97.tif to JPEG and saved to Intersecting_Batches-4/jpeg/tile_18_97.jpg\n",
      "Converted tile_69_111.tif to JPEG and saved to Intersecting_Batches-4/jpeg/tile_69_111.jpg\n",
      "Converted tile_7_34.tif to JPEG and saved to Intersecting_Batches-4/jpeg/tile_7_34.jpg\n",
      "Converted tile_16_78.tif to JPEG and saved to Intersecting_Batches-4/jpeg/tile_16_78.jpg\n",
      "Converted tile_25_114.tif to JPEG and saved to Intersecting_Batches-4/jpeg/tile_25_114.jpg\n",
      "Converted tile_43_45.tif to JPEG and saved to Intersecting_Batches-4/jpeg/tile_43_45.jpg\n",
      "Converted tile_59_35.tif to JPEG and saved to Intersecting_Batches-4/jpeg/tile_59_35.jpg\n",
      "Converted tile_71_20.tif to JPEG and saved to Intersecting_Batches-4/jpeg/tile_71_20.jpg\n",
      "Converted tile_37_61.tif to JPEG and saved to Intersecting_Batches-4/jpeg/tile_37_61.jpg\n",
      "Converted tile_64_133.tif to JPEG and saved to Intersecting_Batches-4/jpeg/tile_64_133.jpg\n",
      "Converted tile_62_48.tif to JPEG and saved to Intersecting_Batches-4/jpeg/tile_62_48.jpg\n",
      "Converted tile_3_51.tif to JPEG and saved to Intersecting_Batches-4/jpeg/tile_3_51.jpg\n",
      "Converted tile_29_126.tif to JPEG and saved to Intersecting_Batches-4/jpeg/tile_29_126.jpg\n",
      "Converted tile_34_105.tif to JPEG and saved to Intersecting_Batches-4/jpeg/tile_34_105.jpg\n",
      "Converted tile_54_61.tif to JPEG and saved to Intersecting_Batches-4/jpeg/tile_54_61.jpg\n",
      "Converted tile_68_101.tif to JPEG and saved to Intersecting_Batches-4/jpeg/tile_68_101.jpg\n",
      "Converted tile_68_115.tif to JPEG and saved to Intersecting_Batches-4/jpeg/tile_68_115.jpg\n",
      "Converted tile_58_61.tif to JPEG and saved to Intersecting_Batches-4/jpeg/tile_58_61.jpg\n",
      "Converted tile_22_97.tif to JPEG and saved to Intersecting_Batches-4/jpeg/tile_22_97.jpg\n",
      "Converted tile_22_83.tif to JPEG and saved to Intersecting_Batches-4/jpeg/tile_22_83.jpg\n",
      "Converted tile_8_58.tif to JPEG and saved to Intersecting_Batches-4/jpeg/tile_8_58.jpg\n",
      "Converted tile_22_68.tif to JPEG and saved to Intersecting_Batches-4/jpeg/tile_22_68.jpg\n",
      "Converted tile_1_83.tif to JPEG and saved to Intersecting_Batches-4/jpeg/tile_1_83.jpg\n",
      "Converted tile_46_111.tif to JPEG and saved to Intersecting_Batches-4/jpeg/tile_46_111.jpg\n",
      "Converted tile_13_60.tif to JPEG and saved to Intersecting_Batches-4/jpeg/tile_13_60.jpg\n",
      "Converted tile_67_87.tif to JPEG and saved to Intersecting_Batches-4/jpeg/tile_67_87.jpg\n",
      "Converted tile_69_82.tif to JPEG and saved to Intersecting_Batches-4/jpeg/tile_69_82.jpg\n",
      "Converted tile_1_144.tif to JPEG and saved to Intersecting_Batches-4/jpeg/tile_1_144.jpg\n",
      "Converted tile_5_18.tif to JPEG and saved to Intersecting_Batches-4/jpeg/tile_5_18.jpg\n",
      "Converted tile_61_102.tif to JPEG and saved to Intersecting_Batches-4/jpeg/tile_61_102.jpg\n",
      "Converted tile_26_18.tif to JPEG and saved to Intersecting_Batches-4/jpeg/tile_26_18.jpg\n",
      "Converted tile_61_116.tif to JPEG and saved to Intersecting_Batches-4/jpeg/tile_61_116.jpg\n",
      "Converted tile_21_39.tif to JPEG and saved to Intersecting_Batches-4/jpeg/tile_21_39.jpg\n",
      "Converted tile_71_128.tif to JPEG and saved to Intersecting_Batches-4/jpeg/tile_71_128.jpg\n",
      "Converted tile_26_26.tif to JPEG and saved to Intersecting_Batches-4/jpeg/tile_26_26.jpg\n",
      "Converted tile_35_66.tif to JPEG and saved to Intersecting_Batches-4/jpeg/tile_35_66.jpg\n",
      "Converted tile_14_43.tif to JPEG and saved to Intersecting_Batches-4/jpeg/tile_14_43.jpg\n",
      "Converted tile_69_94.tif to JPEG and saved to Intersecting_Batches-4/jpeg/tile_69_94.jpg\n",
      "Converted tile_8_99.tif to JPEG and saved to Intersecting_Batches-4/jpeg/tile_8_99.jpg\n",
      "Converted tile_36_37.tif to JPEG and saved to Intersecting_Batches-4/jpeg/tile_36_37.jpg\n",
      "Converted tile_70_62.tif to JPEG and saved to Intersecting_Batches-4/jpeg/tile_70_62.jpg\n",
      "Converted tile_6_63.tif to JPEG and saved to Intersecting_Batches-4/jpeg/tile_6_63.jpg\n",
      "Converted tile_65_108.tif to JPEG and saved to Intersecting_Batches-4/jpeg/tile_65_108.jpg\n",
      "Converted tile_20_53.tif to JPEG and saved to Intersecting_Batches-4/jpeg/tile_20_53.jpg\n",
      "Converted tile_20_47.tif to JPEG and saved to Intersecting_Batches-4/jpeg/tile_20_47.jpg\n",
      "Converted tile_68_17.tif to JPEG and saved to Intersecting_Batches-4/jpeg/tile_68_17.jpg\n",
      "Converted tile_65_134.tif to JPEG and saved to Intersecting_Batches-4/jpeg/tile_65_134.jpg\n",
      "Converted tile_3_84.tif to JPEG and saved to Intersecting_Batches-4/jpeg/tile_3_84.jpg\n",
      "Converted tile_4_66.tif to JPEG and saved to Intersecting_Batches-4/jpeg/tile_4_66.jpg\n",
      "Converted tile_27_99.tif to JPEG and saved to Intersecting_Batches-4/jpeg/tile_27_99.jpg\n",
      "Converted tile_34_107.tif to JPEG and saved to Intersecting_Batches-4/jpeg/tile_34_107.jpg\n",
      "Converted tile_72_98.tif to JPEG and saved to Intersecting_Batches-4/jpeg/tile_72_98.jpg\n",
      "Converted tile_37_77.tif to JPEG and saved to Intersecting_Batches-4/jpeg/tile_37_77.jpg\n",
      "Converted tile_71_22.tif to JPEG and saved to Intersecting_Batches-4/jpeg/tile_71_22.jpg\n",
      "Converted tile_9_26.tif to JPEG and saved to Intersecting_Batches-4/jpeg/tile_9_26.jpg\n",
      "Converted tile_43_47.tif to JPEG and saved to Intersecting_Batches-4/jpeg/tile_43_47.jpg\n",
      "Converted tile_59_140.tif to JPEG and saved to Intersecting_Batches-4/jpeg/tile_59_140.jpg\n",
      "Converted tile_13_101.tif to JPEG and saved to Intersecting_Batches-4/jpeg/tile_13_101.jpg\n",
      "Converted tile_9_141.tif to JPEG and saved to Intersecting_Batches-4/jpeg/tile_9_141.jpg\n",
      "Converted tile_69_107.tif to JPEG and saved to Intersecting_Batches-4/jpeg/tile_69_107.jpg\n",
      "Converted tile_18_95.tif to JPEG and saved to Intersecting_Batches-4/jpeg/tile_18_95.jpg\n",
      "Converted tile_16_90.tif to JPEG and saved to Intersecting_Batches-4/jpeg/tile_16_90.jpg\n",
      "Converted tile_24_36.tif to JPEG and saved to Intersecting_Batches-4/jpeg/tile_24_36.jpg\n",
      "Converted tile_52_132.tif to JPEG and saved to Intersecting_Batches-4/jpeg/tile_52_132.jpg\n",
      "Converted tile_34_112.tif to JPEG and saved to Intersecting_Batches-4/jpeg/tile_34_112.jpg\n",
      "Converted tile_53_43.tif to JPEG and saved to Intersecting_Batches-4/jpeg/tile_53_43.jpg\n",
      "Converted tile_54_76.tif to JPEG and saved to Intersecting_Batches-4/jpeg/tile_54_76.jpg\n",
      "Converted tile_3_85.tif to JPEG and saved to Intersecting_Batches-4/jpeg/tile_3_85.jpg\n",
      "Converted tile_43_123.tif to JPEG and saved to Intersecting_Batches-4/jpeg/tile_43_123.jpg\n",
      "Converted tile_45_27.tif to JPEG and saved to Intersecting_Batches-4/jpeg/tile_45_27.jpg\n",
      "Converted tile_22_80.tif to JPEG and saved to Intersecting_Batches-4/jpeg/tile_22_80.jpg\n",
      "Converted tile_25_89.tif to JPEG and saved to Intersecting_Batches-4/jpeg/tile_25_89.jpg\n",
      "Converted tile_56_73.tif to JPEG and saved to Intersecting_Batches-4/jpeg/tile_56_73.jpg\n",
      "Converted tile_25_62.tif to JPEG and saved to Intersecting_Batches-4/jpeg/tile_25_62.jpg\n",
      "Converted tile_38_33.tif to JPEG and saved to Intersecting_Batches-4/jpeg/tile_38_33.jpg\n",
      "Converted tile_56_112.tif to JPEG and saved to Intersecting_Batches-4/jpeg/tile_56_112.jpg\n",
      "Converted tile_60_138.tif to JPEG and saved to Intersecting_Batches-4/jpeg/tile_60_138.jpg\n",
      "Converted tile_70_138.tif to JPEG and saved to Intersecting_Batches-4/jpeg/tile_70_138.jpg\n",
      "Converted tile_55_9.tif to JPEG and saved to Intersecting_Batches-4/jpeg/tile_55_9.jpg\n",
      "Converted tile_13_63.tif to JPEG and saved to Intersecting_Batches-4/jpeg/tile_13_63.jpg\n",
      "Converted tile_20_126.tif to JPEG and saved to Intersecting_Batches-4/jpeg/tile_20_126.jpg\n",
      "Converted tile_67_47.tif to JPEG and saved to Intersecting_Batches-4/jpeg/tile_67_47.jpg\n",
      "Converted tile_71_101.tif to JPEG and saved to Intersecting_Batches-4/jpeg/tile_71_101.jpg\n",
      "Converted tile_13_88.tif to JPEG and saved to Intersecting_Batches-4/jpeg/tile_13_88.jpg\n",
      "Converted tile_73_41.tif to JPEG and saved to Intersecting_Batches-4/jpeg/tile_73_41.jpg\n",
      "Converted tile_36_110.tif to JPEG and saved to Intersecting_Batches-4/jpeg/tile_36_110.jpg\n",
      "Converted tile_14_25.tif to JPEG and saved to Intersecting_Batches-4/jpeg/tile_14_25.jpg\n",
      "Converted tile_31_64.tif to JPEG and saved to Intersecting_Batches-4/jpeg/tile_31_64.jpg\n",
      "Converted tile_25_39.tif to JPEG and saved to Intersecting_Batches-4/jpeg/tile_25_39.jpg\n",
      "Converted tile_11_103.tif to JPEG and saved to Intersecting_Batches-4/jpeg/tile_11_103.jpg\n",
      "Converted tile_17_74.tif to JPEG and saved to Intersecting_Batches-4/jpeg/tile_17_74.jpg\n",
      "Converted tile_51_35.tif to JPEG and saved to Intersecting_Batches-4/jpeg/tile_51_35.jpg\n",
      "Converted tile_63_87.tif to JPEG and saved to Intersecting_Batches-4/jpeg/tile_63_87.jpg\n",
      "Converted tile_58_11.tif to JPEG and saved to Intersecting_Batches-4/jpeg/tile_58_11.jpg\n",
      "Converted tile_45_68.tif to JPEG and saved to Intersecting_Batches-4/jpeg/tile_45_68.jpg\n",
      "Converted tile_72_29.tif to JPEG and saved to Intersecting_Batches-4/jpeg/tile_72_29.jpg\n",
      "Converted tile_32_130.tif to JPEG and saved to Intersecting_Batches-4/jpeg/tile_32_130.jpg\n",
      "Converted tile_68_65.tif to JPEG and saved to Intersecting_Batches-4/jpeg/tile_68_65.jpg\n",
      "Converted tile_32_124.tif to JPEG and saved to Intersecting_Batches-4/jpeg/tile_32_124.jpg\n",
      "Converted tile_14_126.tif to JPEG and saved to Intersecting_Batches-4/jpeg/tile_14_126.jpg\n",
      "Converted tile_68_59.tif to JPEG and saved to Intersecting_Batches-4/jpeg/tile_68_59.jpg\n",
      "Converted tile_61_96.tif to JPEG and saved to Intersecting_Batches-4/jpeg/tile_61_96.jpg\n",
      "Converted tile_53_30.tif to JPEG and saved to Intersecting_Batches-4/jpeg/tile_53_30.jpg\n",
      "Converted tile_49_68.tif to JPEG and saved to Intersecting_Batches-4/jpeg/tile_49_68.jpg\n",
      "Converted tile_48_122.tif to JPEG and saved to Intersecting_Batches-4/jpeg/tile_48_122.jpg\n",
      "Converted tile_5_114.tif to JPEG and saved to Intersecting_Batches-4/jpeg/tile_5_114.jpg\n",
      "Converted tile_18_128.tif to JPEG and saved to Intersecting_Batches-4/jpeg/tile_18_128.jpg\n",
      "Converted tile_30_18.tif to JPEG and saved to Intersecting_Batches-4/jpeg/tile_30_18.jpg\n",
      "Converted tile_62_38.tif to JPEG and saved to Intersecting_Batches-4/jpeg/tile_62_38.jpg\n",
      "Converted tile_23_58.tif to JPEG and saved to Intersecting_Batches-4/jpeg/tile_23_58.jpg\n",
      "Converted tile_9_126.tif to JPEG and saved to Intersecting_Batches-4/jpeg/tile_9_126.jpg\n",
      "Converted tile_54_104.tif to JPEG and saved to Intersecting_Batches-4/jpeg/tile_54_104.jpg\n",
      "Converted tile_59_51.tif to JPEG and saved to Intersecting_Batches-4/jpeg/tile_59_51.jpg\n",
      "Converted tile_16_34.tif to JPEG and saved to Intersecting_Batches-4/jpeg/tile_16_34.jpg\n",
      "Converted tile_9_54.tif to JPEG and saved to Intersecting_Batches-4/jpeg/tile_9_54.jpg\n",
      "Converted tile_54_110.tif to JPEG and saved to Intersecting_Batches-4/jpeg/tile_54_110.jpg\n",
      "Converted tile_59_44.tif to JPEG and saved to Intersecting_Batches-4/jpeg/tile_59_44.jpg\n",
      "Converted tile_7_78.tif to JPEG and saved to Intersecting_Batches-4/jpeg/tile_7_78.jpg\n",
      "Converted tile_9_55.tif to JPEG and saved to Intersecting_Batches-4/jpeg/tile_9_55.jpg\n",
      "Converted tile_24_93.tif to JPEG and saved to Intersecting_Batches-4/jpeg/tile_24_93.jpg\n",
      "Converted tile_71_51.tif to JPEG and saved to Intersecting_Batches-4/jpeg/tile_71_51.jpg\n",
      "Converted tile_5_101.tif to JPEG and saved to Intersecting_Batches-4/jpeg/tile_5_101.jpg\n",
      "Converted tile_47_44.tif to JPEG and saved to Intersecting_Batches-4/jpeg/tile_47_44.jpg\n",
      "Converted tile_22_131.tif to JPEG and saved to Intersecting_Batches-4/jpeg/tile_22_131.jpg\n",
      "Converted tile_29_38.tif to JPEG and saved to Intersecting_Batches-4/jpeg/tile_29_38.jpg\n",
      "Converted tile_68_64.tif to JPEG and saved to Intersecting_Batches-4/jpeg/tile_68_64.jpg\n",
      "Converted tile_1_19.tif to JPEG and saved to Intersecting_Batches-4/jpeg/tile_1_19.jpg\n",
      "Converted tile_8_29.tif to JPEG and saved to Intersecting_Batches-4/jpeg/tile_8_29.jpg\n",
      "Converted tile_19_64.tif to JPEG and saved to Intersecting_Batches-4/jpeg/tile_19_64.jpg\n",
      "Converted tile_38_82.tif to JPEG and saved to Intersecting_Batches-4/jpeg/tile_38_82.jpg\n",
      "Converted tile_45_55.tif to JPEG and saved to Intersecting_Batches-4/jpeg/tile_45_55.jpg\n",
      "Converted tile_36_50.tif to JPEG and saved to Intersecting_Batches-4/jpeg/tile_36_50.jpg\n",
      "Converted tile_31_59.tif to JPEG and saved to Intersecting_Batches-4/jpeg/tile_31_59.jpg\n",
      "Converted tile_11_116.tif to JPEG and saved to Intersecting_Batches-4/jpeg/tile_11_116.jpg\n",
      "Converted tile_45_82.tif to JPEG and saved to Intersecting_Batches-4/jpeg/tile_45_82.jpg\n",
      "Converted tile_51_120.tif to JPEG and saved to Intersecting_Batches-4/jpeg/tile_51_120.jpg\n",
      "Converted tile_73_97.tif to JPEG and saved to Intersecting_Batches-4/jpeg/tile_73_97.jpg\n",
      "Converted tile_52_9.tif to JPEG and saved to Intersecting_Batches-4/jpeg/tile_52_9.jpg\n",
      "Converted tile_2_48.tif to JPEG and saved to Intersecting_Batches-4/jpeg/tile_2_48.jpg\n",
      "Converted tile_28_44.tif to JPEG and saved to Intersecting_Batches-4/jpeg/tile_28_44.jpg\n",
      "Converted tile_36_105.tif to JPEG and saved to Intersecting_Batches-4/jpeg/tile_36_105.jpg\n",
      "Converted tile_5_96.tif to JPEG and saved to Intersecting_Batches-4/jpeg/tile_5_96.jpg\n",
      "Converted tile_73_56.tif to JPEG and saved to Intersecting_Batches-4/jpeg/tile_73_56.jpg\n",
      "Converted tile_5_80.tif to JPEG and saved to Intersecting_Batches-4/jpeg/tile_5_80.jpg\n",
      "Converted tile_10_111.tif to JPEG and saved to Intersecting_Batches-4/jpeg/tile_10_111.jpg\n",
      "Converted tile_55_52.tif to JPEG and saved to Intersecting_Batches-4/jpeg/tile_55_52.jpg\n",
      "Converted tile_67_134.tif to JPEG and saved to Intersecting_Batches-4/jpeg/tile_67_134.jpg\n",
      "Converted tile_52_67.tif to JPEG and saved to Intersecting_Batches-4/jpeg/tile_52_67.jpg\n",
      "Converted tile_51_136.tif to JPEG and saved to Intersecting_Batches-4/jpeg/tile_51_136.jpg\n",
      "Converted tile_67_108.tif to JPEG and saved to Intersecting_Batches-4/jpeg/tile_67_108.jpg\n",
      "Converted tile_2_62.tif to JPEG and saved to Intersecting_Batches-4/jpeg/tile_2_62.jpg\n",
      "Converted tile_63_47.tif to JPEG and saved to Intersecting_Batches-4/jpeg/tile_63_47.jpg\n",
      "Converted tile_3_6.tif to JPEG and saved to Intersecting_Batches-4/jpeg/tile_3_6.jpg\n",
      "Converted tile_40_133.tif to JPEG and saved to Intersecting_Batches-4/jpeg/tile_40_133.jpg\n",
      "Converted tile_10_42.tif to JPEG and saved to Intersecting_Batches-4/jpeg/tile_10_42.jpg\n",
      "Converted tile_33_62.tif to JPEG and saved to Intersecting_Batches-4/jpeg/tile_33_62.jpg\n",
      "Converted tile_66_88.tif to JPEG and saved to Intersecting_Batches-4/jpeg/tile_66_88.jpg\n",
      "Converted tile_63_114.tif to JPEG and saved to Intersecting_Batches-4/jpeg/tile_63_114.jpg\n",
      "Converted tile_3_36.tif to JPEG and saved to Intersecting_Batches-4/jpeg/tile_3_36.jpg\n",
      "Converted tile_61_95.tif to JPEG and saved to Intersecting_Batches-4/jpeg/tile_61_95.jpg\n",
      "Converted tile_45_116.tif to JPEG and saved to Intersecting_Batches-4/jpeg/tile_45_116.jpg\n",
      "Converted tile_54_12.tif to JPEG and saved to Intersecting_Batches-4/jpeg/tile_54_12.jpg\n",
      "Converted tile_34_80.tif to JPEG and saved to Intersecting_Batches-4/jpeg/tile_34_80.jpg\n",
      "Converted tile_73_128.tif to JPEG and saved to Intersecting_Batches-4/jpeg/tile_73_128.jpg\n",
      "Converted tile_0_98.tif to JPEG and saved to Intersecting_Batches-4/jpeg/tile_0_98.jpg\n",
      "Converted tile_23_67.tif to JPEG and saved to Intersecting_Batches-4/jpeg/tile_23_67.jpg\n",
      "Converted tile_30_33.tif to JPEG and saved to Intersecting_Batches-4/jpeg/tile_30_33.jpg\n",
      "Converted tile_15_120.tif to JPEG and saved to Intersecting_Batches-4/jpeg/tile_15_120.jpg\n",
      "Converted tile_47_7.tif to JPEG and saved to Intersecting_Batches-4/jpeg/tile_47_7.jpg\n",
      "Converted tile_49_118.tif to JPEG and saved to Intersecting_Batches-4/jpeg/tile_49_118.jpg\n",
      "Converted tile_16_37.tif to JPEG and saved to Intersecting_Batches-4/jpeg/tile_16_37.jpg\n",
      "Converted tile_59_124.tif to JPEG and saved to Intersecting_Batches-4/jpeg/tile_59_124.jpg\n",
      "Converted tile_24_91.tif to JPEG and saved to Intersecting_Batches-4/jpeg/tile_24_91.jpg\n",
      "Converted tile_16_23.tif to JPEG and saved to Intersecting_Batches-4/jpeg/tile_16_23.jpg\n",
      "Converted tile_49_124.tif to JPEG and saved to Intersecting_Batches-4/jpeg/tile_49_124.jpg\n",
      "Converted tile_4_113.tif to JPEG and saved to Intersecting_Batches-4/jpeg/tile_4_113.jpg\n",
      "Converted tile_54_112.tif to JPEG and saved to Intersecting_Batches-4/jpeg/tile_54_112.jpg\n",
      "Converted tile_50_63.tif to JPEG and saved to Intersecting_Batches-4/jpeg/tile_50_63.jpg\n",
      "Converted tile_59_90.tif to JPEG and saved to Intersecting_Batches-4/jpeg/tile_59_90.jpg\n",
      "Converted tile_42_143.tif to JPEG and saved to Intersecting_Batches-4/jpeg/tile_42_143.jpg\n",
      "Converted tile_2_142.tif to JPEG and saved to Intersecting_Batches-4/jpeg/tile_2_142.jpg\n",
      "Converted tile_64_141.tif to JPEG and saved to Intersecting_Batches-4/jpeg/tile_64_141.jpg\n",
      "Converted tile_57_81.tif to JPEG and saved to Intersecting_Batches-4/jpeg/tile_57_81.jpg\n",
      "Converted tile_40_72.tif to JPEG and saved to Intersecting_Batches-4/jpeg/tile_40_72.jpg\n",
      "Converted tile_63_129.tif to JPEG and saved to Intersecting_Batches-4/jpeg/tile_63_129.jpg\n",
      "Converted tile_15_67.tif to JPEG and saved to Intersecting_Batches-4/jpeg/tile_15_67.jpg\n",
      "Converted tile_12_85.tif to JPEG and saved to Intersecting_Batches-4/jpeg/tile_12_85.jpg\n",
      "Converted tile_20_37.tif to JPEG and saved to Intersecting_Batches-4/jpeg/tile_20_37.jpg\n",
      "Converted tile_42_77.tif to JPEG and saved to Intersecting_Batches-4/jpeg/tile_42_77.jpg\n",
      "Converted tile_1_32.tif to JPEG and saved to Intersecting_Batches-4/jpeg/tile_1_32.jpg\n",
      "Converted tile_1_26.tif to JPEG and saved to Intersecting_Batches-4/jpeg/tile_1_26.jpg\n",
      "Converted tile_63_85.tif to JPEG and saved to Intersecting_Batches-4/jpeg/tile_63_85.jpg\n",
      "Converted tile_50_8.tif to JPEG and saved to Intersecting_Batches-4/jpeg/tile_50_8.jpg\n",
      "Converted tile_10_94.tif to JPEG and saved to Intersecting_Batches-4/jpeg/tile_10_94.jpg\n",
      "Converted tile_19_98.tif to JPEG and saved to Intersecting_Batches-4/jpeg/tile_19_98.jpg\n",
      "Converted tile_31_72.tif to JPEG and saved to Intersecting_Batches-4/jpeg/tile_31_72.jpg\n",
      "Converted tile_63_52.tif to JPEG and saved to Intersecting_Batches-4/jpeg/tile_63_52.jpg\n",
      "Converted tile_42_88.tif to JPEG and saved to Intersecting_Batches-4/jpeg/tile_42_88.jpg\n",
      "Converted tile_31_66.tif to JPEG and saved to Intersecting_Batches-4/jpeg/tile_31_66.jpg\n",
      "Converted tile_1_136.tif to JPEG and saved to Intersecting_Batches-4/jpeg/tile_1_136.jpg\n",
      "Converted tile_28_84.tif to JPEG and saved to Intersecting_Batches-4/jpeg/tile_28_84.jpg\n",
      "Converted tile_73_94.tif to JPEG and saved to Intersecting_Batches-4/jpeg/tile_73_94.jpg\n",
      "Converted tile_55_84.tif to JPEG and saved to Intersecting_Batches-4/jpeg/tile_55_84.jpg\n",
      "Converted tile_10_100.tif to JPEG and saved to Intersecting_Batches-4/jpeg/tile_10_100.jpg\n",
      "Converted tile_55_94.tif to JPEG and saved to Intersecting_Batches-4/jpeg/tile_55_94.jpg\n",
      "Converted tile_5_52.tif to JPEG and saved to Intersecting_Batches-4/jpeg/tile_5_52.jpg\n",
      "Converted tile_3_3.tif to JPEG and saved to Intersecting_Batches-4/jpeg/tile_3_3.jpg\n",
      "Converted tile_37_107.tif to JPEG and saved to Intersecting_Batches-4/jpeg/tile_37_107.jpg\n",
      "Converted tile_38_46.tif to JPEG and saved to Intersecting_Batches-4/jpeg/tile_38_46.jpg\n",
      "Converted tile_45_91.tif to JPEG and saved to Intersecting_Batches-4/jpeg/tile_45_91.jpg\n",
      "Converted tile_19_77.tif to JPEG and saved to Intersecting_Batches-4/jpeg/tile_19_77.jpg\n",
      "Converted tile_45_46.tif to JPEG and saved to Intersecting_Batches-4/jpeg/tile_45_46.jpg\n",
      "Converted tile_1_36.tif to JPEG and saved to Intersecting_Batches-4/jpeg/tile_1_36.jpg\n",
      "Converted tile_66_66.tif to JPEG and saved to Intersecting_Batches-4/jpeg/tile_66_66.jpg\n",
      "Converted tile_8_125.tif to JPEG and saved to Intersecting_Batches-4/jpeg/tile_8_125.jpg\n",
      "Converted tile_45_107.tif to JPEG and saved to Intersecting_Batches-4/jpeg/tile_45_107.jpg\n",
      "Converted tile_3_27.tif to JPEG and saved to Intersecting_Batches-4/jpeg/tile_3_27.jpg\n",
      "Converted tile_53_36.tif to JPEG and saved to Intersecting_Batches-4/jpeg/tile_53_36.jpg\n",
      "Converted tile_47_43.tif to JPEG and saved to Intersecting_Batches-4/jpeg/tile_47_43.jpg\n",
      "Converted tile_15_77.tif to JPEG and saved to Intersecting_Batches-4/jpeg/tile_15_77.jpg\n",
      "Converted tile_18_106.tif to JPEG and saved to Intersecting_Batches-4/jpeg/tile_18_106.jpg\n",
      "Converted tile_71_56.tif to JPEG and saved to Intersecting_Batches-4/jpeg/tile_71_56.jpg\n",
      "Converted tile_59_121.tif to JPEG and saved to Intersecting_Batches-4/jpeg/tile_59_121.jpg\n",
      "Converted tile_23_89.tif to JPEG and saved to Intersecting_Batches-4/jpeg/tile_23_89.jpg\n",
      "Converted tile_59_135.tif to JPEG and saved to Intersecting_Batches-4/jpeg/tile_59_135.jpg\n",
      "Converted tile_9_108.tif to JPEG and saved to Intersecting_Batches-4/jpeg/tile_9_108.jpg\n",
      "Converted tile_71_81.tif to JPEG and saved to Intersecting_Batches-4/jpeg/tile_71_81.jpg\n",
      "Converted tile_59_108.tif to JPEG and saved to Intersecting_Batches-4/jpeg/tile_59_108.jpg\n",
      "Converted tile_24_95.tif to JPEG and saved to Intersecting_Batches-4/jpeg/tile_24_95.jpg\n",
      "Converted tile_15_118.tif to JPEG and saved to Intersecting_Batches-4/jpeg/tile_15_118.jpg\n",
      "Converted tile_64_144.tif to JPEG and saved to Intersecting_Batches-4/jpeg/tile_64_144.jpg\n",
      "Converted tile_33_132.tif to JPEG and saved to Intersecting_Batches-4/jpeg/tile_33_132.jpg\n",
      "Converted tile_59_95.tif to JPEG and saved to Intersecting_Batches-4/jpeg/tile_59_95.jpg\n",
      "Converted tile_30_23.tif to JPEG and saved to Intersecting_Batches-4/jpeg/tile_30_23.jpg\n",
      "Converted tile_61_91.tif to JPEG and saved to Intersecting_Batches-4/jpeg/tile_61_91.jpg\n",
      "Converted tile_45_106.tif to JPEG and saved to Intersecting_Batches-4/jpeg/tile_45_106.jpg\n",
      "Converted tile_55_112.tif to JPEG and saved to Intersecting_Batches-4/jpeg/tile_55_112.jpg\n",
      "Converted tile_48_125.tif to JPEG and saved to Intersecting_Batches-4/jpeg/tile_48_125.jpg\n",
      "Converted tile_34_90.tif to JPEG and saved to Intersecting_Batches-4/jpeg/tile_34_90.jpg\n",
      "Converted tile_5_113.tif to JPEG and saved to Intersecting_Batches-4/jpeg/tile_5_113.jpg\n",
      "Converted tile_22_123.tif to JPEG and saved to Intersecting_Batches-4/jpeg/tile_22_123.jpg\n",
      "Converted tile_14_121.tif to JPEG and saved to Intersecting_Batches-4/jpeg/tile_14_121.jpg\n",
      "Converted tile_11_110.tif to JPEG and saved to Intersecting_Batches-4/jpeg/tile_11_110.jpg\n",
      "Converted tile_70_17.tif to JPEG and saved to Intersecting_Batches-4/jpeg/tile_70_17.jpg\n",
      "Converted tile_51_126.tif to JPEG and saved to Intersecting_Batches-4/jpeg/tile_51_126.jpg\n",
      "Converted tile_21_72.tif to JPEG and saved to Intersecting_Batches-4/jpeg/tile_21_72.jpg\n",
      "Converted tile_55_95.tif to JPEG and saved to Intersecting_Batches-4/jpeg/tile_55_95.jpg\n",
      "Converted tile_73_78.tif to JPEG and saved to Intersecting_Batches-4/jpeg/tile_73_78.jpg\n",
      "Converted tile_67_19.tif to JPEG and saved to Intersecting_Batches-4/jpeg/tile_67_19.jpg\n",
      "Converted tile_10_117.tif to JPEG and saved to Intersecting_Batches-4/jpeg/tile_10_117.jpg\n",
      "Converted tile_26_115.tif to JPEG and saved to Intersecting_Batches-4/jpeg/tile_26_115.jpg\n",
      "Converted tile_5_86.tif to JPEG and saved to Intersecting_Batches-4/jpeg/tile_5_86.jpg\n",
      "Converted tile_52_75.tif to JPEG and saved to Intersecting_Batches-4/jpeg/tile_52_75.jpg\n",
      "Converted tile_5_79.tif to JPEG and saved to Intersecting_Batches-4/jpeg/tile_5_79.jpg\n",
      "Converted tile_67_132.tif to JPEG and saved to Intersecting_Batches-4/jpeg/tile_67_132.jpg\n",
      "Converted tile_2_58.tif to JPEG and saved to Intersecting_Batches-4/jpeg/tile_2_58.jpg\n",
      "Converted tile_1_119.tif to JPEG and saved to Intersecting_Batches-4/jpeg/tile_1_119.jpg\n",
      "Converted tile_31_49.tif to JPEG and saved to Intersecting_Batches-4/jpeg/tile_31_49.jpg\n",
      "Converted tile_64_74.tif to JPEG and saved to Intersecting_Batches-4/jpeg/tile_64_74.jpg\n",
      "Converted tile_56_11.tif to JPEG and saved to Intersecting_Batches-4/jpeg/tile_56_11.jpg\n",
      "Converted tile_17_59.tif to JPEG and saved to Intersecting_Batches-4/jpeg/tile_17_59.jpg\n",
      "Converted tile_10_78.tif to JPEG and saved to Intersecting_Batches-4/jpeg/tile_10_78.jpg\n",
      "Converted tile_1_21.tif to JPEG and saved to Intersecting_Batches-4/jpeg/tile_1_21.jpg\n",
      "Converted tile_17_65.tif to JPEG and saved to Intersecting_Batches-4/jpeg/tile_17_65.jpg\n",
      "Converted tile_51_30.tif to JPEG and saved to Intersecting_Batches-4/jpeg/tile_51_30.jpg\n",
      "Converted tile_68_48.tif to JPEG and saved to Intersecting_Batches-4/jpeg/tile_68_48.jpg\n",
      "Converted tile_49_92.tif to JPEG and saved to Intersecting_Batches-4/jpeg/tile_49_92.jpg\n",
      "Converted tile_22_121.tif to JPEG and saved to Intersecting_Batches-4/jpeg/tile_22_121.jpg\n",
      "Converted tile_32_121.tif to JPEG and saved to Intersecting_Batches-4/jpeg/tile_32_121.jpg\n",
      "Converted tile_15_48.tif to JPEG and saved to Intersecting_Batches-4/jpeg/tile_15_48.jpg\n",
      "Converted tile_40_75.tif to JPEG and saved to Intersecting_Batches-4/jpeg/tile_40_75.jpg\n",
      "Converted tile_9_45.tif to JPEG and saved to Intersecting_Batches-4/jpeg/tile_9_45.jpg\n",
      "Converted tile_9_137.tif to JPEG and saved to Intersecting_Batches-4/jpeg/tile_9_137.jpg\n",
      "Converted tile_9_79.tif to JPEG and saved to Intersecting_Batches-4/jpeg/tile_9_79.jpg\n",
      "Converted tile_71_97.tif to JPEG and saved to Intersecting_Batches-4/jpeg/tile_71_97.jpg\n",
      "Converted tile_72_116.tif to JPEG and saved to Intersecting_Batches-4/jpeg/tile_72_116.jpg\n",
      "Converted tile_57_44.tif to JPEG and saved to Intersecting_Batches-4/jpeg/tile_57_44.jpg\n",
      "Converted tile_9_122.tif to JPEG and saved to Intersecting_Batches-4/jpeg/tile_9_122.jpg\n",
      "Converted tile_71_54.tif to JPEG and saved to Intersecting_Batches-4/jpeg/tile_71_54.jpg\n",
      "Converted tile_57_93.tif to JPEG and saved to Intersecting_Batches-4/jpeg/tile_57_93.jpg\n",
      "Converted tile_9_93.tif to JPEG and saved to Intersecting_Batches-4/jpeg/tile_9_93.jpg\n",
      "Converted tile_73_113.tif to JPEG and saved to Intersecting_Batches-4/jpeg/tile_73_113.jpg\n",
      "Converted tile_49_78.tif to JPEG and saved to Intersecting_Batches-4/jpeg/tile_49_78.jpg\n",
      "Converted tile_8_127.tif to JPEG and saved to Intersecting_Batches-4/jpeg/tile_8_127.jpg\n",
      "Converted tile_47_69.tif to JPEG and saved to Intersecting_Batches-4/jpeg/tile_47_69.jpg\n",
      "Converted tile_15_49.tif to JPEG and saved to Intersecting_Batches-4/jpeg/tile_15_49.jpg\n",
      "Converted tile_58_126.tif to JPEG and saved to Intersecting_Batches-4/jpeg/tile_58_126.jpg\n",
      "Converted tile_32_120.tif to JPEG and saved to Intersecting_Batches-4/jpeg/tile_32_120.jpg\n",
      "Converted tile_68_61.tif to JPEG and saved to Intersecting_Batches-4/jpeg/tile_68_61.jpg\n",
      "Converted tile_27_38.tif to JPEG and saved to Intersecting_Batches-4/jpeg/tile_27_38.jpg\n",
      "Converted tile_19_101.tif to JPEG and saved to Intersecting_Batches-4/jpeg/tile_19_101.jpg\n",
      "Converted tile_58_15.tif to JPEG and saved to Intersecting_Batches-4/jpeg/tile_58_15.jpg\n",
      "Converted tile_38_93.tif to JPEG and saved to Intersecting_Batches-4/jpeg/tile_38_93.jpg\n",
      "Converted tile_56_10.tif to JPEG and saved to Intersecting_Batches-4/jpeg/tile_56_10.jpg\n",
      "Converted tile_70_28.tif to JPEG and saved to Intersecting_Batches-4/jpeg/tile_70_28.jpg\n",
      "Converted tile_11_107.tif to JPEG and saved to Intersecting_Batches-4/jpeg/tile_11_107.jpg\n",
      "Converted tile_25_29.tif to JPEG and saved to Intersecting_Batches-4/jpeg/tile_25_29.jpg\n",
      "Converted tile_64_75.tif to JPEG and saved to Intersecting_Batches-4/jpeg/tile_64_75.jpg\n",
      "Converted tile_64_61.tif to JPEG and saved to Intersecting_Batches-4/jpeg/tile_64_61.jpg\n",
      "Converted tile_48_10.tif to JPEG and saved to Intersecting_Batches-4/jpeg/tile_48_10.jpg\n",
      "Converted tile_2_71.tif to JPEG and saved to Intersecting_Batches-4/jpeg/tile_2_71.jpg\n",
      "Converted tile_51_125.tif to JPEG and saved to Intersecting_Batches-4/jpeg/tile_51_125.jpg\n",
      "Converted tile_28_55.tif to JPEG and saved to Intersecting_Batches-4/jpeg/tile_28_55.jpg\n",
      "Converted tile_55_82.tif to JPEG and saved to Intersecting_Batches-4/jpeg/tile_55_82.jpg\n",
      "Converted tile_32_31.tif to JPEG and saved to Intersecting_Batches-4/jpeg/tile_32_31.jpg\n",
      "Converted tile_73_79.tif to JPEG and saved to Intersecting_Batches-4/jpeg/tile_73_79.jpg\n",
      "Converted tile_67_29.tif to JPEG and saved to Intersecting_Batches-4/jpeg/tile_67_29.jpg\n",
      "Converted tile_69_10.tif to JPEG and saved to Intersecting_Batches-4/jpeg/tile_69_10.jpg\n",
      "Converted tile_21_68.tif to JPEG and saved to Intersecting_Batches-4/jpeg/tile_21_68.jpg\n",
      "Converted tile_32_14.tif to JPEG and saved to Intersecting_Batches-4/jpeg/tile_32_14.jpg\n",
      "Converted tile_67_8.tif to JPEG and saved to Intersecting_Batches-4/jpeg/tile_67_8.jpg\n",
      "Converted tile_2_40.tif to JPEG and saved to Intersecting_Batches-4/jpeg/tile_2_40.jpg\n",
      "Converted tile_51_114.tif to JPEG and saved to Intersecting_Batches-4/jpeg/tile_51_114.jpg\n",
      "Converted tile_64_78.tif to JPEG and saved to Intersecting_Batches-4/jpeg/tile_64_78.jpg\n",
      "Converted tile_19_87.tif to JPEG and saved to Intersecting_Batches-4/jpeg/tile_19_87.jpg\n",
      "Converted tile_42_97.tif to JPEG and saved to Intersecting_Batches-4/jpeg/tile_42_97.jpg\n",
      "Converted tile_11_122.tif to JPEG and saved to Intersecting_Batches-4/jpeg/tile_11_122.jpg\n",
      "Converted tile_1_11.tif to JPEG and saved to Intersecting_Batches-4/jpeg/tile_1_11.jpg\n",
      "Converted tile_8_35.tif to JPEG and saved to Intersecting_Batches-4/jpeg/tile_8_35.jpg\n",
      "Converted tile_45_61.tif to JPEG and saved to Intersecting_Batches-4/jpeg/tile_45_61.jpg\n",
      "Converted tile_58_18.tif to JPEG and saved to Intersecting_Batches-4/jpeg/tile_58_18.jpg\n",
      "Converted tile_68_144.tif to JPEG and saved to Intersecting_Batches-4/jpeg/tile_68_144.jpg\n",
      "Converted tile_27_21.tif to JPEG and saved to Intersecting_Batches-4/jpeg/tile_27_21.jpg\n",
      "Converted tile_27_35.tif to JPEG and saved to Intersecting_Batches-4/jpeg/tile_27_35.jpg\n",
      "Converted tile_68_44.tif to JPEG and saved to Intersecting_Batches-4/jpeg/tile_68_44.jpg\n",
      "Converted tile_34_61.tif to JPEG and saved to Intersecting_Batches-4/jpeg/tile_34_61.jpg\n",
      "Converted tile_14_107.tif to JPEG and saved to Intersecting_Batches-4/jpeg/tile_14_107.jpg\n",
      "Converted tile_19_130.tif to JPEG and saved to Intersecting_Batches-4/jpeg/tile_19_130.jpg\n",
      "Converted tile_68_93.tif to JPEG and saved to Intersecting_Batches-4/jpeg/tile_68_93.jpg\n",
      "Converted tile_73_136.tif to JPEG and saved to Intersecting_Batches-4/jpeg/tile_73_136.jpg\n",
      "Converted tile_40_79.tif to JPEG and saved to Intersecting_Batches-4/jpeg/tile_40_79.jpg\n",
      "Converted tile_68_87.tif to JPEG and saved to Intersecting_Batches-4/jpeg/tile_68_87.jpg\n",
      "Converted tile_45_108.tif to JPEG and saved to Intersecting_Batches-4/jpeg/tile_45_108.jpg\n",
      "Converted tile_4_21.tif to JPEG and saved to Intersecting_Batches-4/jpeg/tile_4_21.jpg\n",
      "Converted tile_12_142.tif to JPEG and saved to Intersecting_Batches-4/jpeg/tile_12_142.jpg\n",
      "Converted tile_3_28.tif to JPEG and saved to Intersecting_Batches-4/jpeg/tile_3_28.jpg\n",
      "Converted tile_8_116.tif to JPEG and saved to Intersecting_Batches-4/jpeg/tile_8_116.jpg\n",
      "Converted tile_4_35.tif to JPEG and saved to Intersecting_Batches-4/jpeg/tile_4_35.jpg\n",
      "Converted tile_18_109.tif to JPEG and saved to Intersecting_Batches-4/jpeg/tile_18_109.jpg\n",
      "Converted tile_37_24.tif to JPEG and saved to Intersecting_Batches-4/jpeg/tile_37_24.jpg\n",
      "Converted tile_69_141.tif to JPEG and saved to Intersecting_Batches-4/jpeg/tile_69_141.jpg\n",
      "Converted tile_0_86.tif to JPEG and saved to Intersecting_Batches-4/jpeg/tile_0_86.jpg\n",
      "Converted tile_24_70.tif to JPEG and saved to Intersecting_Batches-4/jpeg/tile_24_70.jpg\n",
      "Converted tile_33_128.tif to JPEG and saved to Intersecting_Batches-4/jpeg/tile_33_128.jpg\n",
      "Converted tile_65_38.tif to JPEG and saved to Intersecting_Batches-4/jpeg/tile_65_38.jpg\n",
      "Converted tile_23_86.tif to JPEG and saved to Intersecting_Batches-4/jpeg/tile_23_86.jpg\n",
      "Converted tile_4_118.tif to JPEG and saved to Intersecting_Batches-4/jpeg/tile_4_118.jpg\n",
      "Converted tile_37_4.tif to JPEG and saved to Intersecting_Batches-4/jpeg/tile_37_4.jpg\n",
      "Converted tile_54_7.tif to JPEG and saved to Intersecting_Batches-4/jpeg/tile_54_7.jpg\n",
      "Converted tile_9_75.tif to JPEG and saved to Intersecting_Batches-4/jpeg/tile_9_75.jpg\n",
      "Converted tile_37_5.tif to JPEG and saved to Intersecting_Batches-4/jpeg/tile_37_5.jpg\n",
      "Converted tile_50_55.tif to JPEG and saved to Intersecting_Batches-4/jpeg/tile_50_55.jpg\n",
      "Converted tile_44_130.tif to JPEG and saved to Intersecting_Batches-4/jpeg/tile_44_130.jpg\n",
      "Converted tile_62_132.tif to JPEG and saved to Intersecting_Batches-4/jpeg/tile_62_132.jpg\n",
      "Converted tile_23_87.tif to JPEG and saved to Intersecting_Batches-4/jpeg/tile_23_87.jpg\n",
      "Converted tile_24_65.tif to JPEG and saved to Intersecting_Batches-4/jpeg/tile_24_65.jpg\n",
      "Converted tile_69_140.tif to JPEG and saved to Intersecting_Batches-4/jpeg/tile_69_140.jpg\n",
      "Converted tile_62_18.tif to JPEG and saved to Intersecting_Batches-4/jpeg/tile_62_18.jpg\n",
      "Converted tile_8_103.tif to JPEG and saved to Intersecting_Batches-4/jpeg/tile_8_103.jpg\n",
      "Converted tile_40_44.tif to JPEG and saved to Intersecting_Batches-4/jpeg/tile_40_44.jpg\n",
      "Converted tile_73_123.tif to JPEG and saved to Intersecting_Batches-4/jpeg/tile_73_123.jpg\n",
      "Converted tile_5_108.tif to JPEG and saved to Intersecting_Batches-4/jpeg/tile_5_108.jpg\n",
      "Converted tile_47_65.tif to JPEG and saved to Intersecting_Batches-4/jpeg/tile_47_65.jpg\n",
      "Converted tile_63_123.tif to JPEG and saved to Intersecting_Batches-4/jpeg/tile_63_123.jpg\n",
      "Converted tile_3_15.tif to JPEG and saved to Intersecting_Batches-4/jpeg/tile_3_15.jpg\n",
      "Converted tile_29_31.tif to JPEG and saved to Intersecting_Batches-4/jpeg/tile_29_31.jpg\n",
      "Converted tile_68_45.tif to JPEG and saved to Intersecting_Batches-4/jpeg/tile_68_45.jpg\n",
      "Converted tile_15_92.tif to JPEG and saved to Intersecting_Batches-4/jpeg/tile_15_92.jpg\n",
      "Converted tile_40_110.tif to JPEG and saved to Intersecting_Batches-4/jpeg/tile_40_110.jpg\n",
      "Converted tile_0_111.tif to JPEG and saved to Intersecting_Batches-4/jpeg/tile_0_111.jpg\n",
      "Converted tile_50_138.tif to JPEG and saved to Intersecting_Batches-4/jpeg/tile_50_138.jpg\n",
      "Converted tile_46_141.tif to JPEG and saved to Intersecting_Batches-4/jpeg/tile_46_141.jpg\n",
      "Converted tile_27_109.tif to JPEG and saved to Intersecting_Batches-4/jpeg/tile_27_109.jpg\n",
      "Converted tile_70_18.tif to JPEG and saved to Intersecting_Batches-4/jpeg/tile_70_18.jpg\n",
      "Converted tile_25_25.tif to JPEG and saved to Intersecting_Batches-4/jpeg/tile_25_25.jpg\n",
      "Converted tile_63_70.tif to JPEG and saved to Intersecting_Batches-4/jpeg/tile_63_70.jpg\n",
      "Converted tile_55_71.tif to JPEG and saved to Intersecting_Batches-4/jpeg/tile_55_71.jpg\n",
      "Converted tile_13_24.tif to JPEG and saved to Intersecting_Batches-4/jpeg/tile_13_24.jpg\n",
      "Converted tile_41_129.tif to JPEG and saved to Intersecting_Batches-4/jpeg/tile_41_129.jpg\n",
      "Converted tile_48_34.tif to JPEG and saved to Intersecting_Batches-4/jpeg/tile_48_34.jpg\n",
      "Converted tile_21_69.tif to JPEG and saved to Intersecting_Batches-4/jpeg/tile_21_69.jpg\n",
      "Converted tile_69_11.tif to JPEG and saved to Intersecting_Batches-4/jpeg/tile_69_11.jpg\n",
      "Converted tile_47_144.tif to JPEG and saved to Intersecting_Batches-4/jpeg/tile_47_144.jpg\n",
      "Converted tile_21_55.tif to JPEG and saved to Intersecting_Batches-4/jpeg/tile_21_55.jpg\n",
      "Converted tile_26_48.tif to JPEG and saved to Intersecting_Batches-4/jpeg/tile_26_48.jpg\n",
      "Converted tile_21_57.tif to JPEG and saved to Intersecting_Batches-4/jpeg/tile_21_57.jpg\n",
      "Converted tile_73_77.tif to JPEG and saved to Intersecting_Batches-4/jpeg/tile_73_77.jpg\n",
      "Converted tile_21_43.tif to JPEG and saved to Intersecting_Batches-4/jpeg/tile_21_43.jpg\n",
      "Converted tile_69_13.tif to JPEG and saved to Intersecting_Batches-4/jpeg/tile_69_13.jpg\n",
      "Converted tile_10_124.tif to JPEG and saved to Intersecting_Batches-4/jpeg/tile_10_124.jpg\n",
      "Converted tile_64_53.tif to JPEG and saved to Intersecting_Batches-4/jpeg/tile_64_53.jpg\n",
      "Converted tile_66_104.tif to JPEG and saved to Intersecting_Batches-4/jpeg/tile_66_104.jpg\n",
      "Converted tile_10_77.tif to JPEG and saved to Intersecting_Batches-4/jpeg/tile_10_77.jpg\n",
      "Converted tile_10_63.tif to JPEG and saved to Intersecting_Batches-4/jpeg/tile_10_63.jpg\n",
      "Converted tile_61_63.tif to JPEG and saved to Intersecting_Batches-4/jpeg/tile_61_63.jpg\n",
      "Converted tile_33_43.tif to JPEG and saved to Intersecting_Batches-4/jpeg/tile_33_43.jpg\n",
      "Converted tile_33_57.tif to JPEG and saved to Intersecting_Batches-4/jpeg/tile_33_57.jpg\n",
      "Converted tile_27_22.tif to JPEG and saved to Intersecting_Batches-4/jpeg/tile_27_22.jpg\n",
      "Converted tile_15_90.tif to JPEG and saved to Intersecting_Batches-4/jpeg/tile_15_90.jpg\n",
      "Converted tile_68_84.tif to JPEG and saved to Intersecting_Batches-4/jpeg/tile_68_84.jpg\n",
      "Converted tile_34_89.tif to JPEG and saved to Intersecting_Batches-4/jpeg/tile_34_89.jpg\n",
      "Converted tile_63_121.tif to JPEG and saved to Intersecting_Batches-4/jpeg/tile_63_121.jpg\n",
      "Converted tile_45_137.tif to JPEG and saved to Intersecting_Batches-4/jpeg/tile_45_137.jpg\n",
      "Converted tile_48_100.tif to JPEG and saved to Intersecting_Batches-4/jpeg/tile_48_100.jpg\n",
      "Converted tile_12_66.tif to JPEG and saved to Intersecting_Batches-4/jpeg/tile_12_66.jpg\n",
      "Converted tile_15_129.tif to JPEG and saved to Intersecting_Batches-4/jpeg/tile_15_129.jpg\n",
      "Converted tile_59_98.tif to JPEG and saved to Intersecting_Batches-4/jpeg/tile_59_98.jpg\n",
      "Converted tile_23_117.tif to JPEG and saved to Intersecting_Batches-4/jpeg/tile_23_117.jpg\n",
      "Converted tile_23_91.tif to JPEG and saved to Intersecting_Batches-4/jpeg/tile_23_91.jpg\n",
      "Converted tile_7_73.tif to JPEG and saved to Intersecting_Batches-4/jpeg/tile_7_73.jpg\n",
      "Converted tile_9_76.tif to JPEG and saved to Intersecting_Batches-4/jpeg/tile_9_76.jpg\n",
      "Converted tile_50_43.tif to JPEG and saved to Intersecting_Batches-4/jpeg/tile_50_43.jpg\n",
      "Converted tile_0_52.tif to JPEG and saved to Intersecting_Batches-4/jpeg/tile_0_52.jpg\n",
      "Converted tile_4_133.tif to JPEG and saved to Intersecting_Batches-4/jpeg/tile_4_133.jpg\n",
      "Converted tile_71_98.tif to JPEG and saved to Intersecting_Batches-4/jpeg/tile_71_98.jpg\n",
      "Converted tile_9_63.tif to JPEG and saved to Intersecting_Batches-4/jpeg/tile_9_63.jpg\n",
      "Converted tile_62_119.tif to JPEG and saved to Intersecting_Batches-4/jpeg/tile_62_119.jpg\n",
      "Converted tile_11_36.tif to JPEG and saved to Intersecting_Batches-4/jpeg/tile_11_36.jpg\n",
      "Converted tile_57_77.tif to JPEG and saved to Intersecting_Batches-4/jpeg/tile_57_77.jpg\n",
      "Converted tile_33_116.tif to JPEG and saved to Intersecting_Batches-4/jpeg/tile_33_116.jpg\n",
      "Converted tile_58_115.tif to JPEG and saved to Intersecting_Batches-4/jpeg/tile_58_115.jpg\n",
      "Converted tile_63_120.tif to JPEG and saved to Intersecting_Batches-4/jpeg/tile_63_120.jpg\n",
      "Converted tile_3_16.tif to JPEG and saved to Intersecting_Batches-4/jpeg/tile_3_16.jpg\n",
      "Converted tile_68_91.tif to JPEG and saved to Intersecting_Batches-4/jpeg/tile_68_91.jpg\n",
      "Converted tile_72_22.tif to JPEG and saved to Intersecting_Batches-4/jpeg/tile_72_22.jpg\n",
      "Converted tile_34_77.tif to JPEG and saved to Intersecting_Batches-4/jpeg/tile_34_77.jpg\n",
      "Converted tile_47_99.tif to JPEG and saved to Intersecting_Batches-4/jpeg/tile_47_99.jpg\n",
      "Converted tile_40_90.tif to JPEG and saved to Intersecting_Batches-4/jpeg/tile_40_90.jpg\n",
      "Converted tile_32_113.tif to JPEG and saved to Intersecting_Batches-4/jpeg/tile_32_113.jpg\n",
      "Converted tile_22_113.tif to JPEG and saved to Intersecting_Batches-4/jpeg/tile_22_113.jpg\n",
      "Converted tile_31_90.tif to JPEG and saved to Intersecting_Batches-4/jpeg/tile_31_90.jpg\n",
      "Converted tile_8_23.tif to JPEG and saved to Intersecting_Batches-4/jpeg/tile_8_23.jpg\n",
      "Converted tile_70_27.tif to JPEG and saved to Intersecting_Batches-4/jpeg/tile_70_27.jpg\n",
      "Converted tile_1_103.tif to JPEG and saved to Intersecting_Batches-4/jpeg/tile_1_103.jpg\n",
      "Converted tile_2_56.tif to JPEG and saved to Intersecting_Batches-4/jpeg/tile_2_56.jpg\n",
      "Converted tile_51_116.tif to JPEG and saved to Intersecting_Batches-4/jpeg/tile_51_116.jpg\n",
      "Converted tile_67_100.tif to JPEG and saved to Intersecting_Batches-4/jpeg/tile_67_100.jpg\n",
      "Converted tile_2_81.tif to JPEG and saved to Intersecting_Batches-4/jpeg/tile_2_81.jpg\n",
      "Converted tile_69_16.tif to JPEG and saved to Intersecting_Batches-4/jpeg/tile_69_16.jpg\n",
      "Converted tile_73_72.tif to JPEG and saved to Intersecting_Batches-4/jpeg/tile_73_72.jpg\n",
      "Converted tile_26_137.tif to JPEG and saved to Intersecting_Batches-4/jpeg/tile_26_137.jpg\n",
      "Converted tile_2_52.tif to JPEG and saved to Intersecting_Batches-4/jpeg/tile_2_52.jpg\n",
      "Converted tile_48_33.tif to JPEG and saved to Intersecting_Batches-4/jpeg/tile_48_33.jpg\n",
      "Converted tile_42_91.tif to JPEG and saved to Intersecting_Batches-4/jpeg/tile_42_91.jpg\n",
      "Converted tile_60_144.tif to JPEG and saved to Intersecting_Batches-4/jpeg/tile_60_144.jpg\n",
      "Converted tile_63_63.tif to JPEG and saved to Intersecting_Batches-4/jpeg/tile_63_63.jpg\n",
      "Converted tile_10_72.tif to JPEG and saved to Intersecting_Batches-4/jpeg/tile_10_72.jpg\n",
      "Converted tile_63_88.tif to JPEG and saved to Intersecting_Batches-4/jpeg/tile_63_88.jpg\n",
      "Converted tile_64_81.tif to JPEG and saved to Intersecting_Batches-4/jpeg/tile_64_81.jpg\n",
      "Converted tile_19_42.tif to JPEG and saved to Intersecting_Batches-4/jpeg/tile_19_42.jpg\n",
      "Converted tile_66_115.tif to JPEG and saved to Intersecting_Batches-4/jpeg/tile_66_115.jpg\n",
      "Converted tile_66_47.tif to JPEG and saved to Intersecting_Batches-4/jpeg/tile_66_47.jpg\n",
      "Converted tile_47_89.tif to JPEG and saved to Intersecting_Batches-4/jpeg/tile_47_89.jpg\n",
      "Converted tile_73_118.tif to JPEG and saved to Intersecting_Batches-4/jpeg/tile_73_118.jpg\n",
      "Converted tile_15_42.tif to JPEG and saved to Intersecting_Batches-4/jpeg/tile_15_42.jpg\n",
      "Converted tile_15_56.tif to JPEG and saved to Intersecting_Batches-4/jpeg/tile_15_56.jpg\n",
      "Converted tile_47_76.tif to JPEG and saved to Intersecting_Batches-4/jpeg/tile_47_76.jpg\n",
      "Converted tile_15_110.tif to JPEG and saved to Intersecting_Batches-4/jpeg/tile_15_110.jpg\n",
      "Converted tile_15_104.tif to JPEG and saved to Intersecting_Batches-4/jpeg/tile_15_104.jpg\n",
      "Converted tile_7_89.tif to JPEG and saved to Intersecting_Batches-4/jpeg/tile_7_89.jpg\n",
      "Converted tile_18_133.tif to JPEG and saved to Intersecting_Batches-4/jpeg/tile_18_133.jpg\n",
      "Converted tile_33_112.tif to JPEG and saved to Intersecting_Batches-4/jpeg/tile_33_112.jpg\n",
      "Converted tile_23_57.tif to JPEG and saved to Intersecting_Batches-4/jpeg/tile_23_57.jpg\n",
      "Converted tile_33_106.tif to JPEG and saved to Intersecting_Batches-4/jpeg/tile_33_106.jpg\n",
      "Converted tile_9_115.tif to JPEG and saved to Intersecting_Batches-4/jpeg/tile_9_115.jpg\n",
      "Converted tile_9_101.tif to JPEG and saved to Intersecting_Batches-4/jpeg/tile_9_101.jpg\n",
      "Converted tile_59_76.tif to JPEG and saved to Intersecting_Batches-4/jpeg/tile_59_76.jpg\n",
      "Converted tile_57_73.tif to JPEG and saved to Intersecting_Batches-4/jpeg/tile_57_73.jpg\n",
      "Converted tile_59_128.tif to JPEG and saved to Intersecting_Batches-4/jpeg/tile_59_128.jpg\n",
      "Converted tile_11_33.tif to JPEG and saved to Intersecting_Batches-4/jpeg/tile_11_33.jpg\n",
      "Converted tile_7_63.tif to JPEG and saved to Intersecting_Batches-4/jpeg/tile_7_63.jpg\n",
      "Converted tile_9_100.tif to JPEG and saved to Intersecting_Batches-4/jpeg/tile_9_100.jpg\n",
      "Converted tile_59_77.tif to JPEG and saved to Intersecting_Batches-4/jpeg/tile_59_77.jpg\n",
      "Converted tile_44_32.tif to JPEG and saved to Intersecting_Batches-4/jpeg/tile_44_32.jpg\n",
      "Converted tile_59_88.tif to JPEG and saved to Intersecting_Batches-4/jpeg/tile_59_88.jpg\n",
      "Converted tile_23_107.tif to JPEG and saved to Intersecting_Batches-4/jpeg/tile_23_107.jpg\n",
      "Converted tile_24_63.tif to JPEG and saved to Intersecting_Batches-4/jpeg/tile_24_63.jpg\n",
      "Converted tile_50_84.tif to JPEG and saved to Intersecting_Batches-4/jpeg/tile_50_84.jpg\n",
      "Converted tile_68_94.tif to JPEG and saved to Intersecting_Batches-4/jpeg/tile_68_94.jpg\n",
      "Converted tile_15_57.tif to JPEG and saved to Intersecting_Batches-4/jpeg/tile_15_57.jpg\n",
      "Converted tile_48_138.tif to JPEG and saved to Intersecting_Batches-4/jpeg/tile_48_138.jpg\n",
      "Converted tile_68_80.tif to JPEG and saved to Intersecting_Batches-4/jpeg/tile_68_80.jpg\n",
      "Converted tile_49_66.tif to JPEG and saved to Intersecting_Batches-4/jpeg/tile_49_66.jpg\n",
      "Converted tile_63_119.tif to JPEG and saved to Intersecting_Batches-4/jpeg/tile_63_119.jpg\n",
      "Converted tile_8_111.tif to JPEG and saved to Intersecting_Batches-4/jpeg/tile_8_111.jpg\n",
      "Converted tile_32_116.tif to JPEG and saved to Intersecting_Batches-4/jpeg/tile_32_116.jpg\n",
      "Converted tile_68_57.tif to JPEG and saved to Intersecting_Batches-4/jpeg/tile_68_57.jpg\n",
      "Converted tile_49_99.tif to JPEG and saved to Intersecting_Batches-4/jpeg/tile_49_99.jpg\n",
      "Converted tile_72_33.tif to JPEG and saved to Intersecting_Batches-4/jpeg/tile_72_33.jpg\n",
      "Converted tile_40_81.tif to JPEG and saved to Intersecting_Batches-4/jpeg/tile_40_81.jpg\n",
      "Converted tile_29_23.tif to JPEG and saved to Intersecting_Batches-4/jpeg/tile_29_23.jpg\n",
      "Converted tile_45_66.tif to JPEG and saved to Intersecting_Batches-4/jpeg/tile_45_66.jpg\n",
      "Converted tile_10_67.tif to JPEG and saved to Intersecting_Batches-4/jpeg/tile_10_67.jpg\n",
      "Converted tile_0_103.tif to JPEG and saved to Intersecting_Batches-4/jpeg/tile_0_103.jpg\n",
      "Converted tile_50_102.tif to JPEG and saved to Intersecting_Batches-4/jpeg/tile_50_102.jpg\n",
      "Converted tile_10_73.tif to JPEG and saved to Intersecting_Batches-4/jpeg/tile_10_73.jpg\n",
      "Converted tile_42_84.tif to JPEG and saved to Intersecting_Batches-4/jpeg/tile_42_84.jpg\n",
      "Converted tile_2_53.tif to JPEG and saved to Intersecting_Batches-4/jpeg/tile_2_53.jpg\n",
      "Converted tile_2_90.tif to JPEG and saved to Intersecting_Batches-4/jpeg/tile_2_90.jpg\n",
      "Converted tile_60_33.tif to JPEG and saved to Intersecting_Batches-4/jpeg/tile_60_33.jpg\n",
      "Converted tile_47_140.tif to JPEG and saved to Intersecting_Batches-4/jpeg/tile_47_140.jpg\n",
      "Converted tile_26_70.tif to JPEG and saved to Intersecting_Batches-4/jpeg/tile_26_70.jpg\n",
      "Converted tile_52_83.tif to JPEG and saved to Intersecting_Batches-4/jpeg/tile_52_83.jpg\n",
      "Converted tile_51_105.tif to JPEG and saved to Intersecting_Batches-4/jpeg/tile_51_105.jpg\n",
      "Converted tile_41_111.tif to JPEG and saved to Intersecting_Batches-4/jpeg/tile_41_111.jpg\n",
      "Converted tile_6_144.tif to JPEG and saved to Intersecting_Batches-4/jpeg/tile_6_144.jpg\n",
      "Converted tile_64_55.tif to JPEG and saved to Intersecting_Batches-4/jpeg/tile_64_55.jpg\n",
      "Converted tile_36_75.tif to JPEG and saved to Intersecting_Batches-4/jpeg/tile_36_75.jpg\n",
      "Converted tile_19_96.tif to JPEG and saved to Intersecting_Batches-4/jpeg/tile_19_96.jpg\n",
      "Converted tile_38_70.tif to JPEG and saved to Intersecting_Batches-4/jpeg/tile_38_70.jpg\n",
      "Converted tile_6_21.tif to JPEG and saved to Intersecting_Batches-4/jpeg/tile_6_21.jpg\n",
      "Converted tile_50_100.tif to JPEG and saved to Intersecting_Batches-4/jpeg/tile_50_100.jpg\n",
      "Converted tile_40_114.tif to JPEG and saved to Intersecting_Batches-4/jpeg/tile_40_114.jpg\n",
      "Converted tile_1_14.tif to JPEG and saved to Intersecting_Batches-4/jpeg/tile_1_14.jpg\n",
      "Converted tile_72_31.tif to JPEG and saved to Intersecting_Batches-4/jpeg/tile_72_31.jpg\n",
      "Converted tile_66_78.tif to JPEG and saved to Intersecting_Batches-4/jpeg/tile_66_78.jpg\n",
      "Converted tile_12_60.tif to JPEG and saved to Intersecting_Batches-4/jpeg/tile_12_60.jpg\n",
      "Converted tile_45_125.tif to JPEG and saved to Intersecting_Batches-4/jpeg/tile_45_125.jpg\n",
      "Converted tile_15_69.tif to JPEG and saved to Intersecting_Batches-4/jpeg/tile_15_69.jpg\n",
      "Converted tile_45_119.tif to JPEG and saved to Intersecting_Batches-4/jpeg/tile_45_119.jpg\n",
      "Converted tile_47_61.tif to JPEG and saved to Intersecting_Batches-4/jpeg/tile_47_61.jpg\n",
      "Converted tile_50_92.tif to JPEG and saved to Intersecting_Batches-4/jpeg/tile_50_92.jpg\n",
      "Converted tile_33_111.tif to JPEG and saved to Intersecting_Batches-4/jpeg/tile_33_111.jpg\n",
      "Converted tile_59_117.tif to JPEG and saved to Intersecting_Batches-4/jpeg/tile_59_117.jpg\n",
      "Converted tile_9_64.tif to JPEG and saved to Intersecting_Batches-4/jpeg/tile_9_64.jpg\n",
      "Converted tile_9_102.tif to JPEG and saved to Intersecting_Batches-4/jpeg/tile_9_102.jpg\n",
      "Converted tile_49_117.tif to JPEG and saved to Intersecting_Batches-4/jpeg/tile_49_117.jpg\n",
      "Converted tile_13_142.tif to JPEG and saved to Intersecting_Batches-4/jpeg/tile_13_142.jpg\n",
      "Converted tile_59_49.tif to JPEG and saved to Intersecting_Batches-4/jpeg/tile_59_49.jpg\n",
      "Converted tile_44_109.tif to JPEG and saved to Intersecting_Batches-4/jpeg/tile_44_109.jpg\n",
      "Converted tile_49_102.tif to JPEG and saved to Intersecting_Batches-4/jpeg/tile_49_102.jpg\n",
      "Converted tile_23_69.tif to JPEG and saved to Intersecting_Batches-4/jpeg/tile_23_69.jpg\n",
      "Converted tile_40_69.tif to JPEG and saved to Intersecting_Batches-4/jpeg/tile_40_69.jpg\n",
      "Converted tile_4_19.tif to JPEG and saved to Intersecting_Batches-4/jpeg/tile_4_19.jpg\n",
      "Converted tile_8_106.tif to JPEG and saved to Intersecting_Batches-4/jpeg/tile_8_106.jpg\n",
      "Converted tile_61_64.tif to JPEG and saved to Intersecting_Batches-4/jpeg/tile_61_64.jpg\n",
      "Converted tile_27_25.tif to JPEG and saved to Intersecting_Batches-4/jpeg/tile_27_25.jpg\n",
      "Converted tile_66_51.tif to JPEG and saved to Intersecting_Batches-4/jpeg/tile_66_51.jpg\n",
      "Converted tile_34_65.tif to JPEG and saved to Intersecting_Batches-4/jpeg/tile_34_65.jpg\n",
      "Converted tile_32_129.tif to JPEG and saved to Intersecting_Batches-4/jpeg/tile_32_129.jpg\n",
      "Converted tile_51_10.tif to JPEG and saved to Intersecting_Batches-4/jpeg/tile_51_10.jpg\n",
      "Converted tile_66_103.tif to JPEG and saved to Intersecting_Batches-4/jpeg/tile_66_103.jpg\n",
      "Converted tile_64_97.tif to JPEG and saved to Intersecting_Batches-4/jpeg/tile_64_97.jpg\n",
      "Converted tile_8_19.tif to JPEG and saved to Intersecting_Batches-4/jpeg/tile_8_19.jpg\n",
      "Converted tile_6_20.tif to JPEG and saved to Intersecting_Batches-4/jpeg/tile_6_20.jpg\n",
      "Converted tile_1_29.tif to JPEG and saved to Intersecting_Batches-4/jpeg/tile_1_29.jpg\n",
      "Converted tile_17_86.tif to JPEG and saved to Intersecting_Batches-4/jpeg/tile_17_86.jpg\n",
      "Converted tile_42_93.tif to JPEG and saved to Intersecting_Batches-4/jpeg/tile_42_93.jpg\n",
      "Converted tile_55_60.tif to JPEG and saved to Intersecting_Batches-4/jpeg/tile_55_60.jpg\n",
      "Converted tile_52_55.tif to JPEG and saved to Intersecting_Batches-4/jpeg/tile_52_55.jpg\n",
      "Converted tile_28_74.tif to JPEG and saved to Intersecting_Batches-4/jpeg/tile_28_74.jpg\n",
      "Converted tile_32_38.tif to JPEG and saved to Intersecting_Batches-4/jpeg/tile_32_38.jpg\n",
      "Converted tile_60_18.tif to JPEG and saved to Intersecting_Batches-4/jpeg/tile_60_18.jpg\n",
      "Converted tile_67_39.tif to JPEG and saved to Intersecting_Batches-4/jpeg/tile_67_39.jpg\n",
      "Converted tile_69_14.tif to JPEG and saved to Intersecting_Batches-4/jpeg/tile_69_14.jpg\n",
      "Converted tile_7_140.tif to JPEG and saved to Intersecting_Batches-4/jpeg/tile_7_140.jpg\n",
      "Converted tile_26_71.tif to JPEG and saved to Intersecting_Batches-4/jpeg/tile_26_71.jpg\n",
      "Converted tile_67_76.tif to JPEG and saved to Intersecting_Batches-4/jpeg/tile_67_76.jpg\n",
      "Converted tile_13_91.tif to JPEG and saved to Intersecting_Batches-4/jpeg/tile_13_91.jpg\n",
      "Converted tile_61_130.tif to JPEG and saved to Intersecting_Batches-4/jpeg/tile_61_130.jpg\n",
      "Converted tile_10_144.tif to JPEG and saved to Intersecting_Batches-4/jpeg/tile_10_144.jpg\n",
      "Converted tile_48_56.tif to JPEG and saved to Intersecting_Batches-4/jpeg/tile_48_56.jpg\n",
      "Converted tile_14_67.tif to JPEG and saved to Intersecting_Batches-4/jpeg/tile_14_67.jpg\n",
      "Converted tile_27_143.tif to JPEG and saved to Intersecting_Batches-4/jpeg/tile_27_143.jpg\n",
      "Converted tile_1_99.tif to JPEG and saved to Intersecting_Batches-4/jpeg/tile_1_99.jpg\n",
      "Converted tile_51_88.tif to JPEG and saved to Intersecting_Batches-4/jpeg/tile_51_88.jpg\n",
      "Converted tile_70_46.tif to JPEG and saved to Intersecting_Batches-4/jpeg/tile_70_46.jpg\n",
      "Converted tile_25_84.tif to JPEG and saved to Intersecting_Batches-4/jpeg/tile_25_84.jpg\n",
      "Converted tile_31_112.tif to JPEG and saved to Intersecting_Batches-4/jpeg/tile_31_112.jpg\n",
      "Converted tile_51_77.tif to JPEG and saved to Intersecting_Batches-4/jpeg/tile_51_77.jpg\n",
      "Converted tile_65_110.tif to JPEG and saved to Intersecting_Batches-4/jpeg/tile_65_110.jpg\n",
      "Converted tile_53_99.tif to JPEG and saved to Intersecting_Batches-4/jpeg/tile_53_99.jpg\n",
      "Converted tile_72_43.tif to JPEG and saved to Intersecting_Batches-4/jpeg/tile_72_43.jpg\n",
      "Converted tile_54_84.tif to JPEG and saved to Intersecting_Batches-4/jpeg/tile_54_84.jpg\n",
      "Converted tile_54_53.tif to JPEG and saved to Intersecting_Batches-4/jpeg/tile_54_53.jpg\n",
      "Converted tile_5_142.tif to JPEG and saved to Intersecting_Batches-4/jpeg/tile_5_142.jpg\n",
      "Converted tile_64_9.tif to JPEG and saved to Intersecting_Batches-4/jpeg/tile_64_9.jpg\n",
      "Converted tile_16_89.tif to JPEG and saved to Intersecting_Batches-4/jpeg/tile_16_89.jpg\n",
      "Converted tile_69_122.tif to JPEG and saved to Intersecting_Batches-4/jpeg/tile_69_122.jpg\n",
      "Converted tile_2_102.tif to JPEG and saved to Intersecting_Batches-4/jpeg/tile_2_102.jpg\n",
      "Converted tile_62_52.tif to JPEG and saved to Intersecting_Batches-4/jpeg/tile_62_52.jpg\n",
      "Converted tile_72_144.tif to JPEG and saved to Intersecting_Batches-4/jpeg/tile_72_144.jpg\n",
      "Converted tile_44_42.tif to JPEG and saved to Intersecting_Batches-4/jpeg/tile_44_42.jpg\n",
      "Converted tile_0_33.tif to JPEG and saved to Intersecting_Batches-4/jpeg/tile_0_33.jpg\n",
      "Converted tile_44_80.tif to JPEG and saved to Intersecting_Batches-4/jpeg/tile_44_80.jpg\n",
      "Converted tile_64_100.tif to JPEG and saved to Intersecting_Batches-4/jpeg/tile_64_100.jpg\n",
      "Converted tile_5_143.tif to JPEG and saved to Intersecting_Batches-4/jpeg/tile_5_143.jpg\n",
      "Converted tile_39_101.tif to JPEG and saved to Intersecting_Batches-4/jpeg/tile_39_101.jpg\n",
      "Converted tile_53_73.tif to JPEG and saved to Intersecting_Batches-4/jpeg/tile_53_73.jpg\n",
      "Converted tile_27_80.tif to JPEG and saved to Intersecting_Batches-4/jpeg/tile_27_80.jpg\n",
      "Converted tile_66_37.tif to JPEG and saved to Intersecting_Batches-4/jpeg/tile_66_37.jpg\n",
      "Converted tile_53_107.tif to JPEG and saved to Intersecting_Batches-4/jpeg/tile_53_107.jpg\n",
      "Converted tile_65_105.tif to JPEG and saved to Intersecting_Batches-4/jpeg/tile_65_105.jpg\n",
      "Converted tile_27_43.tif to JPEG and saved to Intersecting_Batches-4/jpeg/tile_27_43.jpg\n",
      "Converted tile_65_111.tif to JPEG and saved to Intersecting_Batches-4/jpeg/tile_65_111.jpg\n",
      "Converted tile_56_57.tif to JPEG and saved to Intersecting_Batches-4/jpeg/tile_56_57.jpg\n",
      "Converted tile_58_52.tif to JPEG and saved to Intersecting_Batches-4/jpeg/tile_58_52.jpg\n",
      "Converted tile_31_113.tif to JPEG and saved to Intersecting_Batches-4/jpeg/tile_31_113.jpg\n",
      "Converted tile_8_43.tif to JPEG and saved to Intersecting_Batches-4/jpeg/tile_8_43.jpg\n",
      "Converted tile_8_57.tif to JPEG and saved to Intersecting_Batches-4/jpeg/tile_8_57.jpg\n",
      "Converted tile_17_139.tif to JPEG and saved to Intersecting_Batches-4/jpeg/tile_17_139.jpg\n",
      "Converted tile_59_8.tif to JPEG and saved to Intersecting_Batches-4/jpeg/tile_59_8.jpg\n",
      "Converted tile_70_108.tif to JPEG and saved to Intersecting_Batches-4/jpeg/tile_70_108.jpg\n",
      "Converted tile_6_91.tif to JPEG and saved to Intersecting_Batches-4/jpeg/tile_6_91.jpg\n",
      "Converted tile_56_94.tif to JPEG and saved to Intersecting_Batches-4/jpeg/tile_56_94.jpg\n",
      "Converted tile_16_100.tif to JPEG and saved to Intersecting_Batches-4/jpeg/tile_16_100.jpg\n",
      "Converted tile_60_95.tif to JPEG and saved to Intersecting_Batches-4/jpeg/tile_60_95.jpg\n",
      "Converted tile_14_72.tif to JPEG and saved to Intersecting_Batches-4/jpeg/tile_14_72.jpg\n",
      "Converted tile_48_43.tif to JPEG and saved to Intersecting_Batches-4/jpeg/tile_48_43.jpg\n",
      "Converted tile_35_94.tif to JPEG and saved to Intersecting_Batches-4/jpeg/tile_35_94.jpg\n",
      "Converted tile_7_132.tif to JPEG and saved to Intersecting_Batches-4/jpeg/tile_7_132.jpg\n",
      "Converted tile_69_66.tif to JPEG and saved to Intersecting_Batches-4/jpeg/tile_69_66.jpg\n",
      "Converted tile_32_62.tif to JPEG and saved to Intersecting_Batches-4/jpeg/tile_32_62.jpg\n",
      "Converted tile_73_16.tif to JPEG and saved to Intersecting_Batches-4/jpeg/tile_73_16.jpg\n",
      "Converted tile_21_22.tif to JPEG and saved to Intersecting_Batches-4/jpeg/tile_21_22.jpg\n",
      "Converted tile_13_92.tif to JPEG and saved to Intersecting_Batches-4/jpeg/tile_13_92.jpg\n",
      "Converted tile_61_127.tif to JPEG and saved to Intersecting_Batches-4/jpeg/tile_61_127.jpg\n",
      "Converted tile_67_75.tif to JPEG and saved to Intersecting_Batches-4/jpeg/tile_67_75.jpg\n",
      "Converted tile_35_55.tif to JPEG and saved to Intersecting_Batches-4/jpeg/tile_35_55.jpg\n",
      "Converted tile_60_54.tif to JPEG and saved to Intersecting_Batches-4/jpeg/tile_60_54.jpg\n",
      "Converted tile_60_40.tif to JPEG and saved to Intersecting_Batches-4/jpeg/tile_60_40.jpg\n",
      "Converted tile_41_65.tif to JPEG and saved to Intersecting_Batches-4/jpeg/tile_41_65.jpg\n",
      "Converted tile_52_31.tif to JPEG and saved to Intersecting_Batches-4/jpeg/tile_52_31.jpg\n",
      "Converted tile_14_64.tif to JPEG and saved to Intersecting_Batches-4/jpeg/tile_14_64.jpg\n",
      "Converted tile_46_120.tif to JPEG and saved to Intersecting_Batches-4/jpeg/tile_46_120.jpg\n",
      "Converted tile_63_39.tif to JPEG and saved to Intersecting_Batches-4/jpeg/tile_63_39.jpg\n",
      "Converted tile_22_71.tif to JPEG and saved to Intersecting_Batches-4/jpeg/tile_22_71.jpg\n",
      "Converted tile_70_51.tif to JPEG and saved to Intersecting_Batches-4/jpeg/tile_70_51.jpg\n",
      "Converted tile_21_105.tif to JPEG and saved to Intersecting_Batches-4/jpeg/tile_21_105.jpg\n",
      "Converted tile_25_93.tif to JPEG and saved to Intersecting_Batches-4/jpeg/tile_25_93.jpg\n",
      "Converted tile_19_30.tif to JPEG and saved to Intersecting_Batches-4/jpeg/tile_19_30.jpg\n",
      "Converted tile_6_50.tif to JPEG and saved to Intersecting_Batches-4/jpeg/tile_6_50.jpg\n",
      "Converted tile_68_124.tif to JPEG and saved to Intersecting_Batches-4/jpeg/tile_68_124.jpg\n",
      "Converted tile_27_41.tif to JPEG and saved to Intersecting_Batches-4/jpeg/tile_27_41.jpg\n",
      "Converted tile_66_35.tif to JPEG and saved to Intersecting_Batches-4/jpeg/tile_66_35.jpg\n",
      "Converted tile_43_111.tif to JPEG and saved to Intersecting_Batches-4/jpeg/tile_43_111.jpg\n",
      "Converted tile_39_103.tif to JPEG and saved to Intersecting_Batches-4/jpeg/tile_39_103.jpg\n",
      "Converted tile_54_44.tif to JPEG and saved to Intersecting_Batches-4/jpeg/tile_54_44.jpg\n",
      "Converted tile_40_25.tif to JPEG and saved to Intersecting_Batches-4/jpeg/tile_40_25.jpg\n",
      "Converted tile_54_50.tif to JPEG and saved to Intersecting_Batches-4/jpeg/tile_54_50.jpg\n",
      "Converted tile_42_100.tif to JPEG and saved to Intersecting_Batches-4/jpeg/tile_42_100.jpg\n",
      "Converted tile_11_40.tif to JPEG and saved to Intersecting_Batches-4/jpeg/tile_11_40.jpg\n",
      "Converted tile_25_125.tif to JPEG and saved to Intersecting_Batches-4/jpeg/tile_25_125.jpg\n",
      "Converted tile_0_30.tif to JPEG and saved to Intersecting_Batches-4/jpeg/tile_0_30.jpg\n",
      "Converted tile_11_55.tif to JPEG and saved to Intersecting_Batches-4/jpeg/tile_11_55.jpg\n",
      "Converted tile_37_86.tif to JPEG and saved to Intersecting_Batches-4/jpeg/tile_37_86.jpg\n",
      "Converted tile_9_28.tif to JPEG and saved to Intersecting_Batches-4/jpeg/tile_9_28.jpg\n",
      "Converted tile_52_129.tif to JPEG and saved to Intersecting_Batches-4/jpeg/tile_52_129.jpg\n",
      "Converted tile_12_123.tif to JPEG and saved to Intersecting_Batches-4/jpeg/tile_12_123.jpg\n",
      "Converted tile_3_49.tif to JPEG and saved to Intersecting_Batches-4/jpeg/tile_3_49.jpg\n",
      "Converted tile_15_31.tif to JPEG and saved to Intersecting_Batches-4/jpeg/tile_15_31.jpg\n",
      "Converted tile_29_102.tif to JPEG and saved to Intersecting_Batches-4/jpeg/tile_29_102.jpg\n",
      "Converted tile_54_79.tif to JPEG and saved to Intersecting_Batches-4/jpeg/tile_54_79.jpg\n",
      "Converted tile_49_28.tif to JPEG and saved to Intersecting_Batches-4/jpeg/tile_49_28.jpg\n",
      "Converted tile_24_121.tif to JPEG and saved to Intersecting_Batches-4/jpeg/tile_24_121.jpg\n",
      "Converted tile_27_68.tif to JPEG and saved to Intersecting_Batches-4/jpeg/tile_27_68.jpg\n",
      "Converted tile_68_31.tif to JPEG and saved to Intersecting_Batches-4/jpeg/tile_68_31.jpg\n",
      "Converted tile_72_69.tif to JPEG and saved to Intersecting_Batches-4/jpeg/tile_72_69.jpg\n",
      "Converted tile_33_35.tif to JPEG and saved to Intersecting_Batches-4/jpeg/tile_33_35.jpg\n",
      "Converted tile_68_125.tif to JPEG and saved to Intersecting_Batches-4/jpeg/tile_68_125.jpg\n",
      "Converted tile_6_45.tif to JPEG and saved to Intersecting_Batches-4/jpeg/tile_6_45.jpg\n",
      "Converted tile_58_45.tif to JPEG and saved to Intersecting_Batches-4/jpeg/tile_58_45.jpg\n",
      "Converted tile_8_54.tif to JPEG and saved to Intersecting_Batches-4/jpeg/tile_8_54.jpg\n",
      "Converted tile_21_104.tif to JPEG and saved to Intersecting_Batches-4/jpeg/tile_21_104.jpg\n",
      "Converted tile_46_135.tif to JPEG and saved to Intersecting_Batches-4/jpeg/tile_46_135.jpg\n",
      "Converted tile_46_121.tif to JPEG and saved to Intersecting_Batches-4/jpeg/tile_46_121.jpg\n",
      "Converted tile_8_97.tif to JPEG and saved to Intersecting_Batches-4/jpeg/tile_8_97.jpg\n",
      "Converted tile_60_123.tif to JPEG and saved to Intersecting_Batches-4/jpeg/tile_60_123.jpg\n",
      "Converted tile_25_51.tif to JPEG and saved to Intersecting_Batches-4/jpeg/tile_25_51.jpg\n",
      "Converted tile_16_117.tif to JPEG and saved to Intersecting_Batches-4/jpeg/tile_16_117.jpg\n",
      "Converted tile_46_51.tif to JPEG and saved to Intersecting_Batches-4/jpeg/tile_46_51.jpg\n",
      "Converted tile_14_71.tif to JPEG and saved to Intersecting_Batches-4/jpeg/tile_14_71.jpg\n",
      "Converted tile_36_5.tif to JPEG and saved to Intersecting_Batches-4/jpeg/tile_36_5.jpg\n",
      "Converted tile_48_54.tif to JPEG and saved to Intersecting_Batches-4/jpeg/tile_48_54.jpg\n",
      "Converted tile_60_41.tif to JPEG and saved to Intersecting_Batches-4/jpeg/tile_60_41.jpg\n",
      "Converted tile_7_125.tif to JPEG and saved to Intersecting_Batches-4/jpeg/tile_7_125.jpg\n",
      "Converted tile_47_130.tif to JPEG and saved to Intersecting_Batches-4/jpeg/tile_47_130.jpg\n",
      "Converted tile_73_29.tif to JPEG and saved to Intersecting_Batches-4/jpeg/tile_73_29.jpg\n",
      "Converted tile_69_71.tif to JPEG and saved to Intersecting_Batches-4/jpeg/tile_69_71.jpg\n",
      "Converted tile_32_75.tif to JPEG and saved to Intersecting_Batches-4/jpeg/tile_32_75.jpg\n",
      "Converted tile_21_21.tif to JPEG and saved to Intersecting_Batches-4/jpeg/tile_21_21.jpg\n",
      "Converted tile_67_60.tif to JPEG and saved to Intersecting_Batches-4/jpeg/tile_67_60.jpg\n",
      "Failed to convert tile_60_51.tif: -2\n",
      "Converted tile_7_121.tif to JPEG and saved to Intersecting_Batches-4/jpeg/tile_7_121.jpg\n",
      "Converted tile_26_38.tif to JPEG and saved to Intersecting_Batches-4/jpeg/tile_26_38.jpg\n",
      "Converted tile_28_15.tif to JPEG and saved to Intersecting_Batches-4/jpeg/tile_28_15.jpg\n",
      "Converted tile_7_109.tif to JPEG and saved to Intersecting_Batches-4/jpeg/tile_7_109.jpg\n",
      "Converted tile_48_87.tif to JPEG and saved to Intersecting_Batches-4/jpeg/tile_48_87.jpg\n",
      "Converted tile_14_75.tif to JPEG and saved to Intersecting_Batches-4/jpeg/tile_14_75.jpg\n",
      "Converted tile_35_87.tif to JPEG and saved to Intersecting_Batches-4/jpeg/tile_35_87.jpg\n",
      "Converted tile_38_38.tif to JPEG and saved to Intersecting_Batches-4/jpeg/tile_38_38.jpg\n",
      "Converted tile_22_74.tif to JPEG and saved to Intersecting_Batches-4/jpeg/tile_22_74.jpg\n",
      "Converted tile_58_96.tif to JPEG and saved to Intersecting_Batches-4/jpeg/tile_58_96.jpg\n",
      "Converted tile_22_48.tif to JPEG and saved to Intersecting_Batches-4/jpeg/tile_22_48.jpg\n",
      "Converted tile_58_69.tif to JPEG and saved to Intersecting_Batches-4/jpeg/tile_58_69.jpg\n",
      "Converted tile_45_10.tif to JPEG and saved to Intersecting_Batches-4/jpeg/tile_45_10.jpg\n",
      "Converted tile_21_114.tif to JPEG and saved to Intersecting_Batches-4/jpeg/tile_21_114.jpg\n",
      "Converted tile_25_82.tif to JPEG and saved to Intersecting_Batches-4/jpeg/tile_25_82.jpg\n",
      "Converted tile_3_101.tif to JPEG and saved to Intersecting_Batches-4/jpeg/tile_3_101.jpg\n",
      "Converted tile_33_19.tif to JPEG and saved to Intersecting_Batches-4/jpeg/tile_33_19.jpg\n",
      "Converted tile_54_96.tif to JPEG and saved to Intersecting_Batches-4/jpeg/tile_54_96.jpg\n",
      "Converted tile_43_114.tif to JPEG and saved to Intersecting_Batches-4/jpeg/tile_43_114.jpg\n",
      "Converted tile_19_141.tif to JPEG and saved to Intersecting_Batches-4/jpeg/tile_19_141.jpg\n",
      "Converted tile_29_69.tif to JPEG and saved to Intersecting_Batches-4/jpeg/tile_29_69.jpg\n",
      "Converted tile_43_128.tif to JPEG and saved to Intersecting_Batches-4/jpeg/tile_43_128.jpg\n",
      "Converted tile_4_50.tif to JPEG and saved to Intersecting_Batches-4/jpeg/tile_4_50.jpg\n",
      "Converted tile_29_96.tif to JPEG and saved to Intersecting_Batches-4/jpeg/tile_29_96.jpg\n",
      "Converted tile_69_118.tif to JPEG and saved to Intersecting_Batches-4/jpeg/tile_69_118.jpg\n",
      "Converted tile_64_107.tif to JPEG and saved to Intersecting_Batches-4/jpeg/tile_64_107.jpg\n",
      "Converted tile_44_50.tif to JPEG and saved to Intersecting_Batches-4/jpeg/tile_44_50.jpg\n",
      "Converted tile_62_97.tif to JPEG and saved to Intersecting_Batches-4/jpeg/tile_62_97.jpg\n",
      "Converted tile_11_79.tif to JPEG and saved to Intersecting_Batches-4/jpeg/tile_11_79.jpg\n",
      "Converted tile_11_45.tif to JPEG and saved to Intersecting_Batches-4/jpeg/tile_11_45.jpg\n",
      "Converted tile_43_65.tif to JPEG and saved to Intersecting_Batches-4/jpeg/tile_43_65.jpg\n",
      "Converted tile_11_51.tif to JPEG and saved to Intersecting_Batches-4/jpeg/tile_11_51.jpg\n",
      "Converted tile_72_143.tif to JPEG and saved to Intersecting_Batches-4/jpeg/tile_72_143.jpg\n",
      "Converted tile_43_64.tif to JPEG and saved to Intersecting_Batches-4/jpeg/tile_43_64.jpg\n",
      "Converted tile_62_96.tif to JPEG and saved to Intersecting_Batches-4/jpeg/tile_62_96.jpg\n",
      "Converted tile_44_86.tif to JPEG and saved to Intersecting_Batches-4/jpeg/tile_44_86.jpg\n",
      "Converted tile_39_45.tif to JPEG and saved to Intersecting_Batches-4/jpeg/tile_39_45.jpg\n",
      "Converted tile_30_75.tif to JPEG and saved to Intersecting_Batches-4/jpeg/tile_30_75.jpg\n",
      "Converted tile_45_144.tif to JPEG and saved to Intersecting_Batches-4/jpeg/tile_45_144.jpg\n",
      "Converted tile_68_134.tif to JPEG and saved to Intersecting_Batches-4/jpeg/tile_68_134.jpg\n",
      "Converted tile_3_100.tif to JPEG and saved to Intersecting_Batches-4/jpeg/tile_3_100.jpg\n",
      "Converted tile_25_97.tif to JPEG and saved to Intersecting_Batches-4/jpeg/tile_25_97.jpg\n",
      "Converted tile_31_35.tif to JPEG and saved to Intersecting_Batches-4/jpeg/tile_31_35.jpg\n",
      "Converted tile_46_118.tif to JPEG and saved to Intersecting_Batches-4/jpeg/tile_46_118.jpg\n",
      "Converted tile_58_97.tif to JPEG and saved to Intersecting_Batches-4/jpeg/tile_58_97.jpg\n",
      "Converted tile_64_20.tif to JPEG and saved to Intersecting_Batches-4/jpeg/tile_64_20.jpg\n",
      "Converted tile_56_92.tif to JPEG and saved to Intersecting_Batches-4/jpeg/tile_56_92.jpg\n",
      "Converted tile_6_125.tif to JPEG and saved to Intersecting_Batches-4/jpeg/tile_6_125.jpg\n",
      "Converted tile_56_86.tif to JPEG and saved to Intersecting_Batches-4/jpeg/tile_56_86.jpg\n",
      "Converted tile_30_110.tif to JPEG and saved to Intersecting_Batches-4/jpeg/tile_30_110.jpg\n",
      "Converted tile_20_104.tif to JPEG and saved to Intersecting_Batches-4/jpeg/tile_20_104.jpg\n",
      "Converted tile_14_60.tif to JPEG and saved to Intersecting_Batches-4/jpeg/tile_14_60.jpg\n",
      "Converted tile_13_69.tif to JPEG and saved to Intersecting_Batches-4/jpeg/tile_13_69.jpg\n",
      "Converted tile_30_138.tif to JPEG and saved to Intersecting_Batches-4/jpeg/tile_30_138.jpg\n",
      "Converted tile_61_123.tif to JPEG and saved to Intersecting_Batches-4/jpeg/tile_61_123.jpg\n",
      "Converted tile_28_28.tif to JPEG and saved to Intersecting_Batches-4/jpeg/tile_28_28.jpg\n",
      "Converted tile_60_50.tif to JPEG and saved to Intersecting_Batches-4/jpeg/tile_60_50.jpg\n",
      "Converted tile_69_74.tif to JPEG and saved to Intersecting_Batches-4/jpeg/tile_69_74.jpg\n",
      "Converted tile_41_88.tif to JPEG and saved to Intersecting_Batches-4/jpeg/tile_41_88.jpg\n",
      "Converted tile_46_81.tif to JPEG and saved to Intersecting_Batches-4/jpeg/tile_46_81.jpg\n",
      "Converted tile_14_89.tif to JPEG and saved to Intersecting_Batches-4/jpeg/tile_14_89.jpg\n",
      "Converted tile_2_26.tif to JPEG and saved to Intersecting_Batches-4/jpeg/tile_2_26.jpg\n",
      "Converted tile_52_37.tif to JPEG and saved to Intersecting_Batches-4/jpeg/tile_52_37.jpg\n",
      "Converted tile_13_57.tif to JPEG and saved to Intersecting_Batches-4/jpeg/tile_13_57.jpg\n",
      "Converted tile_22_77.tif to JPEG and saved to Intersecting_Batches-4/jpeg/tile_22_77.jpg\n",
      "Converted tile_60_130.tif to JPEG and saved to Intersecting_Batches-4/jpeg/tile_60_130.jpg\n",
      "Converted tile_58_95.tif to JPEG and saved to Intersecting_Batches-4/jpeg/tile_58_95.jpg\n",
      "Converted tile_70_130.tif to JPEG and saved to Intersecting_Batches-4/jpeg/tile_70_130.jpg\n",
      "Converted tile_25_56.tif to JPEG and saved to Intersecting_Batches-4/jpeg/tile_25_56.jpg\n",
      "Converted tile_56_53.tif to JPEG and saved to Intersecting_Batches-4/jpeg/tile_56_53.jpg\n",
      "Converted tile_17_101.tif to JPEG and saved to Intersecting_Batches-4/jpeg/tile_17_101.jpg\n",
      "Converted tile_19_36.tif to JPEG and saved to Intersecting_Batches-4/jpeg/tile_19_36.jpg\n",
      "Converted tile_72_52.tif to JPEG and saved to Intersecting_Batches-4/jpeg/tile_72_52.jpg\n",
      "Converted tile_3_102.tif to JPEG and saved to Intersecting_Batches-4/jpeg/tile_3_102.jpg\n",
      "Converted tile_29_42.tif to JPEG and saved to Intersecting_Batches-4/jpeg/tile_29_42.jpg\n",
      "Converted tile_29_111.tif to JPEG and saved to Intersecting_Batches-4/jpeg/tile_29_111.jpg\n",
      "Converted tile_52_112.tif to JPEG and saved to Intersecting_Batches-4/jpeg/tile_52_112.jpg\n",
      "Converted tile_30_63.tif to JPEG and saved to Intersecting_Batches-4/jpeg/tile_30_63.jpg\n",
      "Converted tile_69_133.tif to JPEG and saved to Intersecting_Batches-4/jpeg/tile_69_133.jpg\n",
      "Converted tile_69_127.tif to JPEG and saved to Intersecting_Batches-4/jpeg/tile_69_127.jpg\n",
      "Converted tile_4_142.tif to JPEG and saved to Intersecting_Batches-4/jpeg/tile_4_142.jpg\n",
      "Converted tile_44_53.tif to JPEG and saved to Intersecting_Batches-4/jpeg/tile_44_53.jpg\n",
      "Converted tile_35_123.tif to JPEG and saved to Intersecting_Batches-4/jpeg/tile_35_123.jpg\n",
      "Converted tile_62_140.tif to JPEG and saved to Intersecting_Batches-4/jpeg/tile_62_140.jpg\n",
      "Converted tile_38_101.tif to JPEG and saved to Intersecting_Batches-4/jpeg/tile_38_101.jpg\n",
      "Converted tile_13_120.tif to JPEG and saved to Intersecting_Batches-4/jpeg/tile_13_120.jpg\n",
      "Converted tile_64_111.tif to JPEG and saved to Intersecting_Batches-4/jpeg/tile_64_111.jpg\n",
      "Converted tile_65_63.tif to JPEG and saved to Intersecting_Batches-4/jpeg/tile_65_63.jpg\n",
      "Converted tile_65_77.tif to JPEG and saved to Intersecting_Batches-4/jpeg/tile_65_77.jpg\n",
      "Converted tile_30_62.tif to JPEG and saved to Intersecting_Batches-4/jpeg/tile_30_62.jpg\n",
      "Converted tile_3_67.tif to JPEG and saved to Intersecting_Batches-4/jpeg/tile_3_67.jpg\n",
      "Converted tile_34_133.tif to JPEG and saved to Intersecting_Batches-4/jpeg/tile_34_133.jpg\n",
      "Converted tile_29_110.tif to JPEG and saved to Intersecting_Batches-4/jpeg/tile_29_110.jpg\n",
      "Converted tile_39_104.tif to JPEG and saved to Intersecting_Batches-4/jpeg/tile_39_104.jpg\n",
      "Converted tile_72_90.tif to JPEG and saved to Intersecting_Batches-4/jpeg/tile_72_90.jpg\n",
      "Converted tile_54_57.tif to JPEG and saved to Intersecting_Batches-4/jpeg/tile_54_57.jpg\n",
      "Converted tile_61_13.tif to JPEG and saved to Intersecting_Batches-4/jpeg/tile_61_13.jpg\n",
      "Converted tile_27_46.tif to JPEG and saved to Intersecting_Batches-4/jpeg/tile_27_46.jpg\n",
      "Converted tile_43_102.tif to JPEG and saved to Intersecting_Batches-4/jpeg/tile_43_102.jpg\n",
      "Converted tile_4_85.tif to JPEG and saved to Intersecting_Batches-4/jpeg/tile_4_85.jpg\n",
      "Converted tile_1_62.tif to JPEG and saved to Intersecting_Batches-4/jpeg/tile_1_62.jpg\n",
      "Converted tile_31_116.tif to JPEG and saved to Intersecting_Batches-4/jpeg/tile_31_116.jpg\n",
      "Converted tile_8_91.tif to JPEG and saved to Intersecting_Batches-4/jpeg/tile_8_91.jpg\n",
      "Converted tile_22_62.tif to JPEG and saved to Intersecting_Batches-4/jpeg/tile_22_62.jpg\n",
      "Converted tile_6_94.tif to JPEG and saved to Intersecting_Batches-4/jpeg/tile_6_94.jpg\n",
      "Converted tile_56_85.tif to JPEG and saved to Intersecting_Batches-4/jpeg/tile_56_85.jpg\n",
      "Converted tile_20_107.tif to JPEG and saved to Intersecting_Batches-4/jpeg/tile_20_107.jpg\n",
      "Converted tile_61_134.tif to JPEG and saved to Intersecting_Batches-4/jpeg/tile_61_134.jpg\n",
      "Converted tile_13_95.tif to JPEG and saved to Intersecting_Batches-4/jpeg/tile_13_95.jpg\n",
      "Converted tile_67_72.tif to JPEG and saved to Intersecting_Batches-4/jpeg/tile_67_72.jpg\n",
      "Converted tile_47_136.tif to JPEG and saved to Intersecting_Batches-4/jpeg/tile_47_136.jpg\n",
      "Converted tile_69_77.tif to JPEG and saved to Intersecting_Batches-4/jpeg/tile_69_77.jpg\n",
      "Converted tile_41_89.tif to JPEG and saved to Intersecting_Batches-4/jpeg/tile_41_89.jpg\n",
      "Converted tile_46_80.tif to JPEG and saved to Intersecting_Batches-4/jpeg/tile_46_80.jpg\n"
     ]
    }
   ],
   "source": [
    "from PIL import Image\n",
    "import os\n",
    "\n",
    "def convert_tif_to_jpeg(input_dir, output_dir):\n",
    "    \"\"\"\n",
    "    Converts all TIFF files in the input directory to JPEG format,\n",
    "    saving them to the output directory.\n",
    "    \"\"\"\n",
    "    # Create the output directory if it doesn't exist\n",
    "    if not os.path.exists(output_dir):\n",
    "        os.makedirs(output_dir)\n",
    "\n",
    "    # Iterate through all files in the input directory\n",
    "    for filename in os.listdir(input_dir):\n",
    "        if filename.endswith(\".tif\") or filename.endswith(\".tiff\"):\n",
    "            # Construct the full file path\n",
    "            input_path = os.path.join(input_dir, filename)\n",
    "            output_path = os.path.join(output_dir, filename.rsplit('.', 1)[0] + '.jpg')\n",
    "            \n",
    "            # Open the image, convert and save as JPEG\n",
    "            try:\n",
    "                with Image.open(input_path) as img:\n",
    "                    img.convert('RGB').save(output_path, \"JPEG\")\n",
    "                #print(f\"Converted {filename} to JPEG and saved to {output_path}\")\n",
    "            except Exception as e:\n",
    "                #print(f\"Failed to convert {filename}: {e}\")\n",
    "\n",
    "# Example usage\n",
    "input_directory = 'Intersecting_Batches-4'\n",
    "output_directory = 'Intersecting_Batches-4/jpeg'\n",
    "convert_tif_to_jpeg(input_directory, output_directory)\n"
   ]
  },
  {
   "cell_type": "code",
   "execution_count": 1,
   "metadata": {},
   "outputs": [
    {
     "name": "stdout",
     "output_type": "stream",
     "text": [
      "INFO:labelme2yolo:Converting train set ...\n",
      "\u001b[2K\u001b[36mConverting...\u001b[0m \u001b[90m━━━━━━━━━━━━━━━━━━━━━━━━━━━━━━━━━━━━━━━━\u001b[0m \u001b[35m100%\u001b[0m \u001b[36m0:00:00\u001b[0m00:01\u001b[0m00:01\u001b[0m\n",
      "\u001b[?25hINFO:labelme2yolo:Converting val set ...\n",
      "\u001b[2K\u001b[36mConverting...\u001b[0m \u001b[90m━━━━━━━━━━━━━━━━━━━━━━━━━━━━━━━━━━━━━━━━\u001b[0m \u001b[35m100%\u001b[0m \u001b[36m0:00:00\u001b[0mm \u001b[36m0:00:01\u001b[0m\n",
      "\u001b[?25hINFO:labelme2yolo:Converting test set ...\n",
      "\u001b[2K\u001b[36mConverting...\u001b[0m \u001b[90m━━━━━━━━━━━━━━━━━━━━━━━━━━━━━━━━━━━━━━━━\u001b[0m \u001b[35m  0%\u001b[0m \u001b[36m-:--:--\u001b[0m\n",
      "\u001b[?25h"
     ]
    }
   ],
   "source": [
    "!labelme2yolo --json_dir ./Intersecting_Batches-4 --val_size 0.2"
   ]
  },
  {
   "cell_type": "markdown",
   "metadata": {},
   "source": [
    "# Checking for balanced classes"
   ]
  },
  {
   "cell_type": "markdown",
   "metadata": {},
   "source": [
    "# Label Extraction and Visualization Script\n",
    "\n",
    "This script scans a directory for `.txt` files, extracts the first token from each line (assumed to be a label), counts the occurrences of each label, and plots a bar chart to visualize the label counts. The following steps are performed:\n",
    "\n",
    "1. Traverse the directory to find all `.txt` files.\n",
    "2. For each `.txt` file, extract the first token from each line and count its occurrences.\n",
    "3. Print the count of each label.\n",
    "4. Plot a bar chart of the label counts using `matplotlib`."
   ]
  },
  {
   "cell_type": "code",
   "execution_count": 8,
   "metadata": {},
   "outputs": [
    {
     "name": "stdout",
     "output_type": "stream",
     "text": [
      "Label 0: 214\n",
      "Label 3: 409\n",
      "Label 2: 81\n",
      "Label 1: 111\n"
     ]
    },
    {
     "data": {
      "image/png": "[encoded data removed]",
      "text/plain": [
       "<Figure size 1000x600 with 1 Axes>"
      ]
     },
     "metadata": {},
     "output_type": "display_data"
    }
   ],
   "source": [
    "import os\n",
    "from collections import Counter\n",
    "\n",
    "def scan_and_extract_labels_from_txt(directory):\n",
    "    label_counts = Counter()\n",
    "    for root, dirs, files in os.walk(directory):\n",
    "        for file in files:\n",
    "            if file.endswith('.txt'):\n",
    "                file_path = os.path.join(root, file)\n",
    "                try:\n",
    "                    with open(file_path, 'r') as f:\n",
    "                        for line in f:\n",
    "                            label = line.strip().split()[0]\n",
    "                            label_counts[label] += 1\n",
    "                except Exception as e:\n",
    "                    print(f\"Error processing file {file_path}: {e}\")\n",
    "\n",
    "    # Print the count of each label\n",
    "    for label, count in label_counts.items():\n",
    "        print(f\"Label {label}: {count}\")\n",
    "\n",
    "    return label_counts\n",
    "\n",
    "# Replace 'your_directory_path_here' with the path to your directory\n",
    "directory_path = 'Post_Event_Grids_In_JPEG/YOLODataset/labels'\n",
    "label_counts = scan_and_extract_labels_from_txt(directory_path)\n",
    "\n",
    "# Plotting the bar chart\n",
    "labels, counts = zip(*label_counts.items())\n",
    "plt.figure(figsize=(10, 6))\n",
    "plt.bar(labels, counts, color='skyblue')\n",
    "plt.xlabel('Labels')\n",
    "plt.ylabel('Counts')\n",
    "plt.title('Label Counts in Dataset')\n",
    "plt.xticks(rotation=45)\n",
    "plt.show()\n"
   ]
  },
  {
   "cell_type": "markdown",
   "metadata": {},
   "source": [
    "# Image Augmentation Pipeline\n",
    "\n",
    "This script defines an image augmentation pipeline using the `albumentations` library. The pipeline includes various augmentations such as horizontal flip, vertical flip, random rotation, brightness/contrast adjustment, Gaussian noise, and blur. The following steps are performed:\n",
    "\n",
    "1. Import necessary augmentation functions from `albumentations`.\n",
    "2. Define a function to create and return a composition of augmentations."
   ]
  },
  {
   "cell_type": "code",
   "execution_count": 4,
   "metadata": {},
   "outputs": [
    {
     "name": "stdout",
     "output_type": "stream",
     "text": [
      "Collecting albumentations\n",
      "  Using cached albumentations-1.4.7-py3-none-any.whl.metadata (37 kB)\n",
      "Requirement already satisfied: numpy>=1.24.4 in /Library/Frameworks/Python.framework/Versions/3.10/lib/python3.10/site-packages (from albumentations) (1.26.4)\n",
      "Requirement already satisfied: scipy>=1.10.0 in /Library/Frameworks/Python.framework/Versions/3.10/lib/python3.10/site-packages (from albumentations) (1.12.0)\n",
      "Collecting scikit-image>=0.21.0 (from albumentations)\n",
      "  Downloading scikit_image-0.23.2-cp310-cp310-macosx_10_9_x86_64.whl.metadata (14 kB)\n",
      "Requirement already satisfied: PyYAML in /Library/Frameworks/Python.framework/Versions/3.10/lib/python3.10/site-packages (from albumentations) (6.0.1)\n",
      "Requirement already satisfied: typing-extensions>=4.9.0 in /Library/Frameworks/Python.framework/Versions/3.10/lib/python3.10/site-packages (from albumentations) (4.9.0)\n",
      "Requirement already satisfied: scikit-learn>=1.3.2 in /Library/Frameworks/Python.framework/Versions/3.10/lib/python3.10/site-packages (from albumentations) (1.4.2)\n",
      "Collecting pydantic>=2.7.0 (from albumentations)\n",
      "  Using cached pydantic-2.7.1-py3-none-any.whl.metadata (107 kB)\n",
      "Requirement already satisfied: opencv-python-headless>=4.9.0 in /Library/Frameworks/Python.framework/Versions/3.10/lib/python3.10/site-packages (from albumentations) (4.9.0.80)\n",
      "Collecting annotated-types>=0.4.0 (from pydantic>=2.7.0->albumentations)\n",
      "  Using cached annotated_types-0.6.0-py3-none-any.whl.metadata (12 kB)\n",
      "Collecting pydantic-core==2.18.2 (from pydantic>=2.7.0->albumentations)\n",
      "  Downloading pydantic_core-2.18.2-cp310-cp310-macosx_10_12_x86_64.whl.metadata (6.5 kB)\n",
      "Requirement already satisfied: networkx>=2.8 in /Library/Frameworks/Python.framework/Versions/3.10/lib/python3.10/site-packages (from scikit-image>=0.21.0->albumentations) (3.2.1)\n",
      "Requirement already satisfied: pillow>=9.1 in /Library/Frameworks/Python.framework/Versions/3.10/lib/python3.10/site-packages (from scikit-image>=0.21.0->albumentations) (10.2.0)\n",
      "Collecting imageio>=2.33 (from scikit-image>=0.21.0->albumentations)\n",
      "  Using cached imageio-2.34.1-py3-none-any.whl.metadata (4.9 kB)\n",
      "Collecting tifffile>=2022.8.12 (from scikit-image>=0.21.0->albumentations)\n",
      "  Downloading tifffile-2024.5.10-py3-none-any.whl.metadata (32 kB)\n",
      "Requirement already satisfied: packaging>=21 in /Library/Frameworks/Python.framework/Versions/3.10/lib/python3.10/site-packages (from scikit-image>=0.21.0->albumentations) (23.2)\n",
      "Collecting lazy-loader>=0.4 (from scikit-image>=0.21.0->albumentations)\n",
      "  Using cached lazy_loader-0.4-py3-none-any.whl.metadata (7.6 kB)\n",
      "Requirement already satisfied: joblib>=1.2.0 in /Library/Frameworks/Python.framework/Versions/3.10/lib/python3.10/site-packages (from scikit-learn>=1.3.2->albumentations) (1.4.0)\n",
      "Requirement already satisfied: threadpoolctl>=2.0.0 in /Library/Frameworks/Python.framework/Versions/3.10/lib/python3.10/site-packages (from scikit-learn>=1.3.2->albumentations) (3.5.0)\n",
      "Using cached albumentations-1.4.7-py3-none-any.whl (155 kB)\n",
      "Using cached pydantic-2.7.1-py3-none-any.whl (409 kB)\n",
      "Downloading pydantic_core-2.18.2-cp310-cp310-macosx_10_12_x86_64.whl (1.9 MB)\n",
      "\u001b[2K   \u001b[90m━━━━━━━━━━━━━━━━━━━━━━━━━━━━━━━━━━━━━━━━\u001b[0m \u001b[32m1.9/1.9 MB\u001b[0m \u001b[31m12.4 MB/s\u001b[0m eta \u001b[36m0:00:00\u001b[0ma \u001b[36m0:00:01\u001b[0m\n",
      "\u001b[?25hDownloading scikit_image-0.23.2-cp310-cp310-macosx_10_9_x86_64.whl (14.0 MB)\n",
      "\u001b[2K   \u001b[90m━━━━━━━━━━━━━━━━━━━━━━━━━━━━━━━━━━━━━━━━\u001b[0m \u001b[32m14.0/14.0 MB\u001b[0m \u001b[31m4.0 MB/s\u001b[0m eta \u001b[36m0:00:00\u001b[0m00:01\u001b[0m00:01\u001b[0m\n",
      "\u001b[?25hUsing cached annotated_types-0.6.0-py3-none-any.whl (12 kB)\n",
      "Using cached imageio-2.34.1-py3-none-any.whl (313 kB)\n",
      "Using cached lazy_loader-0.4-py3-none-any.whl (12 kB)\n",
      "Downloading tifffile-2024.5.10-py3-none-any.whl (225 kB)\n",
      "\u001b[2K   \u001b[90m━━━━━━━━━━━━━━━━━━━━━━━━━━━━━━━━━━━━━━━━\u001b[0m \u001b[32m225.7/225.7 kB\u001b[0m \u001b[31m5.4 MB/s\u001b[0m eta \u001b[36m0:00:00\u001b[0m:00:01\u001b[0m\n",
      "\u001b[?25hInstalling collected packages: tifffile, pydantic-core, lazy-loader, imageio, annotated-types, scikit-image, pydantic, albumentations\n",
      "Successfully installed albumentations-1.4.7 annotated-types-0.6.0 imageio-2.34.1 lazy-loader-0.4 pydantic-2.7.1 pydantic-core-2.18.2 scikit-image-0.23.2 tifffile-2024.5.10\n",
      "Note: you may need to restart the kernel to use updated packages.\n"
     ]
    }
   ],
   "source": [
    "%pip install albumentations\n"
   ]
  },
  {
   "cell_type": "code",
   "execution_count": 6,
   "metadata": {},
   "outputs": [],
   "source": [
    "from albumentations import Compose, HorizontalFlip, VerticalFlip, RandomRotate90, RandomBrightnessContrast, GaussNoise, Blur\n",
    "\n",
    "def get_augmentation_pipeline():\n",
    "    \"\"\"Defines and returns an augmentation pipeline with multiple augmentations.\"\"\"\n",
    "    return Compose([\n",
    "        HorizontalFlip(p=0.5),\n",
    "        VerticalFlip(p=0.5),\n",
    "        RandomRotate90(p=0.5),\n",
    "        RandomBrightnessContrast(p=0.5),\n",
    "        GaussNoise(p=0.2),\n",
    "        Blur(blur_limit=3, p=0.2),\n",
    "        # Add more augmentations here as needed.\n",
    "    ])\n"
   ]
  },
  {
   "cell_type": "markdown",
   "metadata": {},
   "source": [
    "# Image Loading, Saving, and Augmentation Functions\n",
    "\n",
    "This script provides functions to load an image, save an image, and apply an augmentation pipeline to an image using `opencv` and `albumentations` libraries. The following steps are performed:\n",
    "\n",
    "1. Load an image from a given path.\n",
    "2. Save an image to a given path.\n",
    "3. Apply an augmentation pipeline to an image."
   ]
  },
  {
   "cell_type": "code",
   "execution_count": 7,
   "metadata": {},
   "outputs": [],
   "source": [
    "def load_image(image_path):\n",
    "    \"\"\"Loads an image from a given path.\"\"\"\n",
    "    image = cv2.imread(image_path)\n",
    "    image = cv2.cvtColor(image, cv2.COLOR_BGR2RGB)\n",
    "    return image\n",
    "\n",
    "def save_image(image, path):\n",
    "    \"\"\"Saves an image to a given path.\"\"\"\n",
    "    image = cv2.cvtColor(image, cv2.COLOR_RGB2BGR)\n",
    "    cv2.imwrite(path, image)\n",
    "\n",
    "\n",
    "def augment_image(image, augmentation_pipeline):\n",
    "    \"\"\"Applies the augmentation pipeline to an image.\"\"\"\n",
    "    augmented = augmentation_pipeline(image=image)\n",
    "    return augmented['image']\n"
   ]
  },
  {
   "cell_type": "markdown",
   "metadata": {},
   "source": [
    "# Image Augmentation Pipeline\n",
    "\n",
    "This script defines an image augmentation pipeline using the `albumentations` library. The pipeline includes various augmentations such as horizontal flip, vertical flip, random rotation, brightness/contrast adjustment, Gaussian noise, and blur. The following steps are performed:\n",
    "\n",
    "1. Import necessary augmentation functions from `albumentations`.\n",
    "2. Define a function to create and return a composition of augmentations.\n"
   ]
  },
  {
   "cell_type": "code",
   "execution_count": 8,
   "metadata": {},
   "outputs": [],
   "source": [
    "import os\n",
    "from PIL import Image\n",
    "import cv2\n",
    "\n",
    "# Assuming the load_image and save_image functions are already defined as per previous examples.\n",
    "\n",
    "def process_directory(input_dir, output_dir):\n",
    "    \"\"\"Processes all images in the input directory with augmentations and saves them to the output directory.\"\"\"\n",
    "    # Make sure the output directory exists\n",
    "    if not os.path.exists(output_dir):\n",
    "        os.makedirs(output_dir)\n",
    "    \n",
    "    augmentation_pipeline = get_augmentation_pipeline()\n",
    "\n",
    "    # Iterate through all files in the input directory\n",
    "    for filename in os.listdir(input_dir):\n",
    "        if filename.lower().endswith((\".jpg\", \".jpeg\", \".png\", \".tif\", \".tiff\")):\n",
    "            input_path = os.path.join(input_dir, filename)\n",
    "            output_path = os.path.join(output_dir, f\"aug_{filename}\")\n",
    "            \n",
    "            try:\n",
    "                # Load the image\n",
    "                image = load_image(input_path)\n",
    "                # Apply augmentations\n",
    "                augmented_image = augment_image(image, augmentation_pipeline)\n",
    "                # Save the augmented image\n",
    "                save_image(augmented_image, output_path)\n",
    "                print(f\"Processed and saved {filename} as {output_path}\")\n",
    "            except Exception as e:\n",
    "                print(f\"Failed to process {filename}: {e}\")\n",
    "\n",
    "# Example usage\n",
    "if __name__ == \"__main__\":\n",
    "    input_directory = 'Intersecting_Batches-4/jpeg'\n",
    "    output_directory = 'Intersecting_Batches-4/jpeg'\n",
    "    process_directory(input_directory, output_directory)\n"
   ]
  },
  {
   "cell_type": "markdown",
   "metadata": {},
   "source": [
    "# Model"
   ]
  },
  {
   "cell_type": "code",
   "execution_count": 9,
   "metadata": {},
   "outputs": [],
   "source": [
    "images_path = 'datasets/images'\n",
    "labels_path = 'datasets/labels'"
   ]
  },
  {
   "cell_type": "markdown",
   "metadata": {},
   "source": [
    "# YOLOv8 Model Initialization\n",
    "\n",
    "This line initializes a YOLOv8 model by loading the pre-trained weights from the \"yolov8s.pt\" file, allowing for object detection and image segmentation tasks.\n"
   ]
  },
  {
   "cell_type": "code",
   "execution_count": 12,
   "metadata": {},
   "outputs": [],
   "source": [
    "model = YOLO(\"yolov8s.pt\")"
   ]
  },
  {
   "cell_type": "markdown",
   "metadata": {},
   "source": [
    "# Model Training\n",
    "\n",
    "This line trains the YOLOv8 model using the dataset specified in the `dataset.yaml` file. The training process runs for 12 epochs with an image size of 512x512 pixels.\n"
   ]
  },
  {
   "cell_type": "code",
   "execution_count": 20,
   "metadata": {},
   "outputs": [
    {
     "name": "stdout",
     "output_type": "stream",
     "text": [
      "New https://pypi.org/project/ultralytics/8.1.26 available 😃 Update with 'pip install -U ultralytics'\n",
      "Ultralytics YOLOv8.1.24 🚀 Python-3.8.5 torch-2.2.1 CPU (Intel Core(TM) i5-1030NG7 1.10GHz)\n",
      "\u001b[34m\u001b[1mengine/trainer: \u001b[0mtask=detect, mode=train, model=yolov8s.pt, data=./dataset.yaml, epochs=12, time=None, patience=100, batch=16, imgsz=512, save=True, save_period=-1, cache=False, device=None, workers=8, project=None, name=train23, exist_ok=False, pretrained=True, optimizer=auto, verbose=True, seed=0, deterministic=True, single_cls=False, rect=False, cos_lr=False, close_mosaic=10, resume=False, amp=True, fraction=1.0, profile=False, freeze=None, multi_scale=False, overlap_mask=True, mask_ratio=4, dropout=0.0, val=True, split=val, save_json=False, save_hybrid=False, conf=None, iou=0.7, max_det=300, half=False, dnn=False, plots=True, source=None, vid_stride=1, stream_buffer=False, visualize=False, augment=False, agnostic_nms=False, classes=None, retina_masks=False, embed=None, show=False, save_frames=False, save_txt=False, save_conf=False, save_crop=False, show_labels=True, show_conf=True, show_boxes=True, line_width=None, format=torchscript, keras=False, optimize=False, int8=False, dynamic=False, simplify=False, opset=None, workspace=4, nms=False, lr0=0.01, lrf=0.01, momentum=0.937, weight_decay=0.0005, warmup_epochs=3.0, warmup_momentum=0.8, warmup_bias_lr=0.1, box=7.5, cls=0.5, dfl=1.5, pose=12.0, kobj=1.0, label_smoothing=0.0, nbs=64, hsv_h=0.015, hsv_s=0.7, hsv_v=0.4, degrees=0.0, translate=0.1, scale=0.5, shear=0.0, perspective=0.0, flipud=0.0, fliplr=0.5, mosaic=1.0, mixup=0.0, copy_paste=0.0, auto_augment=randaugment, erasing=0.4, crop_fraction=1.0, cfg=None, tracker=botsort.yaml, save_dir=/Users/elenalickel/Desktop/EY_challengev2/runs/detect/train23\n",
      "\n",
      "                   from  n    params  module                                       arguments                     \n",
      "  0                  -1  1       928  ultralytics.nn.modules.conv.Conv             [3, 32, 3, 2]                 \n",
      "  1                  -1  1     18560  ultralytics.nn.modules.conv.Conv             [32, 64, 3, 2]                \n",
      "  2                  -1  1     29056  ultralytics.nn.modules.block.C2f             [64, 64, 1, True]             \n",
      "  3                  -1  1     73984  ultralytics.nn.modules.conv.Conv             [64, 128, 3, 2]               \n",
      "  4                  -1  2    197632  ultralytics.nn.modules.block.C2f             [128, 128, 2, True]           \n",
      "  5                  -1  1    295424  ultralytics.nn.modules.conv.Conv             [128, 256, 3, 2]              \n",
      "  6                  -1  2    788480  ultralytics.nn.modules.block.C2f             [256, 256, 2, True]           \n",
      "  7                  -1  1   1180672  ultralytics.nn.modules.conv.Conv             [256, 512, 3, 2]              \n",
      "  8                  -1  1   1838080  ultralytics.nn.modules.block.C2f             [512, 512, 1, True]           \n",
      "  9                  -1  1    656896  ultralytics.nn.modules.block.SPPF            [512, 512, 5]                 \n",
      " 10                  -1  1         0  torch.nn.modules.upsampling.Upsample         [None, 2, 'nearest']          \n",
      " 11             [-1, 6]  1         0  ultralytics.nn.modules.conv.Concat           [1]                           \n",
      " 12                  -1  1    591360  ultralytics.nn.modules.block.C2f             [768, 256, 1]                 \n",
      " 13                  -1  1         0  torch.nn.modules.upsampling.Upsample         [None, 2, 'nearest']          \n",
      " 14             [-1, 4]  1         0  ultralytics.nn.modules.conv.Concat           [1]                           \n",
      " 15                  -1  1    148224  ultralytics.nn.modules.block.C2f             [384, 128, 1]                 \n",
      " 16                  -1  1    147712  ultralytics.nn.modules.conv.Conv             [128, 128, 3, 2]              \n",
      " 17            [-1, 12]  1         0  ultralytics.nn.modules.conv.Concat           [1]                           \n",
      " 18                  -1  1    493056  ultralytics.nn.modules.block.C2f             [384, 256, 1]                 \n",
      " 19                  -1  1    590336  ultralytics.nn.modules.conv.Conv             [256, 256, 3, 2]              \n",
      " 20             [-1, 9]  1         0  ultralytics.nn.modules.conv.Concat           [1]                           \n",
      " 21                  -1  1   1969152  ultralytics.nn.modules.block.C2f             [768, 512, 1]                 \n",
      " 22        [15, 18, 21]  1   2117596  ultralytics.nn.modules.head.Detect           [4, [128, 256, 512]]          \n",
      "Model summary: 225 layers, 11137148 parameters, 11137132 gradients, 28.7 GFLOPs\n",
      "\n",
      "Transferred 355/355 items from pretrained weights\n",
      "Freezing layer 'model.22.dfl.conv.weight'\n"
     ]
    },
    {
     "name": "stderr",
     "output_type": "stream",
     "text": [
      "\u001b[34m\u001b[1mtrain: \u001b[0mScanning /Users/elenalickel/Desktop/EY_Challengev2/Intersecting_Batches-4/YOLODataset/labels/train... 78 images, 11 backgrounds, 0 corrupt: 100%|██████████| 89/89 [00:00<00:00, 149.81it/s]\n"
     ]
    },
    {
     "name": "stdout",
     "output_type": "stream",
     "text": [
      "\u001b[34m\u001b[1mtrain: \u001b[0mNew cache created: /Users/elenalickel/Desktop/EY_Challengev2/Intersecting_Batches-4/YOLODataset/labels/train.cache\n",
      "\u001b[34m\u001b[1malbumentations: \u001b[0mBlur(p=0.01, blur_limit=(3, 7)), MedianBlur(p=0.01, blur_limit=(3, 7)), ToGray(p=0.01), CLAHE(p=0.01, clip_limit=(1, 4.0), tile_grid_size=(8, 8))\n"
     ]
    },
    {
     "name": "stderr",
     "output_type": "stream",
     "text": [
      "\u001b[34m\u001b[1mval: \u001b[0mScanning /Users/elenalickel/Desktop/EY_Challengev2/Intersecting_Batches-4/YOLODataset/labels/train.cache... 78 images, 11 backgrounds, 0 corrupt: 100%|██████████| 89/89 [00:00<?, ?it/s]\n"
     ]
    },
    {
     "name": "stdout",
     "output_type": "stream",
     "text": [
      "Plotting labels to /Users/elenalickel/Desktop/EY_challengev2/runs/detect/train23/labels.jpg... \n",
      "\u001b[34m\u001b[1moptimizer:\u001b[0m 'optimizer=auto' found, ignoring 'lr0=0.01' and 'momentum=0.937' and determining best 'optimizer', 'lr0' and 'momentum' automatically... \n",
      "\u001b[34m\u001b[1moptimizer:\u001b[0m AdamW(lr=0.00125, momentum=0.9) with parameter groups 57 weight(decay=0.0), 64 weight(decay=0.0005), 63 bias(decay=0.0)\n",
      "Image sizes 512 train, 512 val\n",
      "Using 0 dataloader workers\n",
      "Logging results to \u001b[1m/Users/elenalickel/Desktop/EY_challengev2/runs/detect/train23\u001b[0m\n",
      "Starting training for 12 epochs...\n",
      "\n",
      "      Epoch    GPU_mem   box_loss   cls_loss   dfl_loss  Instances       Size\n"
     ]
    },
    {
     "name": "stderr",
     "output_type": "stream",
     "text": [
      "       1/12         0G       1.91      4.258      1.592        103        512: 100%|██████████| 6/6 [05:01<00:00, 50.20s/it]\n",
      "                 Class     Images  Instances      Box(P          R      mAP50  mAP50-95): 100%|██████████| 3/3 [01:24<00:00, 28.27s/it]"
     ]
    },
    {
     "name": "stdout",
     "output_type": "stream",
     "text": [
      "                   all         89       1156     0.0527      0.486     0.0653     0.0334\n"
     ]
    },
    {
     "name": "stderr",
     "output_type": "stream",
     "text": [
      "\n"
     ]
    },
    {
     "name": "stdout",
     "output_type": "stream",
     "text": [
      "\n",
      "      Epoch    GPU_mem   box_loss   cls_loss   dfl_loss  Instances       Size\n"
     ]
    },
    {
     "name": "stderr",
     "output_type": "stream",
     "text": [
      "       2/12         0G      1.678      3.108      1.392        158        512: 100%|██████████| 6/6 [03:42<00:00, 37.16s/it]\n",
      "                 Class     Images  Instances      Box(P          R      mAP50  mAP50-95): 100%|██████████| 3/3 [01:02<00:00, 20.94s/it]"
     ]
    },
    {
     "name": "stdout",
     "output_type": "stream",
     "text": [
      "                   all         89       1156      0.189      0.429      0.161     0.0857\n"
     ]
    },
    {
     "name": "stderr",
     "output_type": "stream",
     "text": [
      "\n"
     ]
    },
    {
     "name": "stdout",
     "output_type": "stream",
     "text": [
      "Closing dataloader mosaic\n",
      "\u001b[34m\u001b[1malbumentations: \u001b[0mBlur(p=0.01, blur_limit=(3, 7)), MedianBlur(p=0.01, blur_limit=(3, 7)), ToGray(p=0.01), CLAHE(p=0.01, clip_limit=(1, 4.0), tile_grid_size=(8, 8))\n",
      "\n",
      "      Epoch    GPU_mem   box_loss   cls_loss   dfl_loss  Instances       Size\n"
     ]
    },
    {
     "name": "stderr",
     "output_type": "stream",
     "text": [
      "       3/12         0G      1.537      2.335      1.347        120        512: 100%|██████████| 6/6 [03:01<00:00, 30.27s/it]\n",
      "                 Class     Images  Instances      Box(P          R      mAP50  mAP50-95): 100%|██████████| 3/3 [01:04<00:00, 21.34s/it]"
     ]
    },
    {
     "name": "stdout",
     "output_type": "stream",
     "text": [
      "                   all         89       1156      0.189      0.439      0.173     0.0926\n"
     ]
    },
    {
     "name": "stderr",
     "output_type": "stream",
     "text": [
      "\n"
     ]
    },
    {
     "name": "stdout",
     "output_type": "stream",
     "text": [
      "\n",
      "      Epoch    GPU_mem   box_loss   cls_loss   dfl_loss  Instances       Size\n"
     ]
    },
    {
     "name": "stderr",
     "output_type": "stream",
     "text": [
      "       4/12         0G      1.466      2.151      1.261         94        512: 100%|██████████| 6/6 [02:59<00:00, 29.91s/it]\n",
      "                 Class     Images  Instances      Box(P          R      mAP50  mAP50-95): 100%|██████████| 3/3 [00:56<00:00, 18.95s/it]"
     ]
    },
    {
     "name": "stdout",
     "output_type": "stream",
     "text": [
      "                   all         89       1156      0.286      0.476       0.26      0.138\n"
     ]
    },
    {
     "name": "stderr",
     "output_type": "stream",
     "text": [
      "\n"
     ]
    },
    {
     "name": "stdout",
     "output_type": "stream",
     "text": [
      "\n",
      "      Epoch    GPU_mem   box_loss   cls_loss   dfl_loss  Instances       Size\n"
     ]
    },
    {
     "name": "stderr",
     "output_type": "stream",
     "text": [
      "       5/12         0G      1.395      2.043      1.223         80        512: 100%|██████████| 6/6 [03:01<00:00, 30.31s/it]\n",
      "                 Class     Images  Instances      Box(P          R      mAP50  mAP50-95): 100%|██████████| 3/3 [00:50<00:00, 16.95s/it]"
     ]
    },
    {
     "name": "stdout",
     "output_type": "stream",
     "text": [
      "                   all         89       1156      0.311      0.421      0.297      0.177\n"
     ]
    },
    {
     "name": "stderr",
     "output_type": "stream",
     "text": [
      "\n"
     ]
    },
    {
     "name": "stdout",
     "output_type": "stream",
     "text": [
      "\n",
      "      Epoch    GPU_mem   box_loss   cls_loss   dfl_loss  Instances       Size\n"
     ]
    },
    {
     "name": "stderr",
     "output_type": "stream",
     "text": [
      "       6/12         0G      1.372      1.939       1.26        105        512: 100%|██████████| 6/6 [03:28<00:00, 34.68s/it]\n",
      "                 Class     Images  Instances      Box(P          R      mAP50  mAP50-95): 100%|██████████| 3/3 [01:24<00:00, 28.07s/it]"
     ]
    },
    {
     "name": "stdout",
     "output_type": "stream",
     "text": [
      "                   all         89       1156      0.288      0.548      0.331      0.209\n"
     ]
    },
    {
     "name": "stderr",
     "output_type": "stream",
     "text": [
      "\n"
     ]
    },
    {
     "name": "stdout",
     "output_type": "stream",
     "text": [
      "\n",
      "      Epoch    GPU_mem   box_loss   cls_loss   dfl_loss  Instances       Size\n"
     ]
    },
    {
     "name": "stderr",
     "output_type": "stream",
     "text": [
      "       7/12         0G      1.384       1.83      1.284        136        512: 100%|██████████| 6/6 [04:48<00:00, 48.15s/it]\n",
      "                 Class     Images  Instances      Box(P          R      mAP50  mAP50-95): 100%|██████████| 3/3 [00:58<00:00, 19.56s/it]"
     ]
    },
    {
     "name": "stdout",
     "output_type": "stream",
     "text": [
      "                   all         89       1156      0.363      0.445      0.349       0.21\n"
     ]
    },
    {
     "name": "stderr",
     "output_type": "stream",
     "text": [
      "\n"
     ]
    },
    {
     "name": "stdout",
     "output_type": "stream",
     "text": [
      "\n",
      "      Epoch    GPU_mem   box_loss   cls_loss   dfl_loss  Instances       Size\n"
     ]
    },
    {
     "name": "stderr",
     "output_type": "stream",
     "text": [
      "       8/12         0G       1.33      1.727      1.212        171        512: 100%|██████████| 6/6 [03:24<00:00, 34.16s/it]\n",
      "                 Class     Images  Instances      Box(P          R      mAP50  mAP50-95): 100%|██████████| 3/3 [00:51<00:00, 17.06s/it]"
     ]
    },
    {
     "name": "stdout",
     "output_type": "stream",
     "text": [
      "                   all         89       1156       0.38      0.481      0.392      0.246\n"
     ]
    },
    {
     "name": "stderr",
     "output_type": "stream",
     "text": [
      "\n"
     ]
    },
    {
     "name": "stdout",
     "output_type": "stream",
     "text": [
      "\n",
      "      Epoch    GPU_mem   box_loss   cls_loss   dfl_loss  Instances       Size\n"
     ]
    },
    {
     "name": "stderr",
     "output_type": "stream",
     "text": [
      "       9/12         0G      1.263      1.666      1.232         64        512: 100%|██████████| 6/6 [03:00<00:00, 30.03s/it]\n",
      "                 Class     Images  Instances      Box(P          R      mAP50  mAP50-95): 100%|██████████| 3/3 [00:51<00:00, 17.30s/it]"
     ]
    },
    {
     "name": "stdout",
     "output_type": "stream",
     "text": [
      "                   all         89       1156      0.421      0.515      0.444      0.282\n"
     ]
    },
    {
     "name": "stderr",
     "output_type": "stream",
     "text": [
      "\n"
     ]
    },
    {
     "name": "stdout",
     "output_type": "stream",
     "text": [
      "\n",
      "      Epoch    GPU_mem   box_loss   cls_loss   dfl_loss  Instances       Size\n"
     ]
    },
    {
     "name": "stderr",
     "output_type": "stream",
     "text": [
      "      10/12         0G      1.333      1.704      1.214        114        512: 100%|██████████| 6/6 [03:12<00:00, 32.12s/it]\n",
      "                 Class     Images  Instances      Box(P          R      mAP50  mAP50-95): 100%|██████████| 3/3 [00:51<00:00, 17.09s/it]"
     ]
    },
    {
     "name": "stdout",
     "output_type": "stream",
     "text": [
      "                   all         89       1156      0.467      0.531      0.492      0.316\n"
     ]
    },
    {
     "name": "stderr",
     "output_type": "stream",
     "text": [
      "\n"
     ]
    },
    {
     "name": "stdout",
     "output_type": "stream",
     "text": [
      "\n",
      "      Epoch    GPU_mem   box_loss   cls_loss   dfl_loss  Instances       Size\n"
     ]
    },
    {
     "name": "stderr",
     "output_type": "stream",
     "text": [
      "      11/12         0G      1.286      1.703      1.199        117        512: 100%|██████████| 6/6 [03:24<00:00, 34.01s/it]\n",
      "                 Class     Images  Instances      Box(P          R      mAP50  mAP50-95): 100%|██████████| 3/3 [01:23<00:00, 27.90s/it]"
     ]
    },
    {
     "name": "stdout",
     "output_type": "stream",
     "text": [
      "                   all         89       1156      0.501      0.514       0.52      0.341\n"
     ]
    },
    {
     "name": "stderr",
     "output_type": "stream",
     "text": [
      "\n"
     ]
    },
    {
     "name": "stdout",
     "output_type": "stream",
     "text": [
      "\n",
      "      Epoch    GPU_mem   box_loss   cls_loss   dfl_loss  Instances       Size\n"
     ]
    },
    {
     "name": "stderr",
     "output_type": "stream",
     "text": [
      "      12/12         0G      1.236      1.562      1.154         96        512: 100%|██████████| 6/6 [04:32<00:00, 45.45s/it]\n",
      "                 Class     Images  Instances      Box(P          R      mAP50  mAP50-95): 100%|██████████| 3/3 [01:36<00:00, 32.19s/it]\n"
     ]
    },
    {
     "name": "stdout",
     "output_type": "stream",
     "text": [
      "                   all         89       1156      0.522       0.55      0.555      0.366\n",
      "\n",
      "12 epochs completed in 0.961 hours.\n",
      "Optimizer stripped from /Users/elenalickel/Desktop/EY_challengev2/runs/detect/train23/weights/last.pt, 22.5MB\n",
      "Optimizer stripped from /Users/elenalickel/Desktop/EY_challengev2/runs/detect/train23/weights/best.pt, 22.5MB\n",
      "\n",
      "Validating /Users/elenalickel/Desktop/EY_challengev2/runs/detect/train23/weights/best.pt...\n",
      "Ultralytics YOLOv8.1.24 🚀 Python-3.8.5 torch-2.2.1 CPU (Intel Core(TM) i5-1030NG7 1.10GHz)\n",
      "Model summary (fused): 168 layers, 11127132 parameters, 0 gradients, 28.4 GFLOPs\n"
     ]
    },
    {
     "name": "stderr",
     "output_type": "stream",
     "text": [
      "                 Class     Images  Instances      Box(P          R      mAP50  mAP50-95): 100%|██████████| 3/3 [01:09<00:00, 23.15s/it]\n"
     ]
    },
    {
     "name": "stdout",
     "output_type": "stream",
     "text": [
      "                   all         89       1156      0.525      0.548      0.555      0.366\n",
      "                     0         89        260      0.536      0.496      0.504      0.299\n",
      "                     3         89        198      0.505      0.504      0.507      0.338\n",
      "                     2         89        174       0.43      0.498      0.516      0.394\n",
      "                     1         89        524      0.628      0.693      0.694      0.433\n",
      "Speed: 5.6ms preprocess, 716.1ms inference, 0.0ms loss, 16.6ms postprocess per image\n",
      "Results saved to \u001b[1m/Users/elenalickel/Desktop/EY_challengev2/runs/detect/train23\u001b[0m\n"
     ]
    }
   ],
   "source": [
    "results = model.train(data='./dataset.yaml', epochs=12, imgsz=512)"
   ]
  },
  {
   "cell_type": "markdown",
   "metadata": {},
   "source": [
    "# Install Packages for Hyperparameter Tuning\n",
    "\n",
    "This script imports necessary functions for hyperparameter tuning from the `hyperopt` library. The imported functions include:\n",
    "\n",
    "- `fmin`: Function to minimize the objective function.\n",
    "- `tpe`: Tree-structured Parzen Estimator, a sequential model-based optimization algorithm.\n",
    "- `hp`: Hyperparameter search space.\n",
    "- `STATUS_OK`: Status flag for successful trials.\n",
    "- `Trials`: Object to keep track of the optimization process and results.\n"
   ]
  },
  {
   "cell_type": "code",
   "execution_count": 16,
   "metadata": {},
   "outputs": [
    {
     "name": "stdout",
     "output_type": "stream",
     "text": [
      "Collecting hyperopt\n",
      "  Using cached hyperopt-0.2.7-py2.py3-none-any.whl.metadata (1.7 kB)\n",
      "Requirement already satisfied: numpy in /Library/Frameworks/Python.framework/Versions/3.10/lib/python3.10/site-packages (from hyperopt) (1.26.4)\n",
      "Requirement already satisfied: scipy in /Library/Frameworks/Python.framework/Versions/3.10/lib/python3.10/site-packages (from hyperopt) (1.12.0)\n",
      "Requirement already satisfied: six in /Library/Frameworks/Python.framework/Versions/3.10/lib/python3.10/site-packages (from hyperopt) (1.16.0)\n",
      "Requirement already satisfied: networkx>=2.2 in /Library/Frameworks/Python.framework/Versions/3.10/lib/python3.10/site-packages (from hyperopt) (3.2.1)\n",
      "Collecting future (from hyperopt)\n",
      "  Using cached future-1.0.0-py3-none-any.whl.metadata (4.0 kB)\n",
      "Requirement already satisfied: tqdm in /Library/Frameworks/Python.framework/Versions/3.10/lib/python3.10/site-packages (from hyperopt) (4.66.2)\n",
      "Collecting cloudpickle (from hyperopt)\n",
      "  Using cached cloudpickle-3.0.0-py3-none-any.whl.metadata (7.0 kB)\n",
      "Collecting py4j (from hyperopt)\n",
      "  Using cached py4j-0.10.9.7-py2.py3-none-any.whl.metadata (1.5 kB)\n",
      "Using cached hyperopt-0.2.7-py2.py3-none-any.whl (1.6 MB)\n",
      "Using cached cloudpickle-3.0.0-py3-none-any.whl (20 kB)\n",
      "Using cached future-1.0.0-py3-none-any.whl (491 kB)\n",
      "Using cached py4j-0.10.9.7-py2.py3-none-any.whl (200 kB)\n",
      "Installing collected packages: py4j, future, cloudpickle, hyperopt\n",
      "Successfully installed cloudpickle-3.0.0 future-1.0.0 hyperopt-0.2.7 py4j-0.10.9.7\n",
      "Note: you may need to restart the kernel to use updated packages.\n"
     ]
    }
   ],
   "source": [
    "%pip install hyperopt"
   ]
  },
  {
   "cell_type": "code",
   "execution_count": 17,
   "metadata": {},
   "outputs": [],
   "source": [
    "# install packages for hyperparameter tuning \n",
    "from hyperopt import fmin, tpe, hp, STATUS_OK, Trials"
   ]
  },
  {
   "cell_type": "code",
   "execution_count": 18,
   "metadata": {},
   "outputs": [
    {
     "name": "stdout",
     "output_type": "stream",
     "text": [
      "python: can't open file '/Users/elenalickel/Desktop/EY_Challengev2/venv/lib/python3.8/site-packages/ultralytics/models/yolo/classify/train.py': [Errno 2] No such file or directory\n"
     ]
    }
   ],
   "source": [
    "!python /Users/elenalickel/Desktop/EY_Challengev2/venv/lib/python3.8/site-packages/ultralytics/models/yolo/classify/train.py --img 512 --batch 16 --epochs 30 --data dataset.yaml --weights /runs/detect/train23/weights/last.pt"
   ]
  },
  {
   "cell_type": "markdown",
   "metadata": {},
   "source": [
    "# Hyperparameter Tuning with Ray Tune\n",
    "\n",
    "This script performs hyperparameter tuning using the `ray[tune]` library. The process involves defining a search space for hyperparameters and running multiple trials to find the optimal configuration. The following steps are performed:\n",
    "\n",
    "1. Import necessary modules from `ray.tune`.\n",
    "2. Define a function `train_model_with_ray_tune` to train the model with parameters provided by Ray Tune.\n",
    "3. Define the search space for hyperparameters.\n",
    "4. Start the hyperparameter tuning process with `tune.run`.\n",
    "5. Extract and print the best hyperparameters."
   ]
  },
  {
   "cell_type": "code",
   "execution_count": 20,
   "metadata": {},
   "outputs": [
    {
     "name": "stdout",
     "output_type": "stream",
     "text": [
      "Collecting ray\n",
      "  Downloading ray-2.22.0-cp310-cp310-macosx_10_15_x86_64.whl.metadata (13 kB)\n",
      "Requirement already satisfied: click>=7.0 in /Library/Frameworks/Python.framework/Versions/3.10/lib/python3.10/site-packages (from ray) (8.1.7)\n",
      "Requirement already satisfied: filelock in /Library/Frameworks/Python.framework/Versions/3.10/lib/python3.10/site-packages (from ray) (3.13.1)\n",
      "Collecting jsonschema (from ray)\n",
      "  Downloading jsonschema-4.22.0-py3-none-any.whl.metadata (8.2 kB)\n",
      "Collecting msgpack<2.0.0,>=1.0.0 (from ray)\n",
      "  Downloading msgpack-1.0.8-cp310-cp310-macosx_10_9_x86_64.whl.metadata (9.1 kB)\n",
      "Requirement already satisfied: packaging in /Library/Frameworks/Python.framework/Versions/3.10/lib/python3.10/site-packages (from ray) (23.2)\n",
      "Requirement already satisfied: protobuf!=3.19.5,>=3.15.3 in /Library/Frameworks/Python.framework/Versions/3.10/lib/python3.10/site-packages (from ray) (4.25.3)\n",
      "Requirement already satisfied: pyyaml in /Library/Frameworks/Python.framework/Versions/3.10/lib/python3.10/site-packages (from ray) (6.0.1)\n",
      "Collecting aiosignal (from ray)\n",
      "  Using cached aiosignal-1.3.1-py3-none-any.whl.metadata (4.0 kB)\n",
      "Collecting frozenlist (from ray)\n",
      "  Downloading frozenlist-1.4.1-cp310-cp310-macosx_10_9_x86_64.whl.metadata (12 kB)\n",
      "Requirement already satisfied: requests in /Library/Frameworks/Python.framework/Versions/3.10/lib/python3.10/site-packages (from ray) (2.31.0)\n",
      "Requirement already satisfied: attrs>=22.2.0 in /Library/Frameworks/Python.framework/Versions/3.10/lib/python3.10/site-packages (from jsonschema->ray) (23.2.0)\n",
      "Collecting jsonschema-specifications>=2023.03.6 (from jsonschema->ray)\n",
      "  Using cached jsonschema_specifications-2023.12.1-py3-none-any.whl.metadata (3.0 kB)\n",
      "Collecting referencing>=0.28.4 (from jsonschema->ray)\n",
      "  Downloading referencing-0.35.1-py3-none-any.whl.metadata (2.8 kB)\n",
      "Collecting rpds-py>=0.7.1 (from jsonschema->ray)\n",
      "  Downloading rpds_py-0.18.1-cp310-cp310-macosx_10_12_x86_64.whl.metadata (4.1 kB)\n",
      "Requirement already satisfied: charset-normalizer<4,>=2 in /Library/Frameworks/Python.framework/Versions/3.10/lib/python3.10/site-packages (from requests->ray) (3.3.2)\n",
      "Requirement already satisfied: idna<4,>=2.5 in /Library/Frameworks/Python.framework/Versions/3.10/lib/python3.10/site-packages (from requests->ray) (3.6)\n",
      "Requirement already satisfied: urllib3<3,>=1.21.1 in /Library/Frameworks/Python.framework/Versions/3.10/lib/python3.10/site-packages (from requests->ray) (2.2.0)\n",
      "Requirement already satisfied: certifi>=2017.4.17 in /Library/Frameworks/Python.framework/Versions/3.10/lib/python3.10/site-packages (from requests->ray) (2024.2.2)\n",
      "Downloading ray-2.22.0-cp310-cp310-macosx_10_15_x86_64.whl (66.4 MB)\n",
      "\u001b[2K   \u001b[90m━━━━━━━━━━━━━━━━━━━━━━━━━━━━━━━━━━━━━━━━\u001b[0m \u001b[32m66.4/66.4 MB\u001b[0m \u001b[31m21.8 MB/s\u001b[0m eta \u001b[36m0:00:00\u001b[0m00:01\u001b[0m00:01\u001b[0m\n",
      "\u001b[?25hDownloading msgpack-1.0.8-cp310-cp310-macosx_10_9_x86_64.whl (87 kB)\n",
      "\u001b[2K   \u001b[90m━━━━━━━━━━━━━━━━━━━━━━━━━━━━━━━━━━━━━━━━\u001b[0m \u001b[32m88.0/88.0 kB\u001b[0m \u001b[31m2.5 MB/s\u001b[0m eta \u001b[36m0:00:00\u001b[0m\n",
      "\u001b[?25hUsing cached aiosignal-1.3.1-py3-none-any.whl (7.6 kB)\n",
      "Downloading frozenlist-1.4.1-cp310-cp310-macosx_10_9_x86_64.whl (53 kB)\n",
      "\u001b[2K   \u001b[90m━━━━━━━━━━━━━━━━━━━━━━━━━━━━━━━━━━━━━━━━\u001b[0m \u001b[32m53.8/53.8 kB\u001b[0m \u001b[31m1.8 MB/s\u001b[0m eta \u001b[36m0:00:00\u001b[0m\n",
      "\u001b[?25hDownloading jsonschema-4.22.0-py3-none-any.whl (88 kB)\n",
      "\u001b[2K   \u001b[90m━━━━━━━━━━━━━━━━━━━━━━━━━━━━━━━━━━━━━━━━\u001b[0m \u001b[32m88.3/88.3 kB\u001b[0m \u001b[31m3.3 MB/s\u001b[0m eta \u001b[36m0:00:00\u001b[0m\n",
      "\u001b[?25hUsing cached jsonschema_specifications-2023.12.1-py3-none-any.whl (18 kB)\n",
      "Downloading referencing-0.35.1-py3-none-any.whl (26 kB)\n",
      "Downloading rpds_py-0.18.1-cp310-cp310-macosx_10_12_x86_64.whl (327 kB)\n",
      "\u001b[2K   \u001b[90m━━━━━━━━━━━━━━━━━━━━━━━━━━━━━━━━━━━━━━━━\u001b[0m \u001b[32m327.7/327.7 kB\u001b[0m \u001b[31m8.2 MB/s\u001b[0m eta \u001b[36m0:00:00\u001b[0m:00:01\u001b[0m\n",
      "\u001b[?25hInstalling collected packages: rpds-py, msgpack, frozenlist, referencing, aiosignal, jsonschema-specifications, jsonschema, ray\n",
      "Successfully installed aiosignal-1.3.1 frozenlist-1.4.1 jsonschema-4.22.0 jsonschema-specifications-2023.12.1 msgpack-1.0.8 ray-2.22.0 referencing-0.35.1 rpds-py-0.18.1\n",
      "Note: you may need to restart the kernel to use updated packages.\n"
     ]
    }
   ],
   "source": [
    "%pip install ray"
   ]
  },
  {
   "cell_type": "code",
   "execution_count": 22,
   "metadata": {},
   "outputs": [
    {
     "name": "stdout",
     "output_type": "stream",
     "text": [
      "Requirement already satisfied: ray[tune] in /Library/Frameworks/Python.framework/Versions/3.10/lib/python3.10/site-packages (2.22.0)\n",
      "Requirement already satisfied: click>=7.0 in /Library/Frameworks/Python.framework/Versions/3.10/lib/python3.10/site-packages (from ray[tune]) (8.1.7)\n",
      "Requirement already satisfied: filelock in /Library/Frameworks/Python.framework/Versions/3.10/lib/python3.10/site-packages (from ray[tune]) (3.13.1)\n",
      "Requirement already satisfied: jsonschema in /Library/Frameworks/Python.framework/Versions/3.10/lib/python3.10/site-packages (from ray[tune]) (4.22.0)\n",
      "Requirement already satisfied: msgpack<2.0.0,>=1.0.0 in /Library/Frameworks/Python.framework/Versions/3.10/lib/python3.10/site-packages (from ray[tune]) (1.0.8)\n",
      "Requirement already satisfied: packaging in /Library/Frameworks/Python.framework/Versions/3.10/lib/python3.10/site-packages (from ray[tune]) (23.2)\n",
      "Requirement already satisfied: protobuf!=3.19.5,>=3.15.3 in /Library/Frameworks/Python.framework/Versions/3.10/lib/python3.10/site-packages (from ray[tune]) (4.25.3)\n",
      "Requirement already satisfied: pyyaml in /Library/Frameworks/Python.framework/Versions/3.10/lib/python3.10/site-packages (from ray[tune]) (6.0.1)\n",
      "Requirement already satisfied: aiosignal in /Library/Frameworks/Python.framework/Versions/3.10/lib/python3.10/site-packages (from ray[tune]) (1.3.1)\n",
      "Requirement already satisfied: frozenlist in /Library/Frameworks/Python.framework/Versions/3.10/lib/python3.10/site-packages (from ray[tune]) (1.4.1)\n",
      "Requirement already satisfied: requests in /Library/Frameworks/Python.framework/Versions/3.10/lib/python3.10/site-packages (from ray[tune]) (2.31.0)\n",
      "Requirement already satisfied: pandas in /Library/Frameworks/Python.framework/Versions/3.10/lib/python3.10/site-packages (from ray[tune]) (2.2.0)\n",
      "Collecting tensorboardX>=1.9 (from ray[tune])\n",
      "  Using cached tensorboardX-2.6.2.2-py2.py3-none-any.whl.metadata (5.8 kB)\n",
      "Collecting pyarrow>=6.0.1 (from ray[tune])\n",
      "  Downloading pyarrow-16.1.0-cp310-cp310-macosx_10_15_x86_64.whl.metadata (3.0 kB)\n",
      "Requirement already satisfied: fsspec in /Library/Frameworks/Python.framework/Versions/3.10/lib/python3.10/site-packages (from ray[tune]) (2024.2.0)\n",
      "Requirement already satisfied: numpy>=1.16.6 in /Library/Frameworks/Python.framework/Versions/3.10/lib/python3.10/site-packages (from pyarrow>=6.0.1->ray[tune]) (1.26.4)\n",
      "Requirement already satisfied: attrs>=22.2.0 in /Library/Frameworks/Python.framework/Versions/3.10/lib/python3.10/site-packages (from jsonschema->ray[tune]) (23.2.0)\n",
      "Requirement already satisfied: jsonschema-specifications>=2023.03.6 in /Library/Frameworks/Python.framework/Versions/3.10/lib/python3.10/site-packages (from jsonschema->ray[tune]) (2023.12.1)\n",
      "Requirement already satisfied: referencing>=0.28.4 in /Library/Frameworks/Python.framework/Versions/3.10/lib/python3.10/site-packages (from jsonschema->ray[tune]) (0.35.1)\n",
      "Requirement already satisfied: rpds-py>=0.7.1 in /Library/Frameworks/Python.framework/Versions/3.10/lib/python3.10/site-packages (from jsonschema->ray[tune]) (0.18.1)\n",
      "Requirement already satisfied: python-dateutil>=2.8.2 in /Library/Frameworks/Python.framework/Versions/3.10/lib/python3.10/site-packages (from pandas->ray[tune]) (2.8.2)\n",
      "Requirement already satisfied: pytz>=2020.1 in /Library/Frameworks/Python.framework/Versions/3.10/lib/python3.10/site-packages (from pandas->ray[tune]) (2024.1)\n",
      "Requirement already satisfied: tzdata>=2022.7 in /Library/Frameworks/Python.framework/Versions/3.10/lib/python3.10/site-packages (from pandas->ray[tune]) (2024.1)\n",
      "Requirement already satisfied: charset-normalizer<4,>=2 in /Library/Frameworks/Python.framework/Versions/3.10/lib/python3.10/site-packages (from requests->ray[tune]) (3.3.2)\n",
      "Requirement already satisfied: idna<4,>=2.5 in /Library/Frameworks/Python.framework/Versions/3.10/lib/python3.10/site-packages (from requests->ray[tune]) (3.6)\n",
      "Requirement already satisfied: urllib3<3,>=1.21.1 in /Library/Frameworks/Python.framework/Versions/3.10/lib/python3.10/site-packages (from requests->ray[tune]) (2.2.0)\n",
      "Requirement already satisfied: certifi>=2017.4.17 in /Library/Frameworks/Python.framework/Versions/3.10/lib/python3.10/site-packages (from requests->ray[tune]) (2024.2.2)\n",
      "Requirement already satisfied: six>=1.5 in /Library/Frameworks/Python.framework/Versions/3.10/lib/python3.10/site-packages (from python-dateutil>=2.8.2->pandas->ray[tune]) (1.16.0)\n",
      "Downloading pyarrow-16.1.0-cp310-cp310-macosx_10_15_x86_64.whl (28.3 MB)\n",
      "\u001b[2K   \u001b[90m━━━━━━━━━━━━━━━━━━━━━━━━━━━━━━━━━━━━━━━━\u001b[0m \u001b[32m28.3/28.3 MB\u001b[0m \u001b[31m20.4 MB/s\u001b[0m eta \u001b[36m0:00:00\u001b[0m00:01\u001b[0m00:01\u001b[0m\n",
      "\u001b[?25hUsing cached tensorboardX-2.6.2.2-py2.py3-none-any.whl (101 kB)\n",
      "Installing collected packages: tensorboardX, pyarrow\n",
      "Successfully installed pyarrow-16.1.0 tensorboardX-2.6.2.2\n",
      "Note: you may need to restart the kernel to use updated packages.\n"
     ]
    }
   ],
   "source": [
    "%pip install \"ray[tune]\""
   ]
  },
  {
   "cell_type": "code",
   "execution_count": 23,
   "metadata": {},
   "outputs": [
    {
     "name": "stderr",
     "output_type": "stream",
     "text": [
      "2024-05-16 15:27:44,207\tINFO util.py:154 -- Missing packages: ['ipywidgets']. Run `pip install -U ipywidgets`, then restart the notebook server for rich notebook output.\n",
      "2024-05-16 15:27:50,293\tINFO worker.py:1749 -- Started a local Ray instance.\n",
      "2024-05-16 15:27:52,085\tINFO tune.py:253 -- Initializing Ray automatically. For cluster usage or custom Ray initialization, call `ray.init(...)` before `tune.run(...)`.\n",
      "2024-05-16 15:27:52,090\tINFO tune.py:614 -- [output] This uses the legacy output and progress reporter, as Jupyter notebooks are not supported by the new engine, yet. For more information, please see https://github.com/ray-project/ray/issues/36949\n"
     ]
    },
    {
     "data": {
      "text/html": [
       "<div class=\"tuneStatus\">\n",
       "  <div style=\"display: flex;flex-direction: row\">\n",
       "    <div style=\"display: flex;flex-direction: column;\">\n",
       "      <h3>Tune Status</h3>\n",
       "      <table>\n",
       "<tbody>\n",
       "<tr><td>Current time:</td><td>2024-05-16 15:42:59</td></tr>\n",
       "<tr><td>Running for: </td><td>00:15:06.84        </td></tr>\n",
       "<tr><td>Memory:      </td><td>6.1/8.0 GiB        </td></tr>\n",
       "</tbody>\n",
       "</table>\n",
       "    </div>\n",
       "    <div class=\"vDivider\"></div>\n",
       "    <div class=\"systemInfo\">\n",
       "      <h3>System Info</h3>\n",
       "      Using FIFO scheduling algorithm.<br>Logical resource usage: 0/8 CPUs, 0/0 GPUs\n",
       "    </div>\n",
       "    <div class=\"vDivider\"></div>\n",
       "<div class=\"messages\">\n",
       "  <h3>Messages</h3>\n",
       "  \n",
       "  ... 80 more trials not shown (80 PENDING)\n",
       "  \n",
       "</div>\n",
       "<style>\n",
       ".messages {\n",
       "  color: var(--jp-ui-font-color1);\n",
       "  display: flex;\n",
       "  flex-direction: column;\n",
       "  padding-left: 1em;\n",
       "  overflow-y: auto;\n",
       "}\n",
       ".messages h3 {\n",
       "  font-weight: bold;\n",
       "}\n",
       ".vDivider {\n",
       "  border-left-width: var(--jp-border-width);\n",
       "  border-left-color: var(--jp-border-color0);\n",
       "  border-left-style: solid;\n",
       "  margin: 0.5em 1em 0.5em 1em;\n",
       "}\n",
       "</style>\n",
       "\n",
       "  </div>\n",
       "  <div class=\"hDivider\"></div>\n",
       "  <div class=\"trialStatus\">\n",
       "    <h3>Trial Status</h3>\n",
       "    <table>\n",
       "<thead>\n",
       "<tr><th>Trial name                           </th><th>status  </th><th>loc  </th><th style=\"text-align: right;\">  batch_size</th><th style=\"text-align: right;\">         lr</th></tr>\n",
       "</thead>\n",
       "<tbody>\n",
       "<tr><td>train_model_with_ray_tune_189c2_00000</td><td>PENDING </td><td>     </td><td style=\"text-align: right;\">           8</td><td style=\"text-align: right;\">0.0933706  </td></tr>\n",
       "<tr><td>train_model_with_ray_tune_189c2_00001</td><td>PENDING </td><td>     </td><td style=\"text-align: right;\">          16</td><td style=\"text-align: right;\">0.00442667 </td></tr>\n",
       "<tr><td>train_model_with_ray_tune_189c2_00002</td><td>PENDING </td><td>     </td><td style=\"text-align: right;\">          16</td><td style=\"text-align: right;\">0.000229121</td></tr>\n",
       "<tr><td>train_model_with_ray_tune_189c2_00003</td><td>PENDING </td><td>     </td><td style=\"text-align: right;\">           8</td><td style=\"text-align: right;\">0.036993   </td></tr>\n",
       "<tr><td>train_model_with_ray_tune_189c2_00004</td><td>PENDING </td><td>     </td><td style=\"text-align: right;\">          16</td><td style=\"text-align: right;\">8.74086e-05</td></tr>\n",
       "<tr><td>train_model_with_ray_tune_189c2_00005</td><td>PENDING </td><td>     </td><td style=\"text-align: right;\">          32</td><td style=\"text-align: right;\">1.13153e-05</td></tr>\n",
       "<tr><td>train_model_with_ray_tune_189c2_00006</td><td>PENDING </td><td>     </td><td style=\"text-align: right;\">          32</td><td style=\"text-align: right;\">5.27727e-05</td></tr>\n",
       "<tr><td>train_model_with_ray_tune_189c2_00007</td><td>PENDING </td><td>     </td><td style=\"text-align: right;\">          16</td><td style=\"text-align: right;\">0.000342814</td></tr>\n",
       "<tr><td>train_model_with_ray_tune_189c2_00008</td><td>PENDING </td><td>     </td><td style=\"text-align: right;\">          64</td><td style=\"text-align: right;\">0.046332   </td></tr>\n",
       "<tr><td>train_model_with_ray_tune_189c2_00009</td><td>PENDING </td><td>     </td><td style=\"text-align: right;\">          64</td><td style=\"text-align: right;\">0.0515394  </td></tr>\n",
       "<tr><td>train_model_with_ray_tune_189c2_00010</td><td>PENDING </td><td>     </td><td style=\"text-align: right;\">          32</td><td style=\"text-align: right;\">0.000102885</td></tr>\n",
       "<tr><td>train_model_with_ray_tune_189c2_00011</td><td>PENDING </td><td>     </td><td style=\"text-align: right;\">          64</td><td style=\"text-align: right;\">3.9013e-05 </td></tr>\n",
       "<tr><td>train_model_with_ray_tune_189c2_00012</td><td>PENDING </td><td>     </td><td style=\"text-align: right;\">           8</td><td style=\"text-align: right;\">1.40589e-05</td></tr>\n",
       "<tr><td>train_model_with_ray_tune_189c2_00013</td><td>PENDING </td><td>     </td><td style=\"text-align: right;\">           8</td><td style=\"text-align: right;\">0.0219331  </td></tr>\n",
       "<tr><td>train_model_with_ray_tune_189c2_00014</td><td>PENDING </td><td>     </td><td style=\"text-align: right;\">          16</td><td style=\"text-align: right;\">0.0012013  </td></tr>\n",
       "<tr><td>train_model_with_ray_tune_189c2_00015</td><td>PENDING </td><td>     </td><td style=\"text-align: right;\">          16</td><td style=\"text-align: right;\">0.000155586</td></tr>\n",
       "<tr><td>train_model_with_ray_tune_189c2_00016</td><td>PENDING </td><td>     </td><td style=\"text-align: right;\">          64</td><td style=\"text-align: right;\">0.0016054  </td></tr>\n",
       "<tr><td>train_model_with_ray_tune_189c2_00017</td><td>PENDING </td><td>     </td><td style=\"text-align: right;\">          64</td><td style=\"text-align: right;\">0.000282153</td></tr>\n",
       "<tr><td>train_model_with_ray_tune_189c2_00018</td><td>PENDING </td><td>     </td><td style=\"text-align: right;\">           8</td><td style=\"text-align: right;\">0.0184725  </td></tr>\n",
       "<tr><td>train_model_with_ray_tune_189c2_00019</td><td>PENDING </td><td>     </td><td style=\"text-align: right;\">          64</td><td style=\"text-align: right;\">2.63236e-05</td></tr>\n",
       "</tbody>\n",
       "</table>\n",
       "  </div>\n",
       "</div>\n",
       "<style>\n",
       ".tuneStatus {\n",
       "  color: var(--jp-ui-font-color1);\n",
       "}\n",
       ".tuneStatus .systemInfo {\n",
       "  display: flex;\n",
       "  flex-direction: column;\n",
       "}\n",
       ".tuneStatus td {\n",
       "  white-space: nowrap;\n",
       "}\n",
       ".tuneStatus .trialStatus {\n",
       "  display: flex;\n",
       "  flex-direction: column;\n",
       "}\n",
       ".tuneStatus h3 {\n",
       "  font-weight: bold;\n",
       "}\n",
       ".tuneStatus .hDivider {\n",
       "  border-bottom-width: var(--jp-border-width);\n",
       "  border-bottom-color: var(--jp-border-color0);\n",
       "  border-bottom-style: solid;\n",
       "}\n",
       ".tuneStatus .vDivider {\n",
       "  border-left-width: var(--jp-border-width);\n",
       "  border-left-color: var(--jp-border-color0);\n",
       "  border-left-style: solid;\n",
       "  margin: 0.5em 1em 0.5em 1em;\n",
       "}\n",
       "</style>\n"
      ],
      "text/plain": [
       "<IPython.core.display.HTML object>"
      ]
     },
     "metadata": {},
     "output_type": "display_data"
    },
    {
     "name": "stdout",
     "output_type": "stream",
     "text": [
      "\u001b[36m(autoscaler +2m13s)\u001b[0m Tip: use `ray status` to view detailed cluster status. To disable these messages, set RAY_SCHEDULER_EVENTS=0.\n",
      "\u001b[33m(autoscaler +2m13s)\u001b[0m Error: No available node types can fulfill resource request {'CPU': 1.0, 'GPU': 1.0}. Add suitable node types to this cluster to resolve this issue.\n"
     ]
    },
    {
     "name": "stderr",
     "output_type": "stream",
     "text": [
      "\u001b[33m(raylet)\u001b[0m [2024-05-16 15:28:00,264 E 15849 1040368] (raylet) file_system_monitor.cc:111: /tmp/ray/session_2024-05-16_15-27-44_532287_13848 is over 95% full, available space: 23867740160; capacity: 499963174912. Object creation will fail if spilling is required.\n",
      "\u001b[33m(raylet)\u001b[0m [2024-05-16 15:28:10,338 E 15849 1040368] (raylet) file_system_monitor.cc:111: /tmp/ray/session_2024-05-16_15-27-44_532287_13848 is over 95% full, available space: 23867699200; capacity: 499963174912. Object creation will fail if spilling is required.\n",
      "\u001b[33m(raylet)\u001b[0m [2024-05-16 15:28:20,413 E 15849 1040368] (raylet) file_system_monitor.cc:111: /tmp/ray/session_2024-05-16_15-27-44_532287_13848 is over 95% full, available space: 23866966016; capacity: 499963174912. Object creation will fail if spilling is required.\n",
      "\u001b[33m(raylet)\u001b[0m [2024-05-16 15:28:30,497 E 15849 1040368] (raylet) file_system_monitor.cc:111: /tmp/ray/session_2024-05-16_15-27-44_532287_13848 is over 95% full, available space: 23866966016; capacity: 499963174912. Object creation will fail if spilling is required.\n"
     ]
    },
    {
     "name": "stdout",
     "output_type": "stream",
     "text": [
      "\u001b[33m(autoscaler +2m48s)\u001b[0m Error: No available node types can fulfill resource request {'CPU': 1.0, 'GPU': 1.0}. Add suitable node types to this cluster to resolve this issue.\n"
     ]
    },
    {
     "name": "stderr",
     "output_type": "stream",
     "text": [
      "\u001b[33m(raylet)\u001b[0m [2024-05-16 15:28:40,581 E 15849 1040368] (raylet) file_system_monitor.cc:111: /tmp/ray/session_2024-05-16_15-27-44_532287_13848 is over 95% full, available space: 23866966016; capacity: 499963174912. Object creation will fail if spilling is required.\n",
      "\u001b[33m(raylet)\u001b[0m [2024-05-16 15:28:50,664 E 15849 1040368] (raylet) file_system_monitor.cc:111: /tmp/ray/session_2024-05-16_15-27-44_532287_13848 is over 95% full, available space: 23866986496; capacity: 499963174912. Object creation will fail if spilling is required.\n",
      "2024-05-16 15:28:53,278\tWARNING insufficient_resources_manager.py:163 -- Ignore this message if the cluster is autoscaling. No trial is running and no new trial has been started within the last 60 seconds. This could be due to the cluster not having enough resources available. You asked for 1.0 CPUs and 1.0 GPUs per trial, but the cluster only has 8.0 CPUs and 0 GPUs available. Stop the tuning and adjust the required resources (e.g. via the `ScalingConfig` or `resources_per_trial`, or `num_workers` for rllib), or add more resources to your cluster.\n",
      "\u001b[33m(raylet)\u001b[0m [2024-05-16 15:29:00,740 E 15849 1040368] (raylet) file_system_monitor.cc:111: /tmp/ray/session_2024-05-16_15-27-44_532287_13848 is over 95% full, available space: 23866884096; capacity: 499963174912. Object creation will fail if spilling is required.\n"
     ]
    },
    {
     "name": "stdout",
     "output_type": "stream",
     "text": [
      "\u001b[33m(autoscaler +3m23s)\u001b[0m Error: No available node types can fulfill resource request {'CPU': 1.0, 'GPU': 1.0}. Add suitable node types to this cluster to resolve this issue.\n"
     ]
    },
    {
     "name": "stderr",
     "output_type": "stream",
     "text": [
      "\u001b[33m(raylet)\u001b[0m [2024-05-16 15:29:10,812 E 15849 1040368] (raylet) file_system_monitor.cc:111: /tmp/ray/session_2024-05-16_15-27-44_532287_13848 is over 95% full, available space: 23866732544; capacity: 499963174912. Object creation will fail if spilling is required.\n",
      "\u001b[33m(raylet)\u001b[0m [2024-05-16 15:29:20,891 E 15849 1040368] (raylet) file_system_monitor.cc:111: /tmp/ray/session_2024-05-16_15-27-44_532287_13848 is over 95% full, available space: 23865217024; capacity: 499963174912. Object creation will fail if spilling is required.\n",
      "\u001b[33m(raylet)\u001b[0m [2024-05-16 15:29:30,966 E 15849 1040368] (raylet) file_system_monitor.cc:111: /tmp/ray/session_2024-05-16_15-27-44_532287_13848 is over 95% full, available space: 23863840768; capacity: 499963174912. Object creation will fail if spilling is required.\n",
      "\u001b[33m(raylet)\u001b[0m [2024-05-16 15:29:41,045 E 15849 1040368] (raylet) file_system_monitor.cc:111: /tmp/ray/session_2024-05-16_15-27-44_532287_13848 is over 95% full, available space: 23863177216; capacity: 499963174912. Object creation will fail if spilling is required.\n"
     ]
    },
    {
     "name": "stdout",
     "output_type": "stream",
     "text": [
      "\u001b[33m(autoscaler +3m58s)\u001b[0m Error: No available node types can fulfill resource request {'CPU': 1.0, 'GPU': 1.0}. Add suitable node types to this cluster to resolve this issue.\n"
     ]
    },
    {
     "name": "stderr",
     "output_type": "stream",
     "text": [
      "\u001b[33m(raylet)\u001b[0m [2024-05-16 15:29:51,121 E 15849 1040368] (raylet) file_system_monitor.cc:111: /tmp/ray/session_2024-05-16_15-27-44_532287_13848 is over 95% full, available space: 23863017472; capacity: 499963174912. Object creation will fail if spilling is required.\n",
      "2024-05-16 15:29:53,375\tWARNING insufficient_resources_manager.py:163 -- Ignore this message if the cluster is autoscaling. No trial is running and no new trial has been started within the last 60 seconds. This could be due to the cluster not having enough resources available. You asked for 1.0 CPUs and 1.0 GPUs per trial, but the cluster only has 8.0 CPUs and 0 GPUs available. Stop the tuning and adjust the required resources (e.g. via the `ScalingConfig` or `resources_per_trial`, or `num_workers` for rllib), or add more resources to your cluster.\n",
      "\u001b[33m(raylet)\u001b[0m [2024-05-16 15:30:01,202 E 15849 1040368] (raylet) file_system_monitor.cc:111: /tmp/ray/session_2024-05-16_15-27-44_532287_13848 is over 95% full, available space: 23861469184; capacity: 499963174912. Object creation will fail if spilling is required.\n",
      "\u001b[33m(raylet)\u001b[0m [2024-05-16 15:30:11,275 E 15849 1040368] (raylet) file_system_monitor.cc:111: /tmp/ray/session_2024-05-16_15-27-44_532287_13848 is over 95% full, available space: 23861469184; capacity: 499963174912. Object creation will fail if spilling is required.\n"
     ]
    },
    {
     "name": "stdout",
     "output_type": "stream",
     "text": [
      "\u001b[33m(autoscaler +4m34s)\u001b[0m Error: No available node types can fulfill resource request {'CPU': 1.0, 'GPU': 1.0}. Add suitable node types to this cluster to resolve this issue.\n"
     ]
    },
    {
     "name": "stderr",
     "output_type": "stream",
     "text": [
      "\u001b[33m(raylet)\u001b[0m [2024-05-16 15:30:21,354 E 15849 1040368] (raylet) file_system_monitor.cc:111: /tmp/ray/session_2024-05-16_15-27-44_532287_13848 is over 95% full, available space: 23861248000; capacity: 499963174912. Object creation will fail if spilling is required.\n",
      "\u001b[33m(raylet)\u001b[0m [2024-05-16 15:30:31,437 E 15849 1040368] (raylet) file_system_monitor.cc:111: /tmp/ray/session_2024-05-16_15-27-44_532287_13848 is over 95% full, available space: 23861796864; capacity: 499963174912. Object creation will fail if spilling is required.\n",
      "\u001b[33m(raylet)\u001b[0m [2024-05-16 15:30:41,513 E 15849 1040368] (raylet) file_system_monitor.cc:111: /tmp/ray/session_2024-05-16_15-27-44_532287_13848 is over 95% full, available space: 23865917440; capacity: 499963174912. Object creation will fail if spilling is required.\n",
      "\u001b[33m(raylet)\u001b[0m [2024-05-16 15:30:51,589 E 15849 1040368] (raylet) file_system_monitor.cc:111: /tmp/ray/session_2024-05-16_15-27-44_532287_13848 is over 95% full, available space: 23865741312; capacity: 499963174912. Object creation will fail if spilling is required.\n",
      "2024-05-16 15:30:53,434\tWARNING insufficient_resources_manager.py:163 -- Ignore this message if the cluster is autoscaling. No trial is running and no new trial has been started within the last 60 seconds. This could be due to the cluster not having enough resources available. You asked for 1.0 CPUs and 1.0 GPUs per trial, but the cluster only has 8.0 CPUs and 0 GPUs available. Stop the tuning and adjust the required resources (e.g. via the `ScalingConfig` or `resources_per_trial`, or `num_workers` for rllib), or add more resources to your cluster.\n"
     ]
    },
    {
     "name": "stdout",
     "output_type": "stream",
     "text": [
      "\u001b[33m(autoscaler +5m9s)\u001b[0m Error: No available node types can fulfill resource request {'CPU': 1.0, 'GPU': 1.0}. Add suitable node types to this cluster to resolve this issue.\n"
     ]
    },
    {
     "name": "stderr",
     "output_type": "stream",
     "text": [
      "\u001b[33m(raylet)\u001b[0m [2024-05-16 15:31:01,660 E 15849 1040368] (raylet) file_system_monitor.cc:111: /tmp/ray/session_2024-05-16_15-27-44_532287_13848 is over 95% full, available space: 23864336384; capacity: 499963174912. Object creation will fail if spilling is required.\n",
      "\u001b[33m(raylet)\u001b[0m [2024-05-16 15:31:11,740 E 15849 1040368] (raylet) file_system_monitor.cc:111: /tmp/ray/session_2024-05-16_15-27-44_532287_13848 is over 95% full, available space: 23863132160; capacity: 499963174912. Object creation will fail if spilling is required.\n",
      "\u001b[33m(raylet)\u001b[0m [2024-05-16 15:31:21,822 E 15849 1040368] (raylet) file_system_monitor.cc:111: /tmp/ray/session_2024-05-16_15-27-44_532287_13848 is over 95% full, available space: 23862652928; capacity: 499963174912. Object creation will fail if spilling is required.\n"
     ]
    },
    {
     "name": "stdout",
     "output_type": "stream",
     "text": [
      "\u001b[33m(autoscaler +5m44s)\u001b[0m Error: No available node types can fulfill resource request {'CPU': 1.0, 'GPU': 1.0}. Add suitable node types to this cluster to resolve this issue.\n"
     ]
    },
    {
     "name": "stderr",
     "output_type": "stream",
     "text": [
      "\u001b[33m(raylet)\u001b[0m [2024-05-16 15:31:31,904 E 15849 1040368] (raylet) file_system_monitor.cc:111: /tmp/ray/session_2024-05-16_15-27-44_532287_13848 is over 95% full, available space: 23850553344; capacity: 499963174912. Object creation will fail if spilling is required.\n",
      "\u001b[33m(raylet)\u001b[0m [2024-05-16 15:31:41,989 E 15849 1040368] (raylet) file_system_monitor.cc:111: /tmp/ray/session_2024-05-16_15-27-44_532287_13848 is over 95% full, available space: 23849328640; capacity: 499963174912. Object creation will fail if spilling is required.\n",
      "\u001b[33m(raylet)\u001b[0m [2024-05-16 15:31:52,069 E 15849 1040368] (raylet) file_system_monitor.cc:111: /tmp/ray/session_2024-05-16_15-27-44_532287_13848 is over 95% full, available space: 23848091648; capacity: 499963174912. Object creation will fail if spilling is required.\n",
      "2024-05-16 15:31:53,493\tWARNING insufficient_resources_manager.py:163 -- Ignore this message if the cluster is autoscaling. No trial is running and no new trial has been started within the last 60 seconds. This could be due to the cluster not having enough resources available. You asked for 1.0 CPUs and 1.0 GPUs per trial, but the cluster only has 8.0 CPUs and 0 GPUs available. Stop the tuning and adjust the required resources (e.g. via the `ScalingConfig` or `resources_per_trial`, or `num_workers` for rllib), or add more resources to your cluster.\n",
      "\u001b[33m(raylet)\u001b[0m [2024-05-16 15:32:02,150 E 15849 1040368] (raylet) file_system_monitor.cc:111: /tmp/ray/session_2024-05-16_15-27-44_532287_13848 is over 95% full, available space: 23847989248; capacity: 499963174912. Object creation will fail if spilling is required.\n"
     ]
    },
    {
     "name": "stdout",
     "output_type": "stream",
     "text": [
      "\u001b[33m(autoscaler +6m19s)\u001b[0m Error: No available node types can fulfill resource request {'CPU': 1.0, 'GPU': 1.0}. Add suitable node types to this cluster to resolve this issue.\n"
     ]
    },
    {
     "name": "stderr",
     "output_type": "stream",
     "text": [
      "\u001b[33m(raylet)\u001b[0m [2024-05-16 15:32:12,231 E 15849 1040368] (raylet) file_system_monitor.cc:111: /tmp/ray/session_2024-05-16_15-27-44_532287_13848 is over 95% full, available space: 23847968768; capacity: 499963174912. Object creation will fail if spilling is required.\n",
      "\u001b[33m(raylet)\u001b[0m [2024-05-16 15:32:22,317 E 15849 1040368] (raylet) file_system_monitor.cc:111: /tmp/ray/session_2024-05-16_15-27-44_532287_13848 is over 95% full, available space: 23846752256; capacity: 499963174912. Object creation will fail if spilling is required.\n",
      "\u001b[33m(raylet)\u001b[0m [2024-05-16 15:32:32,401 E 15849 1040368] (raylet) file_system_monitor.cc:111: /tmp/ray/session_2024-05-16_15-27-44_532287_13848 is over 95% full, available space: 23833198592; capacity: 499963174912. Object creation will fail if spilling is required.\n"
     ]
    },
    {
     "name": "stdout",
     "output_type": "stream",
     "text": [
      "\u001b[33m(autoscaler +6m54s)\u001b[0m Error: No available node types can fulfill resource request {'CPU': 1.0, 'GPU': 1.0}. Add suitable node types to this cluster to resolve this issue.\n"
     ]
    },
    {
     "name": "stderr",
     "output_type": "stream",
     "text": [
      "\u001b[33m(raylet)\u001b[0m [2024-05-16 15:32:42,464 E 15849 1040368] (raylet) file_system_monitor.cc:111: /tmp/ray/session_2024-05-16_15-27-44_532287_13848 is over 95% full, available space: 23831093248; capacity: 499963174912. Object creation will fail if spilling is required.\n",
      "\u001b[33m(raylet)\u001b[0m [2024-05-16 15:32:52,532 E 15849 1040368] (raylet) file_system_monitor.cc:111: /tmp/ray/session_2024-05-16_15-27-44_532287_13848 is over 95% full, available space: 23826391040; capacity: 499963174912. Object creation will fail if spilling is required.\n",
      "2024-05-16 15:32:53,499\tWARNING insufficient_resources_manager.py:163 -- Ignore this message if the cluster is autoscaling. No trial is running and no new trial has been started within the last 60 seconds. This could be due to the cluster not having enough resources available. You asked for 1.0 CPUs and 1.0 GPUs per trial, but the cluster only has 8.0 CPUs and 0 GPUs available. Stop the tuning and adjust the required resources (e.g. via the `ScalingConfig` or `resources_per_trial`, or `num_workers` for rllib), or add more resources to your cluster.\n",
      "\u001b[33m(raylet)\u001b[0m [2024-05-16 15:33:02,588 E 15849 1040368] (raylet) file_system_monitor.cc:111: /tmp/ray/session_2024-05-16_15-27-44_532287_13848 is over 95% full, available space: 23826219008; capacity: 499963174912. Object creation will fail if spilling is required.\n",
      "\u001b[33m(raylet)\u001b[0m [2024-05-16 15:33:12,662 E 15849 1040368] (raylet) file_system_monitor.cc:111: /tmp/ray/session_2024-05-16_15-27-44_532287_13848 is over 95% full, available space: 23825195008; capacity: 499963174912. Object creation will fail if spilling is required.\n"
     ]
    },
    {
     "name": "stdout",
     "output_type": "stream",
     "text": [
      "\u001b[33m(autoscaler +7m30s)\u001b[0m Error: No available node types can fulfill resource request {'CPU': 1.0, 'GPU': 1.0}. Add suitable node types to this cluster to resolve this issue.\n"
     ]
    },
    {
     "name": "stderr",
     "output_type": "stream",
     "text": [
      "\u001b[33m(raylet)\u001b[0m [2024-05-16 15:33:22,739 E 15849 1040368] (raylet) file_system_monitor.cc:111: /tmp/ray/session_2024-05-16_15-27-44_532287_13848 is over 95% full, available space: 23829000192; capacity: 499963174912. Object creation will fail if spilling is required.\n",
      "\u001b[33m(raylet)\u001b[0m [2024-05-16 15:33:32,816 E 15849 1040368] (raylet) file_system_monitor.cc:111: /tmp/ray/session_2024-05-16_15-27-44_532287_13848 is over 95% full, available space: 23828418560; capacity: 499963174912. Object creation will fail if spilling is required.\n",
      "\u001b[33m(raylet)\u001b[0m [2024-05-16 15:33:42,903 E 15849 1040368] (raylet) file_system_monitor.cc:111: /tmp/ray/session_2024-05-16_15-27-44_532287_13848 is over 95% full, available space: 23826448384; capacity: 499963174912. Object creation will fail if spilling is required.\n"
     ]
    },
    {
     "name": "stdout",
     "output_type": "stream",
     "text": [
      "\u001b[33m(autoscaler +8m5s)\u001b[0m Error: No available node types can fulfill resource request {'CPU': 1.0, 'GPU': 1.0}. Add suitable node types to this cluster to resolve this issue.\n"
     ]
    },
    {
     "name": "stderr",
     "output_type": "stream",
     "text": [
      "\u001b[33m(raylet)\u001b[0m [2024-05-16 15:33:52,992 E 15849 1040368] (raylet) file_system_monitor.cc:111: /tmp/ray/session_2024-05-16_15-27-44_532287_13848 is over 95% full, available space: 23826071552; capacity: 499963174912. Object creation will fail if spilling is required.\n",
      "2024-05-16 15:33:53,551\tWARNING insufficient_resources_manager.py:163 -- Ignore this message if the cluster is autoscaling. No trial is running and no new trial has been started within the last 60 seconds. This could be due to the cluster not having enough resources available. You asked for 1.0 CPUs and 1.0 GPUs per trial, but the cluster only has 8.0 CPUs and 0 GPUs available. Stop the tuning and adjust the required resources (e.g. via the `ScalingConfig` or `resources_per_trial`, or `num_workers` for rllib), or add more resources to your cluster.\n",
      "\u001b[33m(raylet)\u001b[0m [2024-05-16 15:34:03,070 E 15849 1040368] (raylet) file_system_monitor.cc:111: /tmp/ray/session_2024-05-16_15-27-44_532287_13848 is over 95% full, available space: 23825711104; capacity: 499963174912. Object creation will fail if spilling is required.\n",
      "\u001b[33m(raylet)\u001b[0m [2024-05-16 15:34:13,150 E 15849 1040368] (raylet) file_system_monitor.cc:111: /tmp/ray/session_2024-05-16_15-27-44_532287_13848 is over 95% full, available space: 23824261120; capacity: 499963174912. Object creation will fail if spilling is required.\n",
      "\u001b[33m(raylet)\u001b[0m [2024-05-16 15:34:23,231 E 15849 1040368] (raylet) file_system_monitor.cc:111: /tmp/ray/session_2024-05-16_15-27-44_532287_13848 is over 95% full, available space: 23823929344; capacity: 499963174912. Object creation will fail if spilling is required.\n"
     ]
    },
    {
     "name": "stdout",
     "output_type": "stream",
     "text": [
      "\u001b[33m(autoscaler +8m40s)\u001b[0m Error: No available node types can fulfill resource request {'CPU': 1.0, 'GPU': 1.0}. Add suitable node types to this cluster to resolve this issue.\n"
     ]
    },
    {
     "name": "stderr",
     "output_type": "stream",
     "text": [
      "\u001b[33m(raylet)\u001b[0m [2024-05-16 15:34:33,302 E 15849 1040368] (raylet) file_system_monitor.cc:111: /tmp/ray/session_2024-05-16_15-27-44_532287_13848 is over 95% full, available space: 23823863808; capacity: 499963174912. Object creation will fail if spilling is required.\n",
      "\u001b[33m(raylet)\u001b[0m [2024-05-16 15:34:43,385 E 15849 1040368] (raylet) file_system_monitor.cc:111: /tmp/ray/session_2024-05-16_15-27-44_532287_13848 is over 95% full, available space: 23823855616; capacity: 499963174912. Object creation will fail if spilling is required.\n",
      "\u001b[33m(raylet)\u001b[0m [2024-05-16 15:34:53,471 E 15849 1040368] (raylet) file_system_monitor.cc:111: /tmp/ray/session_2024-05-16_15-27-44_532287_13848 is over 95% full, available space: 23821946880; capacity: 499963174912. Object creation will fail if spilling is required.\n",
      "2024-05-16 15:34:53,645\tWARNING insufficient_resources_manager.py:163 -- Ignore this message if the cluster is autoscaling. No trial is running and no new trial has been started within the last 60 seconds. This could be due to the cluster not having enough resources available. You asked for 1.0 CPUs and 1.0 GPUs per trial, but the cluster only has 8.0 CPUs and 0 GPUs available. Stop the tuning and adjust the required resources (e.g. via the `ScalingConfig` or `resources_per_trial`, or `num_workers` for rllib), or add more resources to your cluster.\n"
     ]
    },
    {
     "name": "stdout",
     "output_type": "stream",
     "text": [
      "\u001b[33m(autoscaler +9m15s)\u001b[0m Error: No available node types can fulfill resource request {'CPU': 1.0, 'GPU': 1.0}. Add suitable node types to this cluster to resolve this issue.\n"
     ]
    },
    {
     "name": "stderr",
     "output_type": "stream",
     "text": [
      "\u001b[33m(raylet)\u001b[0m [2024-05-16 15:35:03,562 E 15849 1040368] (raylet) file_system_monitor.cc:111: /tmp/ray/session_2024-05-16_15-27-44_532287_13848 is over 95% full, available space: 23821643776; capacity: 499963174912. Object creation will fail if spilling is required.\n",
      "\u001b[33m(raylet)\u001b[0m [2024-05-16 15:35:13,660 E 15849 1040368] (raylet) file_system_monitor.cc:111: /tmp/ray/session_2024-05-16_15-27-44_532287_13848 is over 95% full, available space: 23821643776; capacity: 499963174912. Object creation will fail if spilling is required.\n",
      "\u001b[33m(raylet)\u001b[0m [2024-05-16 15:35:23,747 E 15849 1040368] (raylet) file_system_monitor.cc:111: /tmp/ray/session_2024-05-16_15-27-44_532287_13848 is over 95% full, available space: 23821574144; capacity: 499963174912. Object creation will fail if spilling is required.\n",
      "\u001b[33m(raylet)\u001b[0m [2024-05-16 15:35:33,837 E 15849 1040368] (raylet) file_system_monitor.cc:111: /tmp/ray/session_2024-05-16_15-27-44_532287_13848 is over 95% full, available space: 23820394496; capacity: 499963174912. Object creation will fail if spilling is required.\n"
     ]
    },
    {
     "name": "stdout",
     "output_type": "stream",
     "text": [
      "\u001b[33m(autoscaler +9m50s)\u001b[0m Error: No available node types can fulfill resource request {'CPU': 1.0, 'GPU': 1.0}. Add suitable node types to this cluster to resolve this issue.\n"
     ]
    },
    {
     "name": "stderr",
     "output_type": "stream",
     "text": [
      "\u001b[33m(raylet)\u001b[0m [2024-05-16 15:35:43,924 E 15849 1040368] (raylet) file_system_monitor.cc:111: /tmp/ray/session_2024-05-16_15-27-44_532287_13848 is over 95% full, available space: 23819018240; capacity: 499963174912. Object creation will fail if spilling is required.\n",
      "2024-05-16 15:35:53,664\tWARNING insufficient_resources_manager.py:163 -- Ignore this message if the cluster is autoscaling. No trial is running and no new trial has been started within the last 60 seconds. This could be due to the cluster not having enough resources available. You asked for 1.0 CPUs and 1.0 GPUs per trial, but the cluster only has 8.0 CPUs and 0 GPUs available. Stop the tuning and adjust the required resources (e.g. via the `ScalingConfig` or `resources_per_trial`, or `num_workers` for rllib), or add more resources to your cluster.\n",
      "\u001b[33m(raylet)\u001b[0m [2024-05-16 15:35:53,998 E 15849 1040368] (raylet) file_system_monitor.cc:111: /tmp/ray/session_2024-05-16_15-27-44_532287_13848 is over 95% full, available space: 23817904128; capacity: 499963174912. Object creation will fail if spilling is required.\n",
      "\u001b[33m(raylet)\u001b[0m [2024-05-16 15:36:04,093 E 15849 1040368] (raylet) file_system_monitor.cc:111: /tmp/ray/session_2024-05-16_15-27-44_532287_13848 is over 95% full, available space: 23817793536; capacity: 499963174912. Object creation will fail if spilling is required.\n"
     ]
    },
    {
     "name": "stdout",
     "output_type": "stream",
     "text": [
      "\u001b[33m(autoscaler +10m25s)\u001b[0m Error: No available node types can fulfill resource request {'CPU': 1.0, 'GPU': 1.0}. Add suitable node types to this cluster to resolve this issue.\n"
     ]
    },
    {
     "name": "stderr",
     "output_type": "stream",
     "text": [
      "\u001b[33m(raylet)\u001b[0m [2024-05-16 15:36:14,183 E 15849 1040368] (raylet) file_system_monitor.cc:111: /tmp/ray/session_2024-05-16_15-27-44_532287_13848 is over 95% full, available space: 23817793536; capacity: 499963174912. Object creation will fail if spilling is required.\n",
      "\u001b[33m(raylet)\u001b[0m [2024-05-16 15:36:24,269 E 15849 1040368] (raylet) file_system_monitor.cc:111: /tmp/ray/session_2024-05-16_15-27-44_532287_13848 is over 95% full, available space: 23817728000; capacity: 499963174912. Object creation will fail if spilling is required.\n",
      "\u001b[33m(raylet)\u001b[0m [2024-05-16 15:36:34,358 E 15849 1040368] (raylet) file_system_monitor.cc:111: /tmp/ray/session_2024-05-16_15-27-44_532287_13848 is over 95% full, available space: 23817719808; capacity: 499963174912. Object creation will fail if spilling is required.\n",
      "\u001b[33m(raylet)\u001b[0m [2024-05-16 15:36:44,457 E 15849 1040368] (raylet) file_system_monitor.cc:111: /tmp/ray/session_2024-05-16_15-27-44_532287_13848 is over 95% full, available space: 23817719808; capacity: 499963174912. Object creation will fail if spilling is required.\n"
     ]
    },
    {
     "name": "stdout",
     "output_type": "stream",
     "text": [
      "\u001b[33m(autoscaler +11m1s)\u001b[0m Error: No available node types can fulfill resource request {'CPU': 1.0, 'GPU': 1.0}. Add suitable node types to this cluster to resolve this issue.\n"
     ]
    },
    {
     "name": "stderr",
     "output_type": "stream",
     "text": [
      "2024-05-16 15:36:53,665\tWARNING insufficient_resources_manager.py:163 -- Ignore this message if the cluster is autoscaling. No trial is running and no new trial has been started within the last 60 seconds. This could be due to the cluster not having enough resources available. You asked for 1.0 CPUs and 1.0 GPUs per trial, but the cluster only has 8.0 CPUs and 0 GPUs available. Stop the tuning and adjust the required resources (e.g. via the `ScalingConfig` or `resources_per_trial`, or `num_workers` for rllib), or add more resources to your cluster.\n",
      "\u001b[33m(raylet)\u001b[0m [2024-05-16 15:36:54,551 E 15849 1040368] (raylet) file_system_monitor.cc:111: /tmp/ray/session_2024-05-16_15-27-44_532287_13848 is over 95% full, available space: 23816466432; capacity: 499963174912. Object creation will fail if spilling is required.\n",
      "\u001b[33m(raylet)\u001b[0m [2024-05-16 15:37:04,645 E 15849 1040368] (raylet) file_system_monitor.cc:111: /tmp/ray/session_2024-05-16_15-27-44_532287_13848 is over 95% full, available space: 23816269824; capacity: 499963174912. Object creation will fail if spilling is required.\n",
      "\u001b[33m(raylet)\u001b[0m [2024-05-16 15:37:14,737 E 15849 1040368] (raylet) file_system_monitor.cc:111: /tmp/ray/session_2024-05-16_15-27-44_532287_13848 is over 95% full, available space: 23816269824; capacity: 499963174912. Object creation will fail if spilling is required.\n"
     ]
    },
    {
     "name": "stdout",
     "output_type": "stream",
     "text": [
      "\u001b[33m(autoscaler +11m36s)\u001b[0m Error: No available node types can fulfill resource request {'CPU': 1.0, 'GPU': 1.0}. Add suitable node types to this cluster to resolve this issue.\n"
     ]
    },
    {
     "name": "stderr",
     "output_type": "stream",
     "text": [
      "\u001b[33m(raylet)\u001b[0m [2024-05-16 15:37:24,816 E 15849 1040368] (raylet) file_system_monitor.cc:111: /tmp/ray/session_2024-05-16_15-27-44_532287_13848 is over 95% full, available space: 23816269824; capacity: 499963174912. Object creation will fail if spilling is required.\n",
      "\u001b[33m(raylet)\u001b[0m [2024-05-16 15:37:34,910 E 15849 1040368] (raylet) file_system_monitor.cc:111: /tmp/ray/session_2024-05-16_15-27-44_532287_13848 is over 95% full, available space: 23816089600; capacity: 499963174912. Object creation will fail if spilling is required.\n",
      "\u001b[33m(raylet)\u001b[0m [2024-05-16 15:37:45,005 E 15849 1040368] (raylet) file_system_monitor.cc:111: /tmp/ray/session_2024-05-16_15-27-44_532287_13848 is over 95% full, available space: 23816089600; capacity: 499963174912. Object creation will fail if spilling is required.\n",
      "2024-05-16 15:37:53,743\tWARNING insufficient_resources_manager.py:163 -- Ignore this message if the cluster is autoscaling. No trial is running and no new trial has been started within the last 60 seconds. This could be due to the cluster not having enough resources available. You asked for 1.0 CPUs and 1.0 GPUs per trial, but the cluster only has 8.0 CPUs and 0 GPUs available. Stop the tuning and adjust the required resources (e.g. via the `ScalingConfig` or `resources_per_trial`, or `num_workers` for rllib), or add more resources to your cluster.\n",
      "\u001b[33m(raylet)\u001b[0m [2024-05-16 15:37:55,098 E 15849 1040368] (raylet) file_system_monitor.cc:111: /tmp/ray/session_2024-05-16_15-27-44_532287_13848 is over 95% full, available space: 23820185600; capacity: 499963174912. Object creation will fail if spilling is required.\n"
     ]
    },
    {
     "name": "stdout",
     "output_type": "stream",
     "text": [
      "\u001b[33m(autoscaler +12m11s)\u001b[0m Error: No available node types can fulfill resource request {'CPU': 1.0, 'GPU': 1.0}. Add suitable node types to this cluster to resolve this issue.\n"
     ]
    },
    {
     "name": "stderr",
     "output_type": "stream",
     "text": [
      "\u001b[33m(raylet)\u001b[0m [2024-05-16 15:38:05,173 E 15849 1040368] (raylet) file_system_monitor.cc:111: /tmp/ray/session_2024-05-16_15-27-44_532287_13848 is over 95% full, available space: 23820185600; capacity: 499963174912. Object creation will fail if spilling is required.\n",
      "\u001b[33m(raylet)\u001b[0m [2024-05-16 15:38:15,267 E 15849 1040368] (raylet) file_system_monitor.cc:111: /tmp/ray/session_2024-05-16_15-27-44_532287_13848 is over 95% full, available space: 23819038720; capacity: 499963174912. Object creation will fail if spilling is required.\n",
      "\u001b[33m(raylet)\u001b[0m [2024-05-16 15:38:25,356 E 15849 1040368] (raylet) file_system_monitor.cc:111: /tmp/ray/session_2024-05-16_15-27-44_532287_13848 is over 95% full, available space: 23819038720; capacity: 499963174912. Object creation will fail if spilling is required.\n"
     ]
    },
    {
     "name": "stdout",
     "output_type": "stream",
     "text": [
      "\u001b[33m(autoscaler +12m46s)\u001b[0m Error: No available node types can fulfill resource request {'CPU': 1.0, 'GPU': 1.0}. Add suitable node types to this cluster to resolve this issue.\n"
     ]
    },
    {
     "name": "stderr",
     "output_type": "stream",
     "text": [
      "\u001b[33m(raylet)\u001b[0m [2024-05-16 15:38:35,444 E 15849 1040368] (raylet) file_system_monitor.cc:111: /tmp/ray/session_2024-05-16_15-27-44_532287_13848 is over 95% full, available space: 23819829248; capacity: 499963174912. Object creation will fail if spilling is required.\n",
      "\u001b[33m(raylet)\u001b[0m [2024-05-16 15:38:45,536 E 15849 1040368] (raylet) file_system_monitor.cc:111: /tmp/ray/session_2024-05-16_15-27-44_532287_13848 is over 95% full, available space: 23818776576; capacity: 499963174912. Object creation will fail if spilling is required.\n",
      "2024-05-16 15:38:53,759\tWARNING insufficient_resources_manager.py:163 -- Ignore this message if the cluster is autoscaling. No trial is running and no new trial has been started within the last 60 seconds. This could be due to the cluster not having enough resources available. You asked for 1.0 CPUs and 1.0 GPUs per trial, but the cluster only has 8.0 CPUs and 0 GPUs available. Stop the tuning and adjust the required resources (e.g. via the `ScalingConfig` or `resources_per_trial`, or `num_workers` for rllib), or add more resources to your cluster.\n",
      "\u001b[33m(raylet)\u001b[0m [2024-05-16 15:38:55,623 E 15849 1040368] (raylet) file_system_monitor.cc:111: /tmp/ray/session_2024-05-16_15-27-44_532287_13848 is over 95% full, available space: 23818776576; capacity: 499963174912. Object creation will fail if spilling is required.\n",
      "\u001b[33m(raylet)\u001b[0m [2024-05-16 15:39:05,715 E 15849 1040368] (raylet) file_system_monitor.cc:111: /tmp/ray/session_2024-05-16_15-27-44_532287_13848 is over 95% full, available space: 23818743808; capacity: 499963174912. Object creation will fail if spilling is required.\n"
     ]
    },
    {
     "name": "stdout",
     "output_type": "stream",
     "text": [
      "\u001b[33m(autoscaler +13m22s)\u001b[0m Error: No available node types can fulfill resource request {'CPU': 1.0, 'GPU': 1.0}. Add suitable node types to this cluster to resolve this issue.\n"
     ]
    },
    {
     "name": "stderr",
     "output_type": "stream",
     "text": [
      "\u001b[33m(raylet)\u001b[0m [2024-05-16 15:39:15,805 E 15849 1040368] (raylet) file_system_monitor.cc:111: /tmp/ray/session_2024-05-16_15-27-44_532287_13848 is over 95% full, available space: 23817060352; capacity: 499963174912. Object creation will fail if spilling is required.\n",
      "\u001b[33m(raylet)\u001b[0m [2024-05-16 15:39:25,896 E 15849 1040368] (raylet) file_system_monitor.cc:111: /tmp/ray/session_2024-05-16_15-27-44_532287_13848 is over 95% full, available space: 23817060352; capacity: 499963174912. Object creation will fail if spilling is required.\n",
      "\u001b[33m(raylet)\u001b[0m [2024-05-16 15:39:35,987 E 15849 1040368] (raylet) file_system_monitor.cc:111: /tmp/ray/session_2024-05-16_15-27-44_532287_13848 is over 95% full, available space: 23817080832; capacity: 499963174912. Object creation will fail if spilling is required.\n"
     ]
    },
    {
     "name": "stdout",
     "output_type": "stream",
     "text": [
      "\u001b[33m(autoscaler +13m57s)\u001b[0m Error: No available node types can fulfill resource request {'CPU': 1.0, 'GPU': 1.0}. Add suitable node types to this cluster to resolve this issue.\n"
     ]
    },
    {
     "name": "stderr",
     "output_type": "stream",
     "text": [
      "\u001b[33m(raylet)\u001b[0m [2024-05-16 15:39:46,073 E 15849 1040368] (raylet) file_system_monitor.cc:111: /tmp/ray/session_2024-05-16_15-27-44_532287_13848 is over 95% full, available space: 23817076736; capacity: 499963174912. Object creation will fail if spilling is required.\n",
      "2024-05-16 15:39:53,774\tWARNING insufficient_resources_manager.py:163 -- Ignore this message if the cluster is autoscaling. No trial is running and no new trial has been started within the last 60 seconds. This could be due to the cluster not having enough resources available. You asked for 1.0 CPUs and 1.0 GPUs per trial, but the cluster only has 8.0 CPUs and 0 GPUs available. Stop the tuning and adjust the required resources (e.g. via the `ScalingConfig` or `resources_per_trial`, or `num_workers` for rllib), or add more resources to your cluster.\n",
      "\u001b[33m(raylet)\u001b[0m [2024-05-16 15:39:56,162 E 15849 1040368] (raylet) file_system_monitor.cc:111: /tmp/ray/session_2024-05-16_15-27-44_532287_13848 is over 95% full, available space: 23817076736; capacity: 499963174912. Object creation will fail if spilling is required.\n",
      "\u001b[33m(raylet)\u001b[0m [2024-05-16 15:40:06,250 E 15849 1040368] (raylet) file_system_monitor.cc:111: /tmp/ray/session_2024-05-16_15-27-44_532287_13848 is over 95% full, available space: 23827304448; capacity: 499963174912. Object creation will fail if spilling is required.\n",
      "\u001b[33m(raylet)\u001b[0m [2024-05-16 15:40:16,329 E 15849 1040368] (raylet) file_system_monitor.cc:111: /tmp/ray/session_2024-05-16_15-27-44_532287_13848 is over 95% full, available space: 23824171008; capacity: 499963174912. Object creation will fail if spilling is required.\n"
     ]
    },
    {
     "name": "stdout",
     "output_type": "stream",
     "text": [
      "\u001b[33m(autoscaler +14m32s)\u001b[0m Error: No available node types can fulfill resource request {'CPU': 1.0, 'GPU': 1.0}. Add suitable node types to this cluster to resolve this issue.\n"
     ]
    },
    {
     "name": "stderr",
     "output_type": "stream",
     "text": [
      "\u001b[33m(raylet)\u001b[0m [2024-05-16 15:40:26,416 E 15849 1040368] (raylet) file_system_monitor.cc:111: /tmp/ray/session_2024-05-16_15-27-44_532287_13848 is over 95% full, available space: 23824171008; capacity: 499963174912. Object creation will fail if spilling is required.\n",
      "\u001b[33m(raylet)\u001b[0m [2024-05-16 15:40:36,502 E 15849 1040368] (raylet) file_system_monitor.cc:111: /tmp/ray/session_2024-05-16_15-27-44_532287_13848 is over 95% full, available space: 23824171008; capacity: 499963174912. Object creation will fail if spilling is required.\n",
      "\u001b[33m(raylet)\u001b[0m [2024-05-16 15:40:46,593 E 15849 1040368] (raylet) file_system_monitor.cc:111: /tmp/ray/session_2024-05-16_15-27-44_532287_13848 is over 95% full, available space: 23822938112; capacity: 499963174912. Object creation will fail if spilling is required.\n"
     ]
    },
    {
     "name": "stdout",
     "output_type": "stream",
     "text": [
      "\u001b[33m(autoscaler +15m7s)\u001b[0m Error: No available node types can fulfill resource request {'CPU': 1.0, 'GPU': 1.0}. Add suitable node types to this cluster to resolve this issue.\n"
     ]
    },
    {
     "name": "stderr",
     "output_type": "stream",
     "text": [
      "2024-05-16 15:40:53,803\tWARNING insufficient_resources_manager.py:163 -- Ignore this message if the cluster is autoscaling. No trial is running and no new trial has been started within the last 60 seconds. This could be due to the cluster not having enough resources available. You asked for 1.0 CPUs and 1.0 GPUs per trial, but the cluster only has 8.0 CPUs and 0 GPUs available. Stop the tuning and adjust the required resources (e.g. via the `ScalingConfig` or `resources_per_trial`, or `num_workers` for rllib), or add more resources to your cluster.\n",
      "\u001b[33m(raylet)\u001b[0m [2024-05-16 15:40:56,691 E 15849 1040368] (raylet) file_system_monitor.cc:111: /tmp/ray/session_2024-05-16_15-27-44_532287_13848 is over 95% full, available space: 23822839808; capacity: 499963174912. Object creation will fail if spilling is required.\n",
      "\u001b[33m(raylet)\u001b[0m [2024-05-16 15:41:06,787 E 15849 1040368] (raylet) file_system_monitor.cc:111: /tmp/ray/session_2024-05-16_15-27-44_532287_13848 is over 95% full, available space: 23822839808; capacity: 499963174912. Object creation will fail if spilling is required.\n",
      "\u001b[33m(raylet)\u001b[0m [2024-05-16 15:41:16,879 E 15849 1040368] (raylet) file_system_monitor.cc:111: /tmp/ray/session_2024-05-16_15-27-44_532287_13848 is over 95% full, available space: 23822577664; capacity: 499963174912. Object creation will fail if spilling is required.\n"
     ]
    },
    {
     "name": "stdout",
     "output_type": "stream",
     "text": [
      "\u001b[33m(autoscaler +15m42s)\u001b[0m Error: No available node types can fulfill resource request {'CPU': 1.0, 'GPU': 1.0}. Add suitable node types to this cluster to resolve this issue.\n"
     ]
    },
    {
     "name": "stderr",
     "output_type": "stream",
     "text": [
      "\u001b[33m(raylet)\u001b[0m [2024-05-16 15:41:26,976 E 15849 1040368] (raylet) file_system_monitor.cc:111: /tmp/ray/session_2024-05-16_15-27-44_532287_13848 is over 95% full, available space: 23822598144; capacity: 499963174912. Object creation will fail if spilling is required.\n",
      "\u001b[33m(raylet)\u001b[0m [2024-05-16 15:41:37,070 E 15849 1040368] (raylet) file_system_monitor.cc:111: /tmp/ray/session_2024-05-16_15-27-44_532287_13848 is over 95% full, available space: 23822462976; capacity: 499963174912. Object creation will fail if spilling is required.\n",
      "\u001b[33m(raylet)\u001b[0m [2024-05-16 15:41:47,163 E 15849 1040368] (raylet) file_system_monitor.cc:111: /tmp/ray/session_2024-05-16_15-27-44_532287_13848 is over 95% full, available space: 23822364672; capacity: 499963174912. Object creation will fail if spilling is required.\n",
      "2024-05-16 15:41:53,849\tWARNING insufficient_resources_manager.py:163 -- Ignore this message if the cluster is autoscaling. No trial is running and no new trial has been started within the last 60 seconds. This could be due to the cluster not having enough resources available. You asked for 1.0 CPUs and 1.0 GPUs per trial, but the cluster only has 8.0 CPUs and 0 GPUs available. Stop the tuning and adjust the required resources (e.g. via the `ScalingConfig` or `resources_per_trial`, or `num_workers` for rllib), or add more resources to your cluster.\n",
      "\u001b[33m(raylet)\u001b[0m [2024-05-16 15:41:57,256 E 15849 1040368] (raylet) file_system_monitor.cc:111: /tmp/ray/session_2024-05-16_15-27-44_532287_13848 is over 95% full, available space: 23822364672; capacity: 499963174912. Object creation will fail if spilling is required.\n"
     ]
    },
    {
     "name": "stdout",
     "output_type": "stream",
     "text": [
      "\u001b[33m(autoscaler +16m17s)\u001b[0m Error: No available node types can fulfill resource request {'CPU': 1.0, 'GPU': 1.0}. Add suitable node types to this cluster to resolve this issue.\n"
     ]
    },
    {
     "name": "stderr",
     "output_type": "stream",
     "text": [
      "\u001b[33m(raylet)\u001b[0m [2024-05-16 15:42:07,345 E 15849 1040368] (raylet) file_system_monitor.cc:111: /tmp/ray/session_2024-05-16_15-27-44_532287_13848 is over 95% full, available space: 23822274560; capacity: 499963174912. Object creation will fail if spilling is required.\n",
      "\u001b[33m(raylet)\u001b[0m [2024-05-16 15:42:17,435 E 15849 1040368] (raylet) file_system_monitor.cc:111: /tmp/ray/session_2024-05-16_15-27-44_532287_13848 is over 95% full, available space: 23822143488; capacity: 499963174912. Object creation will fail if spilling is required.\n",
      "\u001b[33m(raylet)\u001b[0m [2024-05-16 15:42:27,519 E 15849 1040368] (raylet) file_system_monitor.cc:111: /tmp/ray/session_2024-05-16_15-27-44_532287_13848 is over 95% full, available space: 23822139392; capacity: 499963174912. Object creation will fail if spilling is required.\n"
     ]
    },
    {
     "name": "stdout",
     "output_type": "stream",
     "text": [
      "\u001b[33m(autoscaler +16m53s)\u001b[0m Error: No available node types can fulfill resource request {'CPU': 1.0, 'GPU': 1.0}. Add suitable node types to this cluster to resolve this issue.\n"
     ]
    },
    {
     "name": "stderr",
     "output_type": "stream",
     "text": [
      "\u001b[33m(raylet)\u001b[0m [2024-05-16 15:42:37,596 E 15849 1040368] (raylet) file_system_monitor.cc:111: /tmp/ray/session_2024-05-16_15-27-44_532287_13848 is over 95% full, available space: 23820824576; capacity: 499963174912. Object creation will fail if spilling is required.\n",
      "\u001b[33m(raylet)\u001b[0m [2024-05-16 15:42:47,659 E 15849 1040368] (raylet) file_system_monitor.cc:111: /tmp/ray/session_2024-05-16_15-27-44_532287_13848 is over 95% full, available space: 23819898880; capacity: 499963174912. Object creation will fail if spilling is required.\n",
      "2024-05-16 15:42:53,890\tWARNING insufficient_resources_manager.py:163 -- Ignore this message if the cluster is autoscaling. No trial is running and no new trial has been started within the last 60 seconds. This could be due to the cluster not having enough resources available. You asked for 1.0 CPUs and 1.0 GPUs per trial, but the cluster only has 8.0 CPUs and 0 GPUs available. Stop the tuning and adjust the required resources (e.g. via the `ScalingConfig` or `resources_per_trial`, or `num_workers` for rllib), or add more resources to your cluster.\n",
      "\u001b[33m(raylet)\u001b[0m [2024-05-16 15:42:57,726 E 15849 1040368] (raylet) file_system_monitor.cc:111: /tmp/ray/session_2024-05-16_15-27-44_532287_13848 is over 95% full, available space: 23819898880; capacity: 499963174912. Object creation will fail if spilling is required.\n"
     ]
    }
   ],
   "source": [
    "from ray import tune\n",
    "import numpy as np\n",
    "\n",
    "\n",
    "def train_model_with_ray_tune(config):\n",
    "    # Extract parameters from the config provided by Ray Tune\n",
    "    lr = config[\"lr\"]\n",
    "    batch_size = config[\"batch_size\"]\n",
    "    \n",
    "    # Call your existing training function with parameters from Ray Tune\n",
    "    train_results = train_model_with_dynamic_config(\n",
    "        ckpt_path=latest_ckpt_path,  # Make sure latest_ckpt_path is defined\n",
    "        epochs=30,  # Consider making this a tunable parameter as well\n",
    "        lr=lr,\n",
    "        batch_size=batch_size,\n",
    "    )\n",
    "    \n",
    "    # Report the validation metric back to Ray Tune\n",
    "    # Ensure your training function returns a dictionary with \"validation_metric\"\n",
    "    tune.report(validation_metric=train_results['validation_metric'])\n",
    "\n",
    "# Define the search space for hyperparameters\n",
    "search_space = {\n",
    "    \"lr\": tune.loguniform(1e-5, 1e-1),\n",
    "    \"batch_size\": tune.choice([8, 16, 32, 64])\n",
    "}\n",
    "\n",
    "# Start the hyperparameter tuning process\n",
    "analysis = tune.run(\n",
    "    train_model_with_ray_tune,\n",
    "    resources_per_trial={\"cpu\": 1, \"gpu\": 1},  # Adjust resources per your availability\n",
    "    config=search_space,\n",
    "    num_samples=100,  # Number of trials to run\n",
    "    metric=\"validation_metric\",  # Name of the metric to optimize\n",
    "    mode=\"max\",  # \"max\" if higher metric is better, \"min\" otherwise\n",
    ")\n",
    "\n",
    "# Extract the best hyperparameters\n",
    "best_config = analysis.best_config\n",
    "best_lr = best_config[\"lr\"]\n",
    "best_batch_size = best_config[\"batch_size\"]\n",
    "\n",
    "print(f\"Best hyperparameters found were: lr = {best_lr}, batch_size = {best_batch_size}\")\n",
    "\n"
   ]
  },
  {
   "cell_type": "code",
   "execution_count": 16,
   "metadata": {},
   "outputs": [
    {
     "name": "stdout",
     "output_type": "stream",
     "text": [
      "Requirement already satisfied: ray in /Users/elenalickel/opt/anaconda3/lib/python3.8/site-packages (2.10.0)\n",
      "Requirement already satisfied: click>=7.0 in /Users/elenalickel/opt/anaconda3/lib/python3.8/site-packages (from ray) (8.1.7)\n",
      "Requirement already satisfied: filelock in /Users/elenalickel/opt/anaconda3/lib/python3.8/site-packages (from ray) (3.13.1)\n",
      "Requirement already satisfied: jsonschema in /Users/elenalickel/opt/anaconda3/lib/python3.8/site-packages (from ray) (3.2.0)\n",
      "Requirement already satisfied: msgpack<2.0.0,>=1.0.0 in /Users/elenalickel/opt/anaconda3/lib/python3.8/site-packages (from ray) (1.0.2)\n",
      "Requirement already satisfied: packaging in /Users/elenalickel/opt/anaconda3/lib/python3.8/site-packages (from ray) (20.4)\n",
      "Requirement already satisfied: protobuf!=3.19.5,>=3.15.3 in /Users/elenalickel/opt/anaconda3/lib/python3.8/site-packages (from ray) (4.25.2)\n",
      "Requirement already satisfied: pyyaml in /Users/elenalickel/opt/anaconda3/lib/python3.8/site-packages (from ray) (5.3.1)\n",
      "Requirement already satisfied: aiosignal in /Users/elenalickel/opt/anaconda3/lib/python3.8/site-packages (from ray) (1.3.1)\n",
      "Requirement already satisfied: frozenlist in /Users/elenalickel/opt/anaconda3/lib/python3.8/site-packages (from ray) (1.4.1)\n",
      "Requirement already satisfied: requests in /Users/elenalickel/opt/anaconda3/lib/python3.8/site-packages (from ray) (2.24.0)\n",
      "Requirement already satisfied: attrs>=17.4.0 in /Users/elenalickel/opt/anaconda3/lib/python3.8/site-packages (from jsonschema->ray) (20.3.0)\n",
      "Requirement already satisfied: pyrsistent>=0.14.0 in /Users/elenalickel/opt/anaconda3/lib/python3.8/site-packages (from jsonschema->ray) (0.17.3)\n",
      "Requirement already satisfied: setuptools in /Users/elenalickel/opt/anaconda3/lib/python3.8/site-packages (from jsonschema->ray) (50.3.1.post20201107)\n",
      "Requirement already satisfied: six>=1.11.0 in /Users/elenalickel/opt/anaconda3/lib/python3.8/site-packages (from jsonschema->ray) (1.16.0)\n",
      "Requirement already satisfied: pyparsing>=2.0.2 in /Users/elenalickel/opt/anaconda3/lib/python3.8/site-packages (from packaging->ray) (2.4.7)\n",
      "Requirement already satisfied: chardet<4,>=3.0.2 in /Users/elenalickel/opt/anaconda3/lib/python3.8/site-packages (from requests->ray) (3.0.4)\n",
      "Requirement already satisfied: idna<3,>=2.5 in /Users/elenalickel/opt/anaconda3/lib/python3.8/site-packages (from requests->ray) (2.10)\n",
      "Requirement already satisfied: urllib3!=1.25.0,!=1.25.1,<1.26,>=1.21.1 in /Users/elenalickel/opt/anaconda3/lib/python3.8/site-packages (from requests->ray) (1.25.11)\n",
      "Requirement already satisfied: certifi>=2017.4.17 in /Users/elenalickel/opt/anaconda3/lib/python3.8/site-packages (from requests->ray) (2021.5.30)\n",
      "\u001b[33mDEPRECATION: pyodbc 4.0.0-unsupported has a non-standard version number. pip 24.1 will enforce this behaviour change. A possible replacement is to upgrade to a newer version of pyodbc or contact the author to suggest that they release a version with a conforming version number. Discussion can be found at https://github.com/pypa/pip/issues/12063\u001b[0m\u001b[33m\n",
      "\u001b[0m"
     ]
    },
    {
     "ename": "ModuleNotFoundError",
     "evalue": "No module named 'ray'",
     "output_type": "error",
     "traceback": [
      "\u001b[0;31m---------------------------------------------------------------------------\u001b[0m",
      "\u001b[0;31mModuleNotFoundError\u001b[0m                       Traceback (most recent call last)",
      "Cell \u001b[0;32mIn[16], line 5\u001b[0m\n\u001b[1;32m      2\u001b[0m get_ipython()\u001b[38;5;241m.\u001b[39msystem(\u001b[38;5;124m'\u001b[39m\u001b[38;5;124mpip install ray\u001b[39m\u001b[38;5;124m'\u001b[39m)\n\u001b[1;32m      4\u001b[0m \u001b[38;5;28;01mimport\u001b[39;00m \u001b[38;5;21;01mnumpy\u001b[39;00m \u001b[38;5;28;01mas\u001b[39;00m \u001b[38;5;21;01mnp\u001b[39;00m\n\u001b[0;32m----> 5\u001b[0m \u001b[38;5;28;01mfrom\u001b[39;00m \u001b[38;5;21;01mray\u001b[39;00m \u001b[38;5;28;01mimport\u001b[39;00m tune\n\u001b[1;32m      6\u001b[0m \u001b[38;5;28;01mfrom\u001b[39;00m \u001b[38;5;21;01mray\u001b[39;00m\u001b[38;5;21;01m.\u001b[39;00m\u001b[38;5;21;01mtune\u001b[39;00m\u001b[38;5;21;01m.\u001b[39;00m\u001b[38;5;21;01mschedulers\u001b[39;00m \u001b[38;5;28;01mimport\u001b[39;00m ASHAScheduler\n\u001b[1;32m      8\u001b[0m \u001b[38;5;28;01mdef\u001b[39;00m \u001b[38;5;21mtrain_model_with_dynamic_config\u001b[39m(ckpt_path, epochs, lr, batch_size):\n\u001b[1;32m      9\u001b[0m     \u001b[38;5;66;03m# Placeholder for actual training logic\u001b[39;00m\n\u001b[1;32m     10\u001b[0m     \u001b[38;5;66;03m# Example return dictionary with a validation metric\u001b[39;00m\n",
      "\u001b[0;31mModuleNotFoundError\u001b[0m: No module named 'ray'"
     ]
    }
   ],
   "source": [
    "# Install the ray module\n",
    "!pip install ray\n",
    "\n",
    "import numpy as np\n",
    "from ray import tune\n",
    "from ray.tune.schedulers import ASHAScheduler\n",
    "\n",
    "def train_model_with_dynamic_config(ckpt_path, epochs, lr, batch_size):\n",
    "    # Placeholder for actual training logic\n",
    "    # Example return dictionary with a validation metric\n",
    "    return {\"validation_metric\": np.random.random()}\n",
    "\n",
    "def train_model_with_ray_tune(config):\n",
    "    # Extract parameters from the config provided by Ray Tune\n",
    "    lr = config[\"lr\"]\n",
    "    batch_size = config[\"batch_size\"]\n",
    "    \n",
    "    # Assuming latest_ckpt_path is a global variable or defined elsewhere in your script\n",
    "    global latest_ckpt_path\n",
    "    latest_ckpt_path = \"path/to/latest/checkpoint\"\n",
    "    \n",
    "    # Call your existing training function with parameters from Ray Tune\n",
    "    train_results = train_model_with_dynamic_config(\n",
    "        ckpt_path=latest_ckpt_path,\n",
    "        epochs=30,  # Consider making this a tunable parameter as well\n",
    "        lr=lr,\n",
    "        batch_size=batch_size,\n",
    "    )\n",
    "    \n",
    "    # Report the validation metric back to Ray Tune\n",
    "    tune.report(validation_metric=train_results['validation_metric'])\n",
    "\n",
    "# Define the search space for hyperparameters\n",
    "search_space = {\n",
    "    \"lr\": tune.loguniform(1e-5, 1e-1),\n",
    "    \"batch_size\": tune.choice([8, 16, 32, 64])\n",
    "}\n",
    "\n",
    "# Define a scheduler for early stopping\n",
    "scheduler = ASHAScheduler(\n",
    "    metric=\"validation_metric\",\n",
    "    mode=\"max\",\n",
    "    max_t=30,\n",
    "    grace_period=1,\n",
    "    reduction_factor=2\n",
    ")\n",
    "\n",
    "# Start the hyperparameter tuning process\n",
    "analysis = tune.run(\n",
    "    train_model_with_ray_tune,\n",
    "    resources_per_trial={\"cpu\": 1, \"gpu\": 1},  # Adjust resources per your availability\n",
    "    config=search_space,\n",
    "    num_samples=100,  # Number of trials to run\n",
    "    metric=\"validation_metric\",  # Name of the metric to optimize\n",
    "    mode=\"max\",  # \"max\" if higher metric is better, \"min\" otherwise\n",
    "    scheduler=scheduler\n",
    ")\n",
    "\n",
    "# Extract the best hyperparameters\n",
    "best_config = analysis.best_config\n",
    "best_lr = best_config[\"lr\"]\n",
    "best_batch_size = best_config[\"batch_size\"]\n",
    "\n",
    "print(f\"Best hyperparameters found were: lr = {best_lr}, batch_size = {best_batch_size}\")\n"
   ]
  },
  {
   "cell_type": "markdown",
   "metadata": {},
   "source": [
    "# Training with Tuned Parameters\n",
    "\n",
    "After determining the best hyperparameters via tuning, the model is trained using these optimal settings. The following steps are performed:\n",
    "\n",
    "1. Train the model using the best parameters found during hyperparameter tuning.\n",
    "2. Track the training results with an experiment tracking system."
   ]
  },
  {
   "cell_type": "code",
   "execution_count": null,
   "metadata": {},
   "outputs": [],
   "source": [
    "import matplotlib.pyplot as plt\n",
    "import matplotlib.image as img\n",
    "\n",
    "# Assuming train_results is a dictionary or similar structure containing your results and metrics\n",
    "\n",
    "# After determining the best parameters via tuning\n",
    "train_results = train_model_with_dynamic_config(\n",
    "    ckpt_path=find_latest_checkpoint(checkpoint_dir),\n",
    "    epochs=best_params['epochs'],\n",
    "    lr=best_params['lr'],\n",
    "    batch_size=best_params['batch_size'],\n",
    "    # Potentially other parameters tuned or adjusted based on past performance\n",
    ")\n",
    "\n",
    "# Track the results with your experiment tracking system\n",
    "track_experiment_results(train_results)\n",
    "\n",
    "# Display the training results image\n",
    "plt.figure(figsize=(15, 10), dpi=80)\n",
    "# Reading the image\n",
    "results = img.imread('runs/detect/train_results/results.png')\n",
    "# Displaying the image\n",
    "plt.imshow(results)\n",
    "plt.axis('off')  # Hide the axes for better image display\n",
    "plt.show()\n"
   ]
  },
  {
   "cell_type": "markdown",
   "metadata": {},
   "source": [
    "# List Image Files in a Folder\n",
    "\n",
    "This script lists all image files in a specified folder. It supports various image file extensions such as `.png`, `.jpg`, `.jpeg`, `.gif`, and `.bmp`. The following steps are performed:\n",
    "\n",
    "1. Import necessary modules `os` and `glob`.\n",
    "2. Define a function `list_images` to scan the folder for image files and collect their paths.\n",
    "3. Specify the folder path to scan for images.\n",
    "4. Print the list of image paths.\n"
   ]
  },
  {
   "cell_type": "code",
   "execution_count": 56,
   "metadata": {},
   "outputs": [
    {
     "name": "stdout",
     "output_type": "stream",
     "text": [
      "[]\n"
     ]
    }
   ],
   "source": [
    "import os\n",
    "import glob\n",
    "\n",
    "def list_images(folder_path):\n",
    "    # List to hold all image paths\n",
    "    image_paths = []\n",
    "    \n",
    "    # Supported image extensions\n",
    "    image_extensions = ['*.png', '*.jpg', '*.jpeg', '*.gif', '*.bmp']\n",
    "    \n",
    "    # Scan through the folder for each image extension\n",
    "    for extension in image_extensions:\n",
    "        # Use glob to find all files in folder_path with the current extension\n",
    "        for image_path in glob.glob(os.path.join(folder_path, extension)):\n",
    "            # Add the image path to the list\n",
    "            image_paths.append(image_path)\n",
    "    \n",
    "    return image_paths\n",
    "\n",
    "# Replace 'your/folder/path' with the actual folder path you want to scan\n",
    "folder_path = 'datasets/images/test'\n",
    "images = list_images(folder_path)\n",
    "print(images)\n"
   ]
  },
  {
   "cell_type": "markdown",
   "metadata": {},
   "source": [
    "# Load the Model\n",
    "\n",
    "This line loads a pre-trained YOLOv8 model using the weights from the specified path. The model is ready for inference or further training.\n"
   ]
  },
  {
   "cell_type": "code",
   "execution_count": 113,
   "metadata": {},
   "outputs": [],
   "source": [
    "# Load the Model\n",
    "model = YOLO('./runs/detect/train_results/weights/best.pt')"
   ]
  },
  {
   "cell_type": "markdown",
   "metadata": {},
   "source": [
    "# Predict and Generate Output for Submission Data\n",
    "\n",
    "This performs predictions on images in the submission data directory using the YOLO model and generates output text files with bounding box information. The script follows these steps:\n",
    "\n",
    "1. Define the decoding of predictions according to class names in the `.yaml` file.\n",
    "2. Set the directory paths for input images and output results.\n",
    "3. Create the results directory if it doesn't exist.\n",
    "4. Loop through each image file in the submission data directory and perform predictions.\n",
    "5. Decode the predictions and save the results to text files in the results directory.\n"
   ]
  },
  {
   "cell_type": "code",
   "execution_count": 114,
   "metadata": {},
   "outputs": [
    {
     "name": "stdout",
     "output_type": "stream",
     "text": [
      "Submission data/Validation_Post_Event_009.jpg\n",
      "Making a prediction on  Validation_Post_Event_009.jpg\n",
      "\n",
      "image 1/1 /Users/elenalickel/Desktop/EY_Challengev2/Submission data/Validation_Post_Event_009.jpg: 512x512 9 0s, 6 3s, 7 2s, 15 1s, 766.0ms\n",
      "Speed: 3.5ms preprocess, 766.0ms inference, 66.4ms postprocess per image at shape (1, 3, 512, 512)\n",
      "Results saved to \u001b[1m/Users/elenalickel/Desktop/EY_challengev2/runs/detect/predict35\u001b[0m\n",
      "1 label saved to /Users/elenalickel/Desktop/EY_challengev2/runs/detect/predict35/labels\n",
      "Output files generated successfully.\n",
      "Submission data/Validation_Post_Event_008.jpg\n",
      "Making a prediction on  Validation_Post_Event_008.jpg\n",
      "\n",
      "image 1/1 /Users/elenalickel/Desktop/EY_Challengev2/Submission data/Validation_Post_Event_008.jpg: 512x512 12 0s, 4 3s, 6 2s, 18 1s, 1247.1ms\n",
      "Speed: 3.6ms preprocess, 1247.1ms inference, 2.3ms postprocess per image at shape (1, 3, 512, 512)\n",
      "Results saved to \u001b[1m/Users/elenalickel/Desktop/EY_challengev2/runs/detect/predict35\u001b[0m\n",
      "2 labels saved to /Users/elenalickel/Desktop/EY_challengev2/runs/detect/predict35/labels\n",
      "Output files generated successfully.\n",
      "Submission data/Validation_Post_Event_011.jpg\n",
      "Making a prediction on  Validation_Post_Event_011.jpg\n",
      "\n",
      "image 1/1 /Users/elenalickel/Desktop/EY_Challengev2/Submission data/Validation_Post_Event_011.jpg: 512x512 6 0s, 4 3s, 6 2s, 13 1s, 1342.2ms\n",
      "Speed: 3.2ms preprocess, 1342.2ms inference, 2.3ms postprocess per image at shape (1, 3, 512, 512)\n",
      "Results saved to \u001b[1m/Users/elenalickel/Desktop/EY_challengev2/runs/detect/predict35\u001b[0m\n",
      "3 labels saved to /Users/elenalickel/Desktop/EY_challengev2/runs/detect/predict35/labels\n",
      "Output files generated successfully.\n",
      "Submission data/Validation_Post_Event_005.jpg\n",
      "Making a prediction on  Validation_Post_Event_005.jpg\n",
      "\n",
      "image 1/1 /Users/elenalickel/Desktop/EY_Challengev2/Submission data/Validation_Post_Event_005.jpg: 512x512 24 0s, 5 3s, 10 2s, 26 1s, 1861.8ms\n",
      "Speed: 3.4ms preprocess, 1861.8ms inference, 22.6ms postprocess per image at shape (1, 3, 512, 512)\n",
      "Results saved to \u001b[1m/Users/elenalickel/Desktop/EY_challengev2/runs/detect/predict35\u001b[0m\n",
      "4 labels saved to /Users/elenalickel/Desktop/EY_challengev2/runs/detect/predict35/labels\n",
      "Output files generated successfully.\n",
      "Submission data/Validation_Post_Event_004.jpg\n",
      "Making a prediction on  Validation_Post_Event_004.jpg\n",
      "\n",
      "image 1/1 /Users/elenalickel/Desktop/EY_Challengev2/Submission data/Validation_Post_Event_004.jpg: 512x512 8 0s, 4 3s, 3 2s, 8 1s, 2369.4ms\n",
      "Speed: 5.8ms preprocess, 2369.4ms inference, 3.3ms postprocess per image at shape (1, 3, 512, 512)\n",
      "Results saved to \u001b[1m/Users/elenalickel/Desktop/EY_challengev2/runs/detect/predict35\u001b[0m\n",
      "5 labels saved to /Users/elenalickel/Desktop/EY_challengev2/runs/detect/predict35/labels\n",
      "Output files generated successfully.\n",
      "Submission data/Validation_Post_Event_010.jpg\n",
      "Making a prediction on  Validation_Post_Event_010.jpg\n",
      "\n",
      "image 1/1 /Users/elenalickel/Desktop/EY_Challengev2/Submission data/Validation_Post_Event_010.jpg: 512x512 5 0s, 3 3s, 7 2s, 8 1s, 3653.5ms\n",
      "Speed: 3.6ms preprocess, 3653.5ms inference, 13.3ms postprocess per image at shape (1, 3, 512, 512)\n",
      "Results saved to \u001b[1m/Users/elenalickel/Desktop/EY_challengev2/runs/detect/predict35\u001b[0m\n",
      "6 labels saved to /Users/elenalickel/Desktop/EY_challengev2/runs/detect/predict35/labels\n",
      "Output files generated successfully.\n",
      "Submission data/Validation_Post_Event_006.jpg\n",
      "Making a prediction on  Validation_Post_Event_006.jpg\n",
      "\n",
      "image 1/1 /Users/elenalickel/Desktop/EY_Challengev2/Submission data/Validation_Post_Event_006.jpg: 512x512 24 0s, 2 3s, 10 2s, 27 1s, 2674.6ms\n",
      "Speed: 56.0ms preprocess, 2674.6ms inference, 15.8ms postprocess per image at shape (1, 3, 512, 512)\n",
      "Results saved to \u001b[1m/Users/elenalickel/Desktop/EY_challengev2/runs/detect/predict35\u001b[0m\n",
      "7 labels saved to /Users/elenalickel/Desktop/EY_challengev2/runs/detect/predict35/labels\n",
      "Output files generated successfully.\n",
      "Submission data/Validation_Post_Event_012.jpg\n",
      "Making a prediction on  Validation_Post_Event_012.jpg\n",
      "\n",
      "image 1/1 /Users/elenalickel/Desktop/EY_Challengev2/Submission data/Validation_Post_Event_012.jpg: 512x512 19 0s, 1 3, 8 2s, 20 1s, 5643.3ms\n",
      "Speed: 9.1ms preprocess, 5643.3ms inference, 15.3ms postprocess per image at shape (1, 3, 512, 512)\n",
      "Results saved to \u001b[1m/Users/elenalickel/Desktop/EY_challengev2/runs/detect/predict35\u001b[0m\n",
      "8 labels saved to /Users/elenalickel/Desktop/EY_challengev2/runs/detect/predict35/labels\n",
      "Output files generated successfully.\n",
      "Submission data/Validation_Post_Event_007.jpg\n",
      "Making a prediction on  Validation_Post_Event_007.jpg\n",
      "\n",
      "image 1/1 /Users/elenalickel/Desktop/EY_Challengev2/Submission data/Validation_Post_Event_007.jpg: 512x512 19 0s, 7 3s, 12 2s, 25 1s, 3771.2ms\n",
      "Speed: 23.6ms preprocess, 3771.2ms inference, 13.5ms postprocess per image at shape (1, 3, 512, 512)\n",
      "Results saved to \u001b[1m/Users/elenalickel/Desktop/EY_challengev2/runs/detect/predict35\u001b[0m\n",
      "9 labels saved to /Users/elenalickel/Desktop/EY_challengev2/runs/detect/predict35/labels\n",
      "Output files generated successfully.\n",
      "Submission data/Validation_Post_Event_003.jpg\n",
      "Making a prediction on  Validation_Post_Event_003.jpg\n",
      "\n",
      "image 1/1 /Users/elenalickel/Desktop/EY_Challengev2/Submission data/Validation_Post_Event_003.jpg: 512x512 15 0s, 2 3s, 2 2s, 18 1s, 2500.3ms\n",
      "Speed: 6.1ms preprocess, 2500.3ms inference, 3.6ms postprocess per image at shape (1, 3, 512, 512)\n",
      "Results saved to \u001b[1m/Users/elenalickel/Desktop/EY_challengev2/runs/detect/predict35\u001b[0m\n",
      "10 labels saved to /Users/elenalickel/Desktop/EY_challengev2/runs/detect/predict35/labels\n",
      "Output files generated successfully.\n",
      "Submission data/Validation_Post_Event_002.jpg\n",
      "Making a prediction on  Validation_Post_Event_002.jpg\n",
      "\n",
      "image 1/1 /Users/elenalickel/Desktop/EY_Challengev2/Submission data/Validation_Post_Event_002.jpg: 512x512 5 0s, 2 3s, 6 2s, 12 1s, 2081.7ms\n",
      "Speed: 12.2ms preprocess, 2081.7ms inference, 21.0ms postprocess per image at shape (1, 3, 512, 512)\n",
      "Results saved to \u001b[1m/Users/elenalickel/Desktop/EY_challengev2/runs/detect/predict35\u001b[0m\n",
      "11 labels saved to /Users/elenalickel/Desktop/EY_challengev2/runs/detect/predict35/labels\n",
      "Output files generated successfully.\n",
      "Submission data/Validation_Post_Event_001.jpg\n",
      "Making a prediction on  Validation_Post_Event_001.jpg\n",
      "\n",
      "image 1/1 /Users/elenalickel/Desktop/EY_Challengev2/Submission data/Validation_Post_Event_001.jpg: 512x512 21 0s, 5 3s, 13 2s, 29 1s, 2000.7ms\n",
      "Speed: 8.1ms preprocess, 2000.7ms inference, 11.9ms postprocess per image at shape (1, 3, 512, 512)\n",
      "Results saved to \u001b[1m/Users/elenalickel/Desktop/EY_challengev2/runs/detect/predict35\u001b[0m\n",
      "12 labels saved to /Users/elenalickel/Desktop/EY_challengev2/runs/detect/predict35/labels\n",
      "Output files generated successfully.\n"
     ]
    }
   ],
   "source": [
    "#predict on the submission data for zip\n",
    "# Decoding according to the .yaml file class names order\n",
    "decoding_of_predictions ={2: 'undamagedcommercialbuilding', 0: 'undamagedresidentialbuilding', 1: 'damagedresidentialbuilding', 3: 'damagedcommercialbuilding'}\n",
    "\n",
    "directory = 'Submission data'\n",
    "# Directory to store outputs\n",
    "results_directory = 'Validation_Data_Results'\n",
    "\n",
    "# Create submission directory if it doesn't exist\n",
    "if not os.path.exists(results_directory):\n",
    "    os.makedirs(results_directory)\n",
    "\n",
    "# Loop through each file in the directory\n",
    "for filename in os.listdir(directory):\n",
    "    # Check if the current object is a file and ends with .jpeg\n",
    "    if os.path.isfile(os.path.join(directory, filename)) and filename.lower().endswith('.jpg'):\n",
    "        # Perform operations on the file\n",
    "        file_path = os.path.join(directory, filename)\n",
    "        print(file_path)\n",
    "        print(\"Making a prediction on \", filename)\n",
    "        results = model.predict(file_path, save=True, iou=0.5, save_txt=True, conf=0.25)\n",
    "        \n",
    "        for r in results:\n",
    "            conf_list = r.boxes.conf.numpy().tolist()\n",
    "            clss_list = r.boxes.cls.numpy().tolist()\n",
    "            original_list = clss_list\n",
    "            updated_list = []\n",
    "            for element in original_list:\n",
    "                 updated_list.append(decoding_of_predictions[int(element)])\n",
    "\n",
    "        bounding_boxes = r.boxes.xyxy.numpy()\n",
    "        confidences = conf_list\n",
    "        class_names = updated_list\n",
    "\n",
    "        # Check if bounding boxes, confidences and class names match\n",
    "        if len(bounding_boxes) != len(confidences) or len(bounding_boxes) != len(class_names):\n",
    "            print(\"Error: Number of bounding boxes, confidences, and class names should be the same.\")\n",
    "            continue\n",
    "        text_file_name = os.path.splitext(filename)[0]\n",
    "        # Creating a new .txt file for each image in the submission_directory\n",
    "        with open(os.path.join(results_directory, f\"{text_file_name}.txt\"), \"w\") as file:\n",
    "            for i in range(len(bounding_boxes)):\n",
    "                # Get coordinates of each bounding box\n",
    "                left, top, right, bottom = bounding_boxes[i]\n",
    "                # Write content to file in desired format\n",
    "                file.write(f\"{class_names[i]} {confidences[i]} {left} {top} {right} {bottom}\\n\")\n",
    "        print(\"Output files generated successfully.\")\n"
   ]
  }
 ],
 "metadata": {
  "kernelspec": {
   "display_name": "venv",
   "language": "python",
   "name": "python3"
  },
  "language_info": {
   "codemirror_mode": {
    "name": "ipython",
    "version": 3
   },
   "file_extension": ".py",
   "mimetype": "text/x-python",
   "name": "python",
   "nbconvert_exporter": "python",
   "pygments_lexer": "ipython3",
   "version": "3.10.2"
  }
 },
 "nbformat": 4,
 "nbformat_minor": 2
}
